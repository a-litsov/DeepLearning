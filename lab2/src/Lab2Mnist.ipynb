{
 "cells": [
  {
   "cell_type": "code",
   "execution_count": 12,
   "metadata": {
    "scrolled": true
   },
   "outputs": [],
   "source": [
    "import tensorflow.keras\n",
    "import tensorflow as tf\n",
    "from keras.utils import to_categorical\n",
    "from keras import optimizers\n",
    "#from keras.optimizers import SGD\n",
    "from datetime import datetime"
   ]
  },
  {
   "cell_type": "markdown",
   "metadata": {},
   "source": [
    " ### Задача \n",
    "Разработка и запуск тестового примера сети,\n",
    "соответствующей логистической регрессии, для решения задачи классификации рукописных\n",
    "цифр набора данных MNIST "
   ]
  },
  {
   "cell_type": "code",
   "execution_count": 2,
   "metadata": {},
   "outputs": [],
   "source": [
    "#загрузка набора данных MNIST\n",
    "from keras.datasets import mnist\n",
    "(train_images, train_labels), (test_images, test_labels) = mnist.load_data()"
   ]
  },
  {
   "cell_type": "markdown",
   "metadata": {},
   "source": [
    "##### Тренировочный набор."
   ]
  },
  {
   "cell_type": "code",
   "execution_count": 3,
   "metadata": {},
   "outputs": [
    {
     "data": {
      "text/plain": [
       "(60000, 28, 28)"
      ]
     },
     "execution_count": 3,
     "metadata": {},
     "output_type": "execute_result"
    }
   ],
   "source": [
    "#тренировочный набор данных состоит из 60 000 изображений\n",
    "train_images.shape"
   ]
  },
  {
   "cell_type": "markdown",
   "metadata": {},
   "source": [
    "##### Тестовый набор."
   ]
  },
  {
   "cell_type": "code",
   "execution_count": 4,
   "metadata": {},
   "outputs": [
    {
     "data": {
      "text/plain": [
       "(10000, 28, 28)"
      ]
     },
     "execution_count": 4,
     "metadata": {},
     "output_type": "execute_result"
    }
   ],
   "source": [
    "#тестовый набор данных состоит из 10 000 изображений\n",
    "test_images.shape"
   ]
  },
  {
   "cell_type": "markdown",
   "metadata": {},
   "source": [
    "### Подготовка исходных данных."
   ]
  },
  {
   "cell_type": "code",
   "execution_count": 5,
   "metadata": {},
   "outputs": [],
   "source": [
    "#Преобразуем данные в массив (60 000, 28, 28) типа float32 со значениями в интервале [0,1]:\n",
    "train_images = train_images.reshape((60000, 28 * 28))\n",
    "train_images = train_images.astype('float32') / 255\n",
    "\n",
    "test_images = test_images.reshape((10000, 28 * 28))\n",
    "test_images = test_images.astype('float32') / 255"
   ]
  },
  {
   "cell_type": "markdown",
   "metadata": {},
   "source": [
    "##### Подготовка меток:"
   ]
  },
  {
   "cell_type": "code",
   "execution_count": 6,
   "metadata": {},
   "outputs": [
    {
     "data": {
      "text/plain": [
       "10"
      ]
     },
     "execution_count": 6,
     "metadata": {},
     "output_type": "execute_result"
    }
   ],
   "source": [
    "train_labels = to_categorical(train_labels) #приводит к одинаковой длине\n",
    "test_labels = to_categorical(test_labels)\n",
    "\n",
    "#10-мерный вектор, состоящий из 0, кроме \n",
    "len(train_labels[0])"
   ]
  },
  {
   "cell_type": "markdown",
   "metadata": {},
   "source": [
    "### Построение модели."
   ]
  },
  {
   "cell_type": "code",
   "execution_count": 7,
   "metadata": {},
   "outputs": [],
   "source": [
    "from keras import models\n",
    "from keras import layers"
   ]
  },
  {
   "cell_type": "code",
   "execution_count": 8,
   "metadata": {},
   "outputs": [],
   "source": [
    "#Sequential : линейный стек слоев оттображает единственный вход в единственный выход\n",
    "network = models.Sequential()\n",
    "\n",
    "#Dense : полносвязный слой\n",
    "#10 классов-> не меньше 10 скрытых нейронов\n",
    "num_hidden_neurons = 32\n",
    "num_classes = 10\n",
    "\n",
    "network.add(layers.Dense(num_hidden_neurons, activation='relu', input_shape=(28*28,)))\n",
    "#network.add(layers.Dense(20, activation='relu'))\n",
    "network.add(layers.Dense(num_classes, activation='softmax'))\n",
    "\n",
    "#Сумма 10-ти элем-ов = 1."
   ]
  },
  {
   "cell_type": "code",
   "execution_count": 14,
   "metadata": {},
   "outputs": [
    {
     "name": "stdout",
     "output_type": "stream",
     "text": [
      "Train on 60000 samples, validate on 10000 samples\n",
      "Epoch 1/20\n",
      "60000/60000 [==============================] - 2s 30us/step - loss: 1.0601 - acc: 0.8847 - val_loss: 0.9782 - val_acc: 0.8725\n",
      "Epoch 2/20\n",
      "60000/60000 [==============================] - 1s 24us/step - loss: 1.1299 - acc: 0.8807 - val_loss: 1.2891 - val_acc: 0.8820\n",
      "Epoch 3/20\n",
      "60000/60000 [==============================] - 1s 25us/step - loss: 1.1516 - acc: 0.8919 - val_loss: 1.2082 - val_acc: 0.8954\n",
      "Epoch 4/20\n",
      "60000/60000 [==============================] - 1s 24us/step - loss: 1.1935 - acc: 0.8890 - val_loss: 1.1211 - val_acc: 0.8819\n",
      "Epoch 5/20\n",
      "60000/60000 [==============================] - 1s 24us/step - loss: 1.0438 - acc: 0.8867 - val_loss: 1.0926 - val_acc: 0.8820\n",
      "Epoch 6/20\n",
      "60000/60000 [==============================] - 1s 24us/step - loss: 1.0785 - acc: 0.8898 - val_loss: 1.2666 - val_acc: 0.8684\n",
      "Epoch 7/20\n",
      "60000/60000 [==============================] - 2s 25us/step - loss: 1.2014 - acc: 0.8957 - val_loss: 1.1223 - val_acc: 0.8984\n",
      "Epoch 8/20\n",
      "60000/60000 [==============================] - 2s 25us/step - loss: 1.0653 - acc: 0.9022 - val_loss: 0.9845 - val_acc: 0.8939\n",
      "Epoch 9/20\n",
      "60000/60000 [==============================] - 2s 25us/step - loss: 1.0557 - acc: 0.8998 - val_loss: 1.0935 - val_acc: 0.8985\n",
      "Epoch 10/20\n",
      "60000/60000 [==============================] - 1s 24us/step - loss: 1.0843 - acc: 0.8943 - val_loss: 0.9727 - val_acc: 0.8807\n",
      "Epoch 11/20\n",
      "60000/60000 [==============================] - 1s 24us/step - loss: 1.1544 - acc: 0.8941 - val_loss: 1.3155 - val_acc: 0.8939\n",
      "Epoch 12/20\n",
      "60000/60000 [==============================] - 1s 24us/step - loss: 1.1335 - acc: 0.8924 - val_loss: 1.0487 - val_acc: 0.8789\n",
      "Epoch 13/20\n",
      "60000/60000 [==============================] - 1s 25us/step - loss: 1.0811 - acc: 0.8874 - val_loss: 1.4353 - val_acc: 0.8818\n",
      "Epoch 14/20\n",
      "60000/60000 [==============================] - 2s 26us/step - loss: 1.1181 - acc: 0.8919 - val_loss: 1.1378 - val_acc: 0.9004\n",
      "Epoch 15/20\n",
      "60000/60000 [==============================] - 1s 25us/step - loss: 1.1535 - acc: 0.8980 - val_loss: 1.3136 - val_acc: 0.8857\n",
      "Epoch 16/20\n",
      "60000/60000 [==============================] - 1s 24us/step - loss: 1.1992 - acc: 0.8878 - val_loss: 1.1629 - val_acc: 0.8809\n",
      "Epoch 17/20\n",
      "60000/60000 [==============================] - 2s 25us/step - loss: 1.1579 - acc: 0.9012 - val_loss: 1.2913 - val_acc: 0.8987\n",
      "Epoch 18/20\n",
      "60000/60000 [==============================] - 2s 26us/step - loss: 1.1172 - acc: 0.8986 - val_loss: 2.1017 - val_acc: 0.8219\n",
      "Epoch 19/20\n",
      "60000/60000 [==============================] - 2s 25us/step - loss: 1.1030 - acc: 0.8956 - val_loss: 1.1206 - val_acc: 0.8891\n",
      "Epoch 20/20\n",
      "60000/60000 [==============================] - 2s 25us/step - loss: 1.1753 - acc: 0.8916 - val_loss: 1.1750 - val_acc: 0.8953\n",
      "Time:  0:00:30.364039\n",
      "10000/10000 [==============================] - 0s 31us/step\n",
      "[1.174957964321971, 0.8953]\n"
     ]
    }
   ],
   "source": [
    "optimizer=optimizers.RMSprop(lr=0.1)\n",
    "network.compile(optimizer, loss='categorical_crossentropy', metrics=['accuracy'])\n",
    "\n",
    "time_start = datetime.now()\n",
    "history = network.fit(train_images, train_labels, shuffle=True, epochs=20, batch_size=128, validation_data=(test_images, test_labels))\n",
    "time = datetime.now() - time_start\n",
    "print('Time: ', time)\n",
    "\n",
    "results = network.evaluate(test_images, test_labels)\n",
    "print(results)\n",
    "#пакетным стохастическим градиентным спуском"
   ]
  }
 ],
 "metadata": {
  "kernelspec": {
   "display_name": "Python 3.6 (tensorflow)",
   "language": "python",
   "name": "tensorflow"
  },
  "language_info": {
   "codemirror_mode": {
    "name": "ipython",
    "version": 3
   },
   "file_extension": ".py",
   "mimetype": "text/x-python",
   "name": "python",
   "nbconvert_exporter": "python",
   "pygments_lexer": "ipython3",
   "version": "3.6.9"
  }
 },
 "nbformat": 4,
 "nbformat_minor": 2
}
