{
 "cells": [
  {
   "cell_type": "markdown",
   "metadata": {
    "_cell_guid": "7248fdfc-f7ab-4ffd-a6ff-24dc177c13e0",
    "_uuid": "16c1d1e7-b8df-4224-98cb-855cfae950f2"
   },
   "source": [
    "## Лабораторная работа №3"
   ]
  },
  {
   "cell_type": "markdown",
   "metadata": {
    "_cell_guid": "d4bf2992-87ea-432b-9fe0-110efa19687f",
    "_uuid": "97565e64-e9c3-4921-9285-7d6b42e7f0bb"
   },
   "source": [
    "### Импорты"
   ]
  },
  {
   "cell_type": "code",
   "execution_count": 1,
   "metadata": {
    "_cell_guid": "4bc1ee3d-0766-4ead-b518-9846e5c7d46a",
    "_uuid": "57eeb037-752e-4983-8816-b7cb5f12d8cd"
   },
   "outputs": [],
   "source": [
    "from tensorflow.keras.preprocessing.image import ImageDataGenerator\n",
    "\n",
    "from tensorflow.keras.models import Sequential, Model\n",
    "from tensorflow.keras import layers\n",
    "from tensorflow.keras.optimizers import SGD\n",
    "from tensorflow.keras.optimizers import RMSprop\n",
    "from sklearn.utils import shuffle\n",
    "from tensorflow.keras import optimizers\n",
    "from tensorflow.keras.utils import plot_model\n",
    "\n",
    "import numpy as np\n",
    "\n",
    "from IPython.display import SVG\n",
    "\n",
    "from datetime import datetime"
   ]
  },
  {
   "cell_type": "markdown",
   "metadata": {
    "_cell_guid": "8a25e1f5-de9a-4988-9a63-e59e6bdaa4ff",
    "_uuid": "0902771f-7881-474b-8344-12916535d392"
   },
   "source": [
    "### Загрузка данных"
   ]
  },
  {
   "cell_type": "code",
   "execution_count": 2,
   "metadata": {
    "_cell_guid": "3b2b40c5-19ac-4dee-b001-7c48b761a814",
    "_uuid": "d25beb56-acbd-4e1d-b890-68ddbb2bb59a"
   },
   "outputs": [
    {
     "name": "stdout",
     "output_type": "stream",
     "text": [
      "Found 14034 images belonging to 6 classes.\n",
      "Found 3000 images belonging to 6 classes.\n"
     ]
    }
   ],
   "source": [
    "BATCH = 128\n",
    "datagen = ImageDataGenerator(rescale=1./255)\n",
    "\n",
    "\n",
    "    \n",
    "train_data = datagen.flow_from_directory('/kaggle/input/intel-image-classification/seg_train/seg_train',\n",
    "                                        target_size=(150, 150),\n",
    "                                        batch_size=BATCH,\n",
    "                                        class_mode='categorical',\n",
    "                                        shuffle=True)\n",
    "\n",
    "test_data = datagen.flow_from_directory('/kaggle/input/intel-image-classification/seg_test/seg_test',\n",
    "                                        target_size=(150, 150),\n",
    "                                        batch_size=BATCH,\n",
    "                                        class_mode='categorical',\n",
    "                                        shuffle=True)"
   ]
  },
  {
   "cell_type": "code",
   "execution_count": 3,
   "metadata": {
    "_cell_guid": "a68200cc-73d4-402a-b3cd-14c4844988f4",
    "_uuid": "4b6aae1c-cc8b-4c2a-b2ae-e3a5becee69f",
    "scrolled": true
   },
   "outputs": [
    {
     "data": {
      "text/plain": [
       "{'buildings': 0,\n",
       " 'forest': 1,\n",
       " 'glacier': 2,\n",
       " 'mountain': 3,\n",
       " 'sea': 4,\n",
       " 'street': 5}"
      ]
     },
     "execution_count": 3,
     "metadata": {},
     "output_type": "execute_result"
    }
   ],
   "source": [
    "train_data.class_indices"
   ]
  },
  {
   "cell_type": "markdown",
   "metadata": {
    "_cell_guid": "080d352f-1b8d-455b-9e62-889098520004",
    "_uuid": "e9a03500-f103-409e-8496-59cb7b817a0b"
   },
   "source": [
    "Зададим общее количество эпох для тестирования конфигураций равное **20**."
   ]
  },
  {
   "cell_type": "code",
   "execution_count": 4,
   "metadata": {
    "_cell_guid": "c2a4424a-6054-4e00-b3cd-0b416b144deb",
    "_uuid": "4862144e-932e-422a-9e8a-13abcf9d0f35"
   },
   "outputs": [],
   "source": [
    "EPOCHS = 15"
   ]
  },
  {
   "cell_type": "markdown",
   "metadata": {
    "_cell_guid": "aa13345a-3985-4776-8dc7-019c4bc5befd",
    "_uuid": "ddfb56bd-1632-4710-86e7-2d71b7b8034c"
   },
   "source": [
    "## GPU Info"
   ]
  },
  {
   "cell_type": "code",
   "execution_count": 5,
   "metadata": {
    "_cell_guid": "f356ab15-0219-4e91-8562-2aa5045505a0",
    "_uuid": "91380928-378b-4227-8fbf-627906b09628"
   },
   "outputs": [
    {
     "name": "stdout",
     "output_type": "stream",
     "text": [
      "b'Wed Dec 11 09:01:43 2019       \n",
      "+-----------------------------------------------------------------------------+\n",
      "| NVIDIA-SMI 418.67       Driver Version: 418.67       CUDA Version: 10.1     |\n",
      "|-------------------------------+----------------------+----------------------+\n",
      "| GPU  Name        Persistence-M| Bus-Id        Disp.A | Volatile Uncorr. ECC |\n",
      "| Fan  Temp  Perf  Pwr:Usage/Cap|         Memory-Usage | GPU-Util  Compute M. |\n",
      "|===============================+======================+======================|\n",
      "|   0  Tesla P100-PCIE...  On   | 00000000:00:04.0 Off |                    0 |\n",
      "| N/A   36C    P0    25W / 250W |      0MiB / 16280MiB |      0%      Default |\n",
      "+-------------------------------+----------------------+----------------------+\n",
      "                                                                               \n",
      "+-----------------------------------------------------------------------------+\n",
      "| Processes:                                                       GPU Memory |\n",
      "|  GPU       PID   Type   Process name                             Usage      |\n",
      "|=============================================================================|\n",
      "|  No running processes found                                                 |\n",
      "+-----------------------------------------------------------------------------+\n",
      "'\n"
     ]
    }
   ],
   "source": [
    "import subprocess\n",
    "import pprint\n",
    "\n",
    "sp = subprocess.Popen(['nvidia-smi'], stdout=subprocess.PIPE, stderr=subprocess.PIPE)\n",
    "\n",
    "out_str = sp.communicate()\n",
    "out_list = str(out_str[0]).split('\\\\n')\n",
    "\n",
    "out_dict = {}\n",
    "\n",
    "for item in out_list:\n",
    "    print(item)"
   ]
  },
  {
   "cell_type": "code",
   "execution_count": 6,
   "metadata": {
    "_cell_guid": "a4bcda6f-fdb0-4f55-bea5-82d6a29042af",
    "_uuid": "d22b8e04-720f-486f-b303-9ae27dcbc39d"
   },
   "outputs": [],
   "source": [
    "def saveModel(model, filename):\n",
    "    model.summary()\n",
    "    plot_model(model,to_file=filename,show_shapes=True, expand_nested=True)"
   ]
  },
  {
   "cell_type": "markdown",
   "metadata": {},
   "source": [
    "Варьируемые параметры:\n",
    "* Количество фильтров (32, 64, 128)\n",
    "* Количество свёрточных слоёв (троек, состоящих из свёртки, функции активации и пространственного объединения)\n",
    "* Вид функции активации"
   ]
  },
  {
   "cell_type": "markdown",
   "metadata": {
    "_cell_guid": "8aef314a-7d43-42b6-acfb-ca8a5aad3ed3",
    "_uuid": "3847c6a5-a791-4347-a908-8bb7994b6f7f"
   },
   "source": [
    "### Конфигурация №1"
   ]
  },
  {
   "cell_type": "markdown",
   "metadata": {},
   "source": [
    "Начнём со следующей базовой конфигурации с одним свёрточным слоем и числом фильтров равным 3 (в два раза меньше, чем число классов):"
   ]
  },
  {
   "cell_type": "markdown",
   "metadata": {},
   "source": [
    "Без max pooling после последнего свёрточного слоя:"
   ]
  },
  {
   "cell_type": "code",
   "execution_count": 7,
   "metadata": {},
   "outputs": [
    {
     "name": "stdout",
     "output_type": "stream",
     "text": [
      "Model: \"sequential\"\n",
      "_________________________________________________________________\n",
      "Layer (type)                 Output Shape              Param #   \n",
      "=================================================================\n",
      "conv2d (Conv2D)              (None, 150, 150, 3)       84        \n",
      "_________________________________________________________________\n",
      "flatten (Flatten)            (None, 67500)             0         \n",
      "_________________________________________________________________\n",
      "dense (Dense)                (None, 256)               17280256  \n",
      "_________________________________________________________________\n",
      "dense_1 (Dense)              (None, 128)               32896     \n",
      "_________________________________________________________________\n",
      "dense_2 (Dense)              (None, 6)                 774       \n",
      "=================================================================\n",
      "Total params: 17,314,010\n",
      "Trainable params: 17,314,010\n",
      "Non-trainable params: 0\n",
      "_________________________________________________________________\n",
      "Epoch 1/15\n",
      "110/110 [==============================] - 57s 521ms/step - loss: 1.2504 - accuracy: 0.5135 - val_loss: 1.0403 - val_accuracy: 0.6127\n",
      "Epoch 2/15\n",
      "110/110 [==============================] - 33s 298ms/step - loss: 0.5848 - accuracy: 0.7967 - val_loss: 1.0932 - val_accuracy: 0.6150\n",
      "Epoch 3/15\n",
      "110/110 [==============================] - 33s 297ms/step - loss: 0.1673 - accuracy: 0.9515 - val_loss: 1.4169 - val_accuracy: 0.6157\n",
      "Epoch 4/15\n",
      "110/110 [==============================] - 33s 295ms/step - loss: 0.0545 - accuracy: 0.9884 - val_loss: 1.7036 - val_accuracy: 0.6083\n",
      "Epoch 5/15\n",
      "110/110 [==============================] - 33s 296ms/step - loss: 0.0262 - accuracy: 0.9960 - val_loss: 1.8751 - val_accuracy: 0.6187\n",
      "Epoch 6/15\n",
      "110/110 [==============================] - 33s 296ms/step - loss: 0.0160 - accuracy: 0.9981 - val_loss: 1.8582 - val_accuracy: 0.6237\n",
      "Epoch 7/15\n",
      "110/110 [==============================] - 33s 296ms/step - loss: 0.0112 - accuracy: 0.9985 - val_loss: 1.9987 - val_accuracy: 0.6233\n",
      "Epoch 8/15\n",
      "110/110 [==============================] - 33s 296ms/step - loss: 0.0115 - accuracy: 0.9984 - val_loss: 2.0179 - val_accuracy: 0.6183\n",
      "Epoch 9/15\n",
      "110/110 [==============================] - 33s 298ms/step - loss: 0.0078 - accuracy: 0.9990 - val_loss: 2.2172 - val_accuracy: 0.6200\n",
      "Epoch 10/15\n",
      "110/110 [==============================] - 33s 297ms/step - loss: 0.0078 - accuracy: 0.9989 - val_loss: 2.1749 - val_accuracy: 0.6207\n",
      "Epoch 11/15\n",
      "110/110 [==============================] - 32s 294ms/step - loss: 0.0073 - accuracy: 0.9990 - val_loss: 2.1469 - val_accuracy: 0.6273\n",
      "Epoch 12/15\n",
      "110/110 [==============================] - 33s 299ms/step - loss: 0.0074 - accuracy: 0.9989 - val_loss: 2.1662 - val_accuracy: 0.6210\n",
      "Epoch 13/15\n",
      "110/110 [==============================] - 33s 297ms/step - loss: 0.0064 - accuracy: 0.9990 - val_loss: 2.2561 - val_accuracy: 0.6163\n",
      "Epoch 14/15\n",
      "110/110 [==============================] - 32s 294ms/step - loss: 0.0066 - accuracy: 0.9991 - val_loss: 2.2547 - val_accuracy: 0.6243\n",
      "Epoch 15/15\n",
      "110/110 [==============================] - 32s 294ms/step - loss: 0.0065 - accuracy: 0.9989 - val_loss: 2.3530 - val_accuracy: 0.6150\n",
      "Time:  0:08:33.566199\n"
     ]
    }
   ],
   "source": [
    "model = Sequential([\n",
    "    layers.Conv2D(3, (3, 3), activation = 'relu', padding = 'same', input_shape = (150, 150, 3)),\n",
    "    layers.Flatten(),\n",
    "    layers.Dense(256, activation='relu'),\n",
    "    layers.Dense(128, activation='relu'),\n",
    "    layers.Dense(6, activation='softmax')\n",
    "])\n",
    "model.compile(optimizer = 'adam', loss = 'categorical_crossentropy', metrics=['accuracy'])\n",
    "\n",
    "saveModel(model, 'model1.png')\n",
    "\n",
    "time_start = datetime.now()\n",
    "history = model.fit_generator(train_data, steps_per_epoch=len(train_data), shuffle=True, epochs=EPOCHS, validation_steps=len(test_data), validation_data=test_data)\n",
    "print('Time: ', datetime.now() - time_start)"
   ]
  },
  {
   "cell_type": "markdown",
   "metadata": {},
   "source": [
    "С max pooling после последнего свёрточного слоя:"
   ]
  },
  {
   "cell_type": "code",
   "execution_count": 8,
   "metadata": {},
   "outputs": [
    {
     "name": "stdout",
     "output_type": "stream",
     "text": [
      "Model: \"sequential_1\"\n",
      "_________________________________________________________________\n",
      "Layer (type)                 Output Shape              Param #   \n",
      "=================================================================\n",
      "conv2d_1 (Conv2D)            (None, 150, 150, 3)       84        \n",
      "_________________________________________________________________\n",
      "max_pooling2d (MaxPooling2D) (None, 75, 75, 3)         0         \n",
      "_________________________________________________________________\n",
      "flatten_1 (Flatten)          (None, 16875)             0         \n",
      "_________________________________________________________________\n",
      "dense_3 (Dense)              (None, 256)               4320256   \n",
      "_________________________________________________________________\n",
      "dense_4 (Dense)              (None, 128)               32896     \n",
      "_________________________________________________________________\n",
      "dense_5 (Dense)              (None, 6)                 774       \n",
      "=================================================================\n",
      "Total params: 4,354,010\n",
      "Trainable params: 4,354,010\n",
      "Non-trainable params: 0\n",
      "_________________________________________________________________\n",
      "Epoch 1/15\n",
      "110/110 [==============================] - 35s 317ms/step - loss: 1.1126 - accuracy: 0.5646 - val_loss: 0.9496 - val_accuracy: 0.6353\n",
      "Epoch 2/15\n",
      "110/110 [==============================] - 34s 308ms/step - loss: 0.6653 - accuracy: 0.7575 - val_loss: 0.8700 - val_accuracy: 0.6643\n",
      "Epoch 3/15\n",
      "110/110 [==============================] - 34s 313ms/step - loss: 0.3913 - accuracy: 0.8709 - val_loss: 1.0715 - val_accuracy: 0.6593\n",
      "Epoch 4/15\n",
      "110/110 [==============================] - 34s 308ms/step - loss: 0.1968 - accuracy: 0.9425 - val_loss: 1.2099 - val_accuracy: 0.6667\n",
      "Epoch 5/15\n",
      "110/110 [==============================] - 34s 313ms/step - loss: 0.0911 - accuracy: 0.9783 - val_loss: 1.3400 - val_accuracy: 0.6537\n",
      "Epoch 6/15\n",
      "110/110 [==============================] - 35s 316ms/step - loss: 0.0559 - accuracy: 0.9885 - val_loss: 1.4732 - val_accuracy: 0.6617\n",
      "Epoch 7/15\n",
      "110/110 [==============================] - 33s 302ms/step - loss: 0.0300 - accuracy: 0.9957 - val_loss: 1.6302 - val_accuracy: 0.6657\n",
      "Epoch 8/15\n",
      "110/110 [==============================] - 33s 302ms/step - loss: 0.0172 - accuracy: 0.9979 - val_loss: 1.7376 - val_accuracy: 0.6587\n",
      "Epoch 9/15\n",
      "110/110 [==============================] - 33s 304ms/step - loss: 0.0152 - accuracy: 0.9981 - val_loss: 1.7327 - val_accuracy: 0.6587\n",
      "Epoch 10/15\n",
      "110/110 [==============================] - 33s 301ms/step - loss: 0.0159 - accuracy: 0.9979 - val_loss: 1.8132 - val_accuracy: 0.6660\n",
      "Epoch 11/15\n",
      "110/110 [==============================] - 33s 298ms/step - loss: 0.0113 - accuracy: 0.9984 - val_loss: 1.8053 - val_accuracy: 0.6673\n",
      "Epoch 12/15\n",
      "110/110 [==============================] - 34s 306ms/step - loss: 0.0164 - accuracy: 0.9967 - val_loss: 1.9003 - val_accuracy: 0.6490\n",
      "Epoch 13/15\n",
      "110/110 [==============================] - 33s 301ms/step - loss: 0.0273 - accuracy: 0.9927 - val_loss: 1.8067 - val_accuracy: 0.6587\n",
      "Epoch 14/15\n",
      "110/110 [==============================] - 32s 295ms/step - loss: 0.0248 - accuracy: 0.9932 - val_loss: 2.1210 - val_accuracy: 0.6333\n",
      "Epoch 15/15\n",
      "110/110 [==============================] - 34s 305ms/step - loss: 0.0670 - accuracy: 0.9795 - val_loss: 1.9197 - val_accuracy: 0.6420\n",
      "Time:  0:08:24.833099\n"
     ]
    }
   ],
   "source": [
    "model = Sequential([\n",
    "    layers.Conv2D(3, (3, 3), activation = 'relu', padding = 'same', input_shape = (150, 150, 3)),\n",
    "    layers.MaxPooling2D(2, 2),\n",
    "    layers.Flatten(),\n",
    "    layers.Dense(256, activation='relu'),\n",
    "    layers.Dense(128, activation='relu'),\n",
    "    layers.Dense(6, activation='softmax')\n",
    "])\n",
    "model.compile(optimizer = 'adam', loss = 'categorical_crossentropy', metrics=['accuracy'])\n",
    "\n",
    "saveModel(model, 'model1_pooling.png')\n",
    "\n",
    "time_start = datetime.now()\n",
    "history = model.fit_generator(train_data, steps_per_epoch=len(train_data), shuffle=True, epochs=EPOCHS, validation_steps=len(test_data), validation_data=test_data)\n",
    "print('Time: ', datetime.now() - time_start)"
   ]
  },
  {
   "cell_type": "markdown",
   "metadata": {},
   "source": [
    "## Конфигурация №2"
   ]
  },
  {
   "cell_type": "markdown",
   "metadata": {},
   "source": [
    "Без max pooling после последнего свёрточного слоя:"
   ]
  },
  {
   "cell_type": "code",
   "execution_count": 9,
   "metadata": {},
   "outputs": [
    {
     "name": "stdout",
     "output_type": "stream",
     "text": [
      "Model: \"sequential_2\"\n",
      "_________________________________________________________________\n",
      "Layer (type)                 Output Shape              Param #   \n",
      "=================================================================\n",
      "conv2d_2 (Conv2D)            (None, 150, 150, 3)       84        \n",
      "_________________________________________________________________\n",
      "flatten_2 (Flatten)          (None, 67500)             0         \n",
      "_________________________________________________________________\n",
      "dense_6 (Dense)              (None, 256)               17280256  \n",
      "_________________________________________________________________\n",
      "dense_7 (Dense)              (None, 128)               32896     \n",
      "_________________________________________________________________\n",
      "dense_8 (Dense)              (None, 6)                 774       \n",
      "=================================================================\n",
      "Total params: 17,314,010\n",
      "Trainable params: 17,314,010\n",
      "Non-trainable params: 0\n",
      "_________________________________________________________________\n",
      "Epoch 1/15\n",
      "110/110 [==============================] - 35s 316ms/step - loss: 3.8095 - accuracy: 0.4199 - val_loss: 1.3131 - val_accuracy: 0.5383\n",
      "Epoch 2/15\n",
      "110/110 [==============================] - 33s 300ms/step - loss: 1.0241 - accuracy: 0.6238 - val_loss: 1.2688 - val_accuracy: 0.5487\n",
      "Epoch 3/15\n",
      "110/110 [==============================] - 33s 298ms/step - loss: 0.7003 - accuracy: 0.7636 - val_loss: 1.3469 - val_accuracy: 0.5410\n",
      "Epoch 4/15\n",
      "110/110 [==============================] - 33s 297ms/step - loss: 0.4097 - accuracy: 0.8801 - val_loss: 1.4750 - val_accuracy: 0.5430\n",
      "Epoch 5/15\n",
      "110/110 [==============================] - 33s 300ms/step - loss: 0.2037 - accuracy: 0.9493 - val_loss: 1.7005 - val_accuracy: 0.5337\n",
      "Epoch 6/15\n",
      "110/110 [==============================] - 33s 300ms/step - loss: 0.1108 - accuracy: 0.9787 - val_loss: 1.9921 - val_accuracy: 0.5233\n",
      "Epoch 7/15\n",
      "110/110 [==============================] - 33s 301ms/step - loss: 0.0662 - accuracy: 0.9897 - val_loss: 2.1965 - val_accuracy: 0.5250\n",
      "Epoch 8/15\n",
      "110/110 [==============================] - 32s 295ms/step - loss: 0.0377 - accuracy: 0.9950 - val_loss: 2.2054 - val_accuracy: 0.5243\n",
      "Epoch 9/15\n",
      "110/110 [==============================] - 33s 302ms/step - loss: 0.0296 - accuracy: 0.9968 - val_loss: 2.3755 - val_accuracy: 0.5243\n",
      "Epoch 10/15\n",
      "110/110 [==============================] - 33s 297ms/step - loss: 0.0181 - accuracy: 0.9978 - val_loss: 2.5278 - val_accuracy: 0.5110\n",
      "Epoch 11/15\n",
      "110/110 [==============================] - 33s 296ms/step - loss: 0.0229 - accuracy: 0.9968 - val_loss: 2.6603 - val_accuracy: 0.5143\n",
      "Epoch 12/15\n",
      "110/110 [==============================] - 32s 295ms/step - loss: 0.0285 - accuracy: 0.9956 - val_loss: 2.6175 - val_accuracy: 0.5157\n",
      "Epoch 13/15\n",
      "110/110 [==============================] - 33s 298ms/step - loss: 0.0189 - accuracy: 0.9972 - val_loss: 2.7447 - val_accuracy: 0.5147\n",
      "Epoch 14/15\n",
      "110/110 [==============================] - 33s 298ms/step - loss: 0.0215 - accuracy: 0.9968 - val_loss: 2.9025 - val_accuracy: 0.4960\n",
      "Epoch 15/15\n",
      "110/110 [==============================] - 33s 301ms/step - loss: 0.0135 - accuracy: 0.9986 - val_loss: 2.9280 - val_accuracy: 0.5053\n",
      "Time:  0:08:14.428304\n"
     ]
    }
   ],
   "source": [
    "model = Sequential([\n",
    "    layers.Conv2D(3, (3, 3), activation = 'tanh', padding = 'same', input_shape = (150, 150, 3)),\n",
    "    layers.Flatten(),\n",
    "    layers.Dense(256, activation='relu'),\n",
    "    layers.Dense(128, activation='relu'),\n",
    "    layers.Dense(6, activation='softmax')\n",
    "])\n",
    "model.compile(optimizer = 'adam', loss = 'categorical_crossentropy', metrics=['accuracy'])\n",
    "\n",
    "saveModel(model, 'model2.png')\n",
    "\n",
    "time_start = datetime.now()\n",
    "history = model.fit_generator(train_data, steps_per_epoch=len(train_data), shuffle=True, epochs=EPOCHS, validation_steps=len(test_data), validation_data=test_data)\n",
    "print('Time: ', datetime.now() - time_start)"
   ]
  },
  {
   "cell_type": "markdown",
   "metadata": {},
   "source": [
    "С max pooling после последнего свёрточного слоя:"
   ]
  },
  {
   "cell_type": "code",
   "execution_count": 10,
   "metadata": {},
   "outputs": [
    {
     "name": "stdout",
     "output_type": "stream",
     "text": [
      "Model: \"sequential_3\"\n",
      "_________________________________________________________________\n",
      "Layer (type)                 Output Shape              Param #   \n",
      "=================================================================\n",
      "conv2d_3 (Conv2D)            (None, 150, 150, 3)       84        \n",
      "_________________________________________________________________\n",
      "max_pooling2d_1 (MaxPooling2 (None, 75, 75, 3)         0         \n",
      "_________________________________________________________________\n",
      "flatten_3 (Flatten)          (None, 16875)             0         \n",
      "_________________________________________________________________\n",
      "dense_9 (Dense)              (None, 256)               4320256   \n",
      "_________________________________________________________________\n",
      "dense_10 (Dense)             (None, 128)               32896     \n",
      "_________________________________________________________________\n",
      "dense_11 (Dense)             (None, 6)                 774       \n",
      "=================================================================\n",
      "Total params: 4,354,010\n",
      "Trainable params: 4,354,010\n",
      "Non-trainable params: 0\n",
      "_________________________________________________________________\n",
      "Epoch 1/15\n",
      "110/110 [==============================] - 35s 321ms/step - loss: 1.2975 - accuracy: 0.5560 - val_loss: 1.0436 - val_accuracy: 0.6003\n",
      "Epoch 2/15\n",
      "110/110 [==============================] - 33s 302ms/step - loss: 0.9081 - accuracy: 0.6557 - val_loss: 0.9467 - val_accuracy: 0.6450\n",
      "Epoch 3/15\n",
      "110/110 [==============================] - 33s 302ms/step - loss: 0.7681 - accuracy: 0.7117 - val_loss: 0.9867 - val_accuracy: 0.6387\n",
      "Epoch 4/15\n",
      "110/110 [==============================] - 33s 297ms/step - loss: 0.6298 - accuracy: 0.7696 - val_loss: 0.9300 - val_accuracy: 0.6667\n",
      "Epoch 5/15\n",
      "110/110 [==============================] - 33s 299ms/step - loss: 0.5247 - accuracy: 0.8090 - val_loss: 0.9731 - val_accuracy: 0.6710\n",
      "Epoch 6/15\n",
      "110/110 [==============================] - 33s 296ms/step - loss: 0.4141 - accuracy: 0.8531 - val_loss: 1.0384 - val_accuracy: 0.6797\n",
      "Epoch 7/15\n",
      "110/110 [==============================] - 33s 302ms/step - loss: 0.3067 - accuracy: 0.8950 - val_loss: 1.0540 - val_accuracy: 0.6737\n",
      "Epoch 8/15\n",
      "110/110 [==============================] - 33s 299ms/step - loss: 0.2237 - accuracy: 0.9294 - val_loss: 1.1329 - val_accuracy: 0.6720\n",
      "Epoch 9/15\n",
      "110/110 [==============================] - 33s 303ms/step - loss: 0.1669 - accuracy: 0.9474 - val_loss: 1.3469 - val_accuracy: 0.6457\n",
      "Epoch 10/15\n",
      "110/110 [==============================] - 34s 305ms/step - loss: 0.1372 - accuracy: 0.9597 - val_loss: 1.4110 - val_accuracy: 0.6467\n",
      "Epoch 11/15\n",
      "110/110 [==============================] - 33s 301ms/step - loss: 0.1152 - accuracy: 0.9676 - val_loss: 1.5464 - val_accuracy: 0.6477\n",
      "Epoch 12/15\n",
      "110/110 [==============================] - 34s 307ms/step - loss: 0.1050 - accuracy: 0.9733 - val_loss: 1.5437 - val_accuracy: 0.6480\n",
      "Epoch 13/15\n",
      "110/110 [==============================] - 33s 301ms/step - loss: 0.0524 - accuracy: 0.9882 - val_loss: 1.5972 - val_accuracy: 0.6620\n",
      "Epoch 14/15\n",
      "110/110 [==============================] - 33s 301ms/step - loss: 0.0354 - accuracy: 0.9929 - val_loss: 1.6990 - val_accuracy: 0.6583\n",
      "Epoch 15/15\n",
      "110/110 [==============================] - 33s 296ms/step - loss: 0.0309 - accuracy: 0.9930 - val_loss: 1.7057 - val_accuracy: 0.6523\n",
      "Time:  0:08:18.630137\n"
     ]
    }
   ],
   "source": [
    "model = Sequential([\n",
    "    layers.Conv2D(3, (3, 3), activation = 'tanh', padding = 'same', input_shape = (150, 150, 3)),\n",
    "    layers.MaxPooling2D(2, 2),\n",
    "    layers.Flatten(),\n",
    "    layers.Dense(256, activation='relu'),\n",
    "    layers.Dense(128, activation='relu'),\n",
    "    layers.Dense(6, activation='softmax')\n",
    "])\n",
    "model.compile(optimizer = 'adam', loss = 'categorical_crossentropy', metrics=['accuracy'])\n",
    "\n",
    "saveModel(model, 'model2_pooling.png')\n",
    "\n",
    "time_start = datetime.now()\n",
    "history = model.fit_generator(train_data, steps_per_epoch=len(train_data), shuffle=True, epochs=EPOCHS, validation_steps=len(test_data), validation_data=test_data)\n",
    "print('Time: ', datetime.now() - time_start)"
   ]
  },
  {
   "cell_type": "markdown",
   "metadata": {},
   "source": [
    "Анализ результата:\n",
    "* точность на тестовой выборке на 20% выше, чем лучший результат, полученный в первой лабораторной работе (полносвязные сети);\n",
    "* тем не менее, есть определённая уверенность, что полученный результат можно улучшить, поскольку наблюдается довольно быстрое переобучение (уже на четвёртой итерации точность на обучающей выборке больше чем на 30% выше, чем на тестовой и почти достигает максимального значения.\n",
    "* тестовую точность можно улучшить за счёт увеличения количества фильтров в сети как минимум до числа классов и дальше. Это объясняется тем, что полученный на выходе свёрточного слоя трёхмерный тензор можно рассматривать как пиксель исходного изображения и соответствующая ему вероятность принадлежности его к одному из классов. Для такой интерпретации потребуется как минимум 6 фильтров (число классов в задаче). Проверим нашу теорию в следующей конфигурации.\n",
    "---"
   ]
  },
  {
   "cell_type": "markdown",
   "metadata": {},
   "source": [
    "## Конфигурация №3"
   ]
  },
  {
   "cell_type": "markdown",
   "metadata": {},
   "source": [
    "Без max pooling после последнего свёрточного слоя:"
   ]
  },
  {
   "cell_type": "code",
   "execution_count": 11,
   "metadata": {},
   "outputs": [
    {
     "name": "stdout",
     "output_type": "stream",
     "text": [
      "Model: \"sequential_4\"\n",
      "_________________________________________________________________\n",
      "Layer (type)                 Output Shape              Param #   \n",
      "=================================================================\n",
      "conv2d_4 (Conv2D)            (None, 150, 150, 6)       168       \n",
      "_________________________________________________________________\n",
      "flatten_4 (Flatten)          (None, 135000)            0         \n",
      "_________________________________________________________________\n",
      "dense_12 (Dense)             (None, 256)               34560256  \n",
      "_________________________________________________________________\n",
      "dense_13 (Dense)             (None, 128)               32896     \n",
      "_________________________________________________________________\n",
      "dense_14 (Dense)             (None, 6)                 774       \n",
      "=================================================================\n",
      "Total params: 34,594,094\n",
      "Trainable params: 34,594,094\n",
      "Non-trainable params: 0\n",
      "_________________________________________________________________\n",
      "Epoch 1/15\n",
      "110/110 [==============================] - 35s 315ms/step - loss: 2.6383 - accuracy: 0.5014 - val_loss: 1.0730 - val_accuracy: 0.6063\n",
      "Epoch 2/15\n",
      "110/110 [==============================] - 33s 300ms/step - loss: 0.6530 - accuracy: 0.7795 - val_loss: 0.8855 - val_accuracy: 0.6900\n",
      "Epoch 3/15\n",
      "110/110 [==============================] - 33s 301ms/step - loss: 0.1695 - accuracy: 0.9567 - val_loss: 1.0260 - val_accuracy: 0.6877\n",
      "Epoch 4/15\n",
      "110/110 [==============================] - 34s 305ms/step - loss: 0.0412 - accuracy: 0.9928 - val_loss: 1.1871 - val_accuracy: 0.6797\n",
      "Epoch 5/15\n",
      "110/110 [==============================] - 33s 303ms/step - loss: 0.0168 - accuracy: 0.9976 - val_loss: 1.2420 - val_accuracy: 0.7053\n",
      "Epoch 6/15\n",
      "110/110 [==============================] - 34s 305ms/step - loss: 0.0110 - accuracy: 0.9984 - val_loss: 1.2955 - val_accuracy: 0.7077\n",
      "Epoch 7/15\n",
      "110/110 [==============================] - 33s 298ms/step - loss: 0.0069 - accuracy: 0.9989 - val_loss: 1.3733 - val_accuracy: 0.7110\n",
      "Epoch 8/15\n",
      "110/110 [==============================] - 33s 297ms/step - loss: 0.0064 - accuracy: 0.9986 - val_loss: 1.4677 - val_accuracy: 0.6990\n",
      "Epoch 9/15\n",
      "110/110 [==============================] - 33s 298ms/step - loss: 0.0044 - accuracy: 0.9988 - val_loss: 1.4758 - val_accuracy: 0.6983\n",
      "Epoch 10/15\n",
      "110/110 [==============================] - 33s 298ms/step - loss: 0.0045 - accuracy: 0.9988 - val_loss: 1.4663 - val_accuracy: 0.7060\n",
      "Epoch 11/15\n",
      "110/110 [==============================] - 33s 299ms/step - loss: 0.0045 - accuracy: 0.9989 - val_loss: 1.4947 - val_accuracy: 0.6997\n",
      "Epoch 12/15\n",
      "110/110 [==============================] - 33s 300ms/step - loss: 0.0037 - accuracy: 0.9989 - val_loss: 1.4329 - val_accuracy: 0.7097\n",
      "Epoch 13/15\n",
      "110/110 [==============================] - 34s 308ms/step - loss: 0.0036 - accuracy: 0.9989 - val_loss: 1.4994 - val_accuracy: 0.7057\n",
      "Epoch 14/15\n",
      "110/110 [==============================] - 34s 307ms/step - loss: 0.0035 - accuracy: 0.9989 - val_loss: 1.4999 - val_accuracy: 0.7067\n",
      "Epoch 15/15\n",
      "110/110 [==============================] - 33s 304ms/step - loss: 0.0026 - accuracy: 0.9988 - val_loss: 1.5136 - val_accuracy: 0.7107\n",
      "Time:  0:08:19.703370\n"
     ]
    }
   ],
   "source": [
    "model = Sequential([\n",
    "    layers.Conv2D(6, (3, 3), activation = 'relu', padding = 'same', input_shape = (150, 150, 3)),\n",
    "    layers.Flatten(),\n",
    "    layers.Dense(256, activation='relu'),\n",
    "    layers.Dense(128, activation='relu'),\n",
    "    layers.Dense(6, activation='softmax')\n",
    "])\n",
    "model.compile(optimizer = 'adam', loss = 'categorical_crossentropy', metrics=['accuracy'])\n",
    "\n",
    "saveModel(model, 'model3.png')\n",
    "\n",
    "time_start = datetime.now()\n",
    "history = model.fit_generator(train_data, steps_per_epoch=len(train_data), shuffle=True, epochs=EPOCHS, validation_steps=len(test_data), validation_data=test_data)\n",
    "print('Time: ', datetime.now() - time_start)"
   ]
  },
  {
   "cell_type": "markdown",
   "metadata": {},
   "source": [
    "С max pooling после последнего свёрточного слоя:"
   ]
  },
  {
   "cell_type": "code",
   "execution_count": 12,
   "metadata": {},
   "outputs": [
    {
     "name": "stdout",
     "output_type": "stream",
     "text": [
      "Model: \"sequential_5\"\n",
      "_________________________________________________________________\n",
      "Layer (type)                 Output Shape              Param #   \n",
      "=================================================================\n",
      "conv2d_5 (Conv2D)            (None, 150, 150, 6)       168       \n",
      "_________________________________________________________________\n",
      "max_pooling2d_2 (MaxPooling2 (None, 75, 75, 6)         0         \n",
      "_________________________________________________________________\n",
      "flatten_5 (Flatten)          (None, 33750)             0         \n",
      "_________________________________________________________________\n",
      "dense_15 (Dense)             (None, 256)               8640256   \n",
      "_________________________________________________________________\n",
      "dense_16 (Dense)             (None, 128)               32896     \n",
      "_________________________________________________________________\n",
      "dense_17 (Dense)             (None, 6)                 774       \n",
      "=================================================================\n",
      "Total params: 8,674,094\n",
      "Trainable params: 8,674,094\n",
      "Non-trainable params: 0\n",
      "_________________________________________________________________\n",
      "Epoch 1/15\n",
      "110/110 [==============================] - 35s 320ms/step - loss: 2.3991 - accuracy: 0.4912 - val_loss: 0.9553 - val_accuracy: 0.6487\n",
      "Epoch 2/15\n",
      "110/110 [==============================] - 33s 301ms/step - loss: 0.8350 - accuracy: 0.6987 - val_loss: 0.8677 - val_accuracy: 0.6883\n",
      "Epoch 3/15\n",
      "110/110 [==============================] - 33s 302ms/step - loss: 0.6802 - accuracy: 0.7597 - val_loss: 0.8781 - val_accuracy: 0.6733\n",
      "Epoch 4/15\n",
      "110/110 [==============================] - 33s 302ms/step - loss: 0.5451 - accuracy: 0.8175 - val_loss: 0.8474 - val_accuracy: 0.7020\n",
      "Epoch 5/15\n",
      "110/110 [==============================] - 33s 302ms/step - loss: 0.4178 - accuracy: 0.8684 - val_loss: 0.8772 - val_accuracy: 0.7067\n",
      "Epoch 6/15\n",
      "110/110 [==============================] - 34s 305ms/step - loss: 0.2917 - accuracy: 0.9129 - val_loss: 0.9462 - val_accuracy: 0.6930\n",
      "Epoch 7/15\n",
      "110/110 [==============================] - 33s 304ms/step - loss: 0.2056 - accuracy: 0.9441 - val_loss: 1.0326 - val_accuracy: 0.6767\n",
      "Epoch 8/15\n",
      "110/110 [==============================] - 34s 308ms/step - loss: 0.1264 - accuracy: 0.9688 - val_loss: 1.1070 - val_accuracy: 0.6833\n",
      "Epoch 9/15\n",
      "110/110 [==============================] - 33s 303ms/step - loss: 0.0770 - accuracy: 0.9841 - val_loss: 1.1862 - val_accuracy: 0.7017\n",
      "Epoch 10/15\n",
      "110/110 [==============================] - 33s 303ms/step - loss: 0.0481 - accuracy: 0.9919 - val_loss: 1.2330 - val_accuracy: 0.7003\n",
      "Epoch 11/15\n",
      "110/110 [==============================] - 33s 302ms/step - loss: 0.0352 - accuracy: 0.9948 - val_loss: 1.4056 - val_accuracy: 0.6817\n",
      "Epoch 12/15\n",
      "110/110 [==============================] - 33s 300ms/step - loss: 0.0272 - accuracy: 0.9964 - val_loss: 1.4146 - val_accuracy: 0.6827\n",
      "Epoch 13/15\n",
      "110/110 [==============================] - 33s 303ms/step - loss: 0.0255 - accuracy: 0.9966 - val_loss: 1.4873 - val_accuracy: 0.6873\n",
      "Epoch 14/15\n",
      "110/110 [==============================] - 33s 303ms/step - loss: 0.0163 - accuracy: 0.9982 - val_loss: 1.5836 - val_accuracy: 0.6747\n",
      "Epoch 15/15\n",
      "110/110 [==============================] - 34s 305ms/step - loss: 0.0263 - accuracy: 0.9947 - val_loss: 1.4869 - val_accuracy: 0.6870\n",
      "Time:  0:08:22.126041\n"
     ]
    }
   ],
   "source": [
    "model = Sequential([\n",
    "    layers.Conv2D(6, (3, 3), activation = 'relu', padding = 'same', input_shape = (150, 150, 3)),\n",
    "    layers.MaxPooling2D(2, 2),\n",
    "    layers.Flatten(),\n",
    "    layers.Dense(256, activation='relu'),\n",
    "    layers.Dense(128, activation='relu'),\n",
    "    layers.Dense(6, activation='softmax')\n",
    "])\n",
    "model.compile(optimizer = 'adam', loss = 'categorical_crossentropy', metrics=['accuracy'])\n",
    "\n",
    "saveModel(model, 'model3_pooling.png')\n",
    "\n",
    "time_start = datetime.now()\n",
    "history = model.fit_generator(train_data, steps_per_epoch=len(train_data), shuffle=True, epochs=EPOCHS, validation_steps=len(test_data), validation_data=test_data)\n",
    "print('Time: ', datetime.now() - time_start)"
   ]
  },
  {
   "cell_type": "markdown",
   "metadata": {},
   "source": [
    "## Конфигурация №4"
   ]
  },
  {
   "cell_type": "markdown",
   "metadata": {},
   "source": [
    "Без max pooling после последнего свёрточного слоя:"
   ]
  },
  {
   "cell_type": "code",
   "execution_count": 13,
   "metadata": {},
   "outputs": [
    {
     "name": "stdout",
     "output_type": "stream",
     "text": [
      "Model: \"sequential_6\"\n",
      "_________________________________________________________________\n",
      "Layer (type)                 Output Shape              Param #   \n",
      "=================================================================\n",
      "conv2d_6 (Conv2D)            (None, 150, 150, 6)       168       \n",
      "_________________________________________________________________\n",
      "flatten_6 (Flatten)          (None, 135000)            0         \n",
      "_________________________________________________________________\n",
      "dense_18 (Dense)             (None, 256)               34560256  \n",
      "_________________________________________________________________\n",
      "dense_19 (Dense)             (None, 128)               32896     \n",
      "_________________________________________________________________\n",
      "dense_20 (Dense)             (None, 6)                 774       \n",
      "=================================================================\n",
      "Total params: 34,594,094\n",
      "Trainable params: 34,594,094\n",
      "Non-trainable params: 0\n",
      "_________________________________________________________________\n",
      "Epoch 1/15\n",
      "110/110 [==============================] - 36s 323ms/step - loss: 13.4933 - accuracy: 0.1567 - val_loss: 13.7578 - val_accuracy: 0.1457\n",
      "Epoch 2/15\n",
      "110/110 [==============================] - 34s 311ms/step - loss: 13.6022 - accuracy: 0.1561 - val_loss: 13.7578 - val_accuracy: 0.1457\n",
      "Epoch 3/15\n",
      "110/110 [==============================] - 34s 312ms/step - loss: 13.6003 - accuracy: 0.1561 - val_loss: 13.7578 - val_accuracy: 0.1457\n",
      "Epoch 4/15\n",
      "110/110 [==============================] - 34s 310ms/step - loss: 13.6029 - accuracy: 0.1561 - val_loss: 13.7578 - val_accuracy: 0.1457\n",
      "Epoch 5/15\n",
      "110/110 [==============================] - 34s 308ms/step - loss: 13.6016 - accuracy: 0.1561 - val_loss: 13.7578 - val_accuracy: 0.1457\n",
      "Epoch 6/15\n",
      "110/110 [==============================] - 34s 309ms/step - loss: 13.6016 - accuracy: 0.1561 - val_loss: 13.7578 - val_accuracy: 0.1457\n",
      "Epoch 7/15\n",
      "110/110 [==============================] - 34s 308ms/step - loss: 13.5997 - accuracy: 0.1561 - val_loss: 13.7578 - val_accuracy: 0.1457\n",
      "Epoch 8/15\n",
      "110/110 [==============================] - 34s 305ms/step - loss: 13.6035 - accuracy: 0.1561 - val_loss: 13.7780 - val_accuracy: 0.1457\n",
      "Epoch 9/15\n",
      "110/110 [==============================] - 33s 302ms/step - loss: 13.6041 - accuracy: 0.1561 - val_loss: 13.7780 - val_accuracy: 0.1457\n",
      "Epoch 10/15\n",
      "110/110 [==============================] - 34s 305ms/step - loss: 13.6035 - accuracy: 0.1561 - val_loss: 13.7780 - val_accuracy: 0.1457\n",
      "Epoch 11/15\n",
      "110/110 [==============================] - 34s 306ms/step - loss: 13.5997 - accuracy: 0.1561 - val_loss: 13.7780 - val_accuracy: 0.1457\n",
      "Epoch 12/15\n",
      "110/110 [==============================] - 34s 308ms/step - loss: 13.6041 - accuracy: 0.1561 - val_loss: 13.7780 - val_accuracy: 0.1457\n",
      "Epoch 13/15\n",
      "110/110 [==============================] - 33s 302ms/step - loss: 13.6035 - accuracy: 0.1561 - val_loss: 13.7780 - val_accuracy: 0.1457\n",
      "Epoch 14/15\n",
      "110/110 [==============================] - 33s 303ms/step - loss: 13.5997 - accuracy: 0.1561 - val_loss: 13.7780 - val_accuracy: 0.1457\n",
      "Epoch 15/15\n",
      "110/110 [==============================] - 33s 303ms/step - loss: 13.6022 - accuracy: 0.1561 - val_loss: 13.7780 - val_accuracy: 0.1457\n",
      "Time:  0:08:27.979642\n"
     ]
    }
   ],
   "source": [
    "model = Sequential([\n",
    "    layers.Conv2D(6, (3, 3), activation = 'tanh', padding = 'same', input_shape = (150, 150, 3)),\n",
    "    layers.Flatten(),\n",
    "    layers.Dense(256, activation='relu'),\n",
    "    layers.Dense(128, activation='relu'),\n",
    "    layers.Dense(6, activation='softmax')\n",
    "])\n",
    "model.compile(optimizer = 'adam', loss = 'categorical_crossentropy', metrics=['accuracy'])\n",
    "\n",
    "saveModel(model, 'model4.png')\n",
    "\n",
    "time_start = datetime.now()\n",
    "history = model.fit_generator(train_data, steps_per_epoch=len(train_data), shuffle=True, epochs=EPOCHS, validation_steps=len(test_data), validation_data=test_data)\n",
    "print('Time: ', datetime.now() - time_start)"
   ]
  },
  {
   "cell_type": "markdown",
   "metadata": {},
   "source": [
    "С max pooling после последнего свёрточного слоя:"
   ]
  },
  {
   "cell_type": "code",
   "execution_count": 14,
   "metadata": {},
   "outputs": [
    {
     "name": "stdout",
     "output_type": "stream",
     "text": [
      "Model: \"sequential_7\"\n",
      "_________________________________________________________________\n",
      "Layer (type)                 Output Shape              Param #   \n",
      "=================================================================\n",
      "conv2d_7 (Conv2D)            (None, 150, 150, 6)       168       \n",
      "_________________________________________________________________\n",
      "max_pooling2d_3 (MaxPooling2 (None, 75, 75, 6)         0         \n",
      "_________________________________________________________________\n",
      "flatten_7 (Flatten)          (None, 33750)             0         \n",
      "_________________________________________________________________\n",
      "dense_21 (Dense)             (None, 256)               8640256   \n",
      "_________________________________________________________________\n",
      "dense_22 (Dense)             (None, 128)               32896     \n",
      "_________________________________________________________________\n",
      "dense_23 (Dense)             (None, 6)                 774       \n",
      "=================================================================\n",
      "Total params: 8,674,094\n",
      "Trainable params: 8,674,094\n",
      "Non-trainable params: 0\n",
      "_________________________________________________________________\n",
      "Epoch 1/15\n",
      "110/110 [==============================] - 35s 321ms/step - loss: 2.3282 - accuracy: 0.5108 - val_loss: 0.9981 - val_accuracy: 0.6410\n",
      "Epoch 2/15\n",
      "110/110 [==============================] - 33s 304ms/step - loss: 0.8428 - accuracy: 0.6952 - val_loss: 0.9069 - val_accuracy: 0.6790\n",
      "Epoch 3/15\n",
      "110/110 [==============================] - 33s 302ms/step - loss: 0.6885 - accuracy: 0.7552 - val_loss: 0.8588 - val_accuracy: 0.6987\n",
      "Epoch 4/15\n",
      "110/110 [==============================] - 33s 303ms/step - loss: 0.5411 - accuracy: 0.8105 - val_loss: 0.8777 - val_accuracy: 0.7047\n",
      "Epoch 5/15\n",
      "110/110 [==============================] - 34s 306ms/step - loss: 0.4202 - accuracy: 0.8587 - val_loss: 0.8897 - val_accuracy: 0.6957\n",
      "Epoch 6/15\n",
      "110/110 [==============================] - 34s 313ms/step - loss: 0.2780 - accuracy: 0.9142 - val_loss: 0.8911 - val_accuracy: 0.7213\n",
      "Epoch 7/15\n",
      "110/110 [==============================] - 33s 304ms/step - loss: 0.1859 - accuracy: 0.9461 - val_loss: 1.0016 - val_accuracy: 0.7023\n",
      "Epoch 8/15\n",
      "110/110 [==============================] - 33s 302ms/step - loss: 0.1160 - accuracy: 0.9688 - val_loss: 1.0066 - val_accuracy: 0.7127\n",
      "Epoch 9/15\n",
      "110/110 [==============================] - 33s 303ms/step - loss: 0.0693 - accuracy: 0.9836 - val_loss: 1.0828 - val_accuracy: 0.7050\n",
      "Epoch 10/15\n",
      "110/110 [==============================] - 33s 301ms/step - loss: 0.0673 - accuracy: 0.9835 - val_loss: 1.2744 - val_accuracy: 0.6873\n",
      "Epoch 11/15\n",
      "110/110 [==============================] - 33s 303ms/step - loss: 0.0487 - accuracy: 0.9888 - val_loss: 1.1456 - val_accuracy: 0.7193\n",
      "Epoch 12/15\n",
      "110/110 [==============================] - 33s 302ms/step - loss: 0.0364 - accuracy: 0.9924 - val_loss: 1.2093 - val_accuracy: 0.7173\n",
      "Epoch 13/15\n",
      "110/110 [==============================] - 33s 302ms/step - loss: 0.0228 - accuracy: 0.9961 - val_loss: 1.2483 - val_accuracy: 0.7167\n",
      "Epoch 14/15\n",
      "110/110 [==============================] - 34s 306ms/step - loss: 0.0156 - accuracy: 0.9981 - val_loss: 1.2591 - val_accuracy: 0.7203\n",
      "Epoch 15/15\n",
      "110/110 [==============================] - 34s 310ms/step - loss: 0.0111 - accuracy: 0.9985 - val_loss: 1.3733 - val_accuracy: 0.7080\n",
      "Time:  0:08:24.004402\n"
     ]
    }
   ],
   "source": [
    "model = Sequential([\n",
    "    layers.Conv2D(6, (3, 3), activation = 'tanh', padding = 'same', input_shape = (150, 150, 3)),\n",
    "    layers.MaxPooling2D(2, 2),\n",
    "    layers.Flatten(),\n",
    "    layers.Dense(256, activation='relu'),\n",
    "    layers.Dense(128, activation='relu'),\n",
    "    layers.Dense(6, activation='softmax')\n",
    "])\n",
    "model.compile(optimizer = 'adam', loss = 'categorical_crossentropy', metrics=['accuracy'])\n",
    "\n",
    "saveModel(model, 'model4_pooling.png')\n",
    "\n",
    "time_start = datetime.now()\n",
    "history = model.fit_generator(train_data, steps_per_epoch=len(train_data), shuffle=True, epochs=EPOCHS, validation_steps=len(test_data), validation_data=test_data)\n",
    "print('Time: ', datetime.now() - time_start)"
   ]
  },
  {
   "cell_type": "markdown",
   "metadata": {},
   "source": [
    "### Анализ результатов\n",
    "* мы улучшили точность на тестовой выборке почти на 10 процентов, это радует\n",
    "* удалось снизить скорость переобучения, так на четвёртой итерации разница между точностью на обучающей и тестовой выборке сократилась на 10% по сравнению с прошлой конфигурацией\n",
    "* наша теория о том, что число фильтров должно быть как минимум равно числу классов подтвердилась и дала закономерную прибавку в точности\n",
    "---"
   ]
  },
  {
   "cell_type": "markdown",
   "metadata": {},
   "source": [
    "## Конфигурация 5\n",
    "Продолжим увеличивать число фильтров и оставим пока всё так же один свёрточный слой. Гипотеза: заметной прибавки в тестовой точности это не даст."
   ]
  },
  {
   "cell_type": "markdown",
   "metadata": {},
   "source": [
    "Без max pooling после последнего свёрточного слоя:"
   ]
  },
  {
   "cell_type": "code",
   "execution_count": 15,
   "metadata": {
    "_cell_guid": "03f65b88-83db-4265-9f2b-c22615a0c0a7",
    "_uuid": "3b0bb221-918f-4f83-b481-91999f18f95f"
   },
   "outputs": [
    {
     "name": "stdout",
     "output_type": "stream",
     "text": [
      "Model: \"sequential_8\"\n",
      "_________________________________________________________________\n",
      "Layer (type)                 Output Shape              Param #   \n",
      "=================================================================\n",
      "conv2d_8 (Conv2D)            (None, 150, 150, 12)      336       \n",
      "_________________________________________________________________\n",
      "flatten_8 (Flatten)          (None, 270000)            0         \n",
      "_________________________________________________________________\n",
      "dense_24 (Dense)             (None, 256)               69120256  \n",
      "_________________________________________________________________\n",
      "dense_25 (Dense)             (None, 128)               32896     \n",
      "_________________________________________________________________\n",
      "dense_26 (Dense)             (None, 6)                 774       \n",
      "=================================================================\n",
      "Total params: 69,154,262\n",
      "Trainable params: 69,154,262\n",
      "Non-trainable params: 0\n",
      "_________________________________________________________________\n",
      "Epoch 1/15\n",
      "110/110 [==============================] - 36s 327ms/step - loss: 13.1451 - accuracy: 0.1776 - val_loss: 13.2961 - val_accuracy: 0.1750\n",
      "Epoch 2/15\n",
      "110/110 [==============================] - 34s 306ms/step - loss: 13.2335 - accuracy: 0.1790 - val_loss: 13.2961 - val_accuracy: 0.1750\n",
      "Epoch 3/15\n",
      "110/110 [==============================] - 34s 310ms/step - loss: 13.2328 - accuracy: 0.1790 - val_loss: 13.3028 - val_accuracy: 0.1750\n",
      "Epoch 4/15\n",
      "110/110 [==============================] - 34s 307ms/step - loss: 13.2309 - accuracy: 0.1790 - val_loss: 13.3028 - val_accuracy: 0.1750\n",
      "Epoch 5/15\n",
      "110/110 [==============================] - 33s 302ms/step - loss: 13.2360 - accuracy: 0.1790 - val_loss: 13.3028 - val_accuracy: 0.1750\n",
      "Epoch 6/15\n",
      "110/110 [==============================] - 33s 301ms/step - loss: 13.2335 - accuracy: 0.1790 - val_loss: 13.3028 - val_accuracy: 0.1750\n",
      "Epoch 7/15\n",
      "110/110 [==============================] - 33s 302ms/step - loss: 13.2348 - accuracy: 0.1790 - val_loss: 13.3028 - val_accuracy: 0.1750\n",
      "Epoch 8/15\n",
      "110/110 [==============================] - 34s 309ms/step - loss: 13.2354 - accuracy: 0.1790 - val_loss: 13.3028 - val_accuracy: 0.1750\n",
      "Epoch 9/15\n",
      "110/110 [==============================] - 34s 310ms/step - loss: 13.2328 - accuracy: 0.1790 - val_loss: 13.3028 - val_accuracy: 0.1750\n",
      "Epoch 10/15\n",
      "110/110 [==============================] - 34s 305ms/step - loss: 13.2341 - accuracy: 0.1790 - val_loss: 13.3028 - val_accuracy: 0.1750\n",
      "Epoch 11/15\n",
      "110/110 [==============================] - 34s 305ms/step - loss: 13.2335 - accuracy: 0.1790 - val_loss: 13.3028 - val_accuracy: 0.1750\n",
      "Epoch 12/15\n",
      "110/110 [==============================] - 33s 304ms/step - loss: 13.2348 - accuracy: 0.1790 - val_loss: 13.3028 - val_accuracy: 0.1750\n",
      "Epoch 13/15\n",
      "110/110 [==============================] - 33s 299ms/step - loss: 13.2328 - accuracy: 0.1790 - val_loss: 13.3028 - val_accuracy: 0.1750\n",
      "Epoch 14/15\n",
      "110/110 [==============================] - 33s 302ms/step - loss: 13.2328 - accuracy: 0.1790 - val_loss: 13.3231 - val_accuracy: 0.1750\n",
      "Epoch 15/15\n",
      "110/110 [==============================] - 33s 301ms/step - loss: 13.2316 - accuracy: 0.1790 - val_loss: 13.3231 - val_accuracy: 0.1750\n",
      "Time:  0:08:25.112071\n"
     ]
    }
   ],
   "source": [
    "model = Sequential([\n",
    "    layers.Conv2D(12, (3, 3), activation = 'relu', padding = 'same', input_shape = (150, 150, 3)),\n",
    "    layers.Flatten(),\n",
    "    layers.Dense(256, activation='relu'),\n",
    "    layers.Dense(128, activation='relu'),\n",
    "    layers.Dense(6, activation='softmax')\n",
    "])\n",
    "model.compile(optimizer = 'adam', loss = 'categorical_crossentropy', metrics=['accuracy'])\n",
    "\n",
    "saveModel(model, 'model5.png')\n",
    "\n",
    "time_start = datetime.now()\n",
    "history = model.fit_generator(train_data, steps_per_epoch=len(train_data), shuffle=True, epochs=EPOCHS, validation_steps=len(test_data), validation_data=test_data)\n",
    "print('Time: ', datetime.now() - time_start)"
   ]
  },
  {
   "cell_type": "markdown",
   "metadata": {},
   "source": [
    "С max pooling после последнего свёрточного слоя:"
   ]
  },
  {
   "cell_type": "code",
   "execution_count": 16,
   "metadata": {},
   "outputs": [
    {
     "name": "stdout",
     "output_type": "stream",
     "text": [
      "Model: \"sequential_9\"\n",
      "_________________________________________________________________\n",
      "Layer (type)                 Output Shape              Param #   \n",
      "=================================================================\n",
      "conv2d_9 (Conv2D)            (None, 150, 150, 12)      336       \n",
      "_________________________________________________________________\n",
      "max_pooling2d_4 (MaxPooling2 (None, 75, 75, 12)        0         \n",
      "_________________________________________________________________\n",
      "flatten_9 (Flatten)          (None, 67500)             0         \n",
      "_________________________________________________________________\n",
      "dense_27 (Dense)             (None, 256)               17280256  \n",
      "_________________________________________________________________\n",
      "dense_28 (Dense)             (None, 128)               32896     \n",
      "_________________________________________________________________\n",
      "dense_29 (Dense)             (None, 6)                 774       \n",
      "=================================================================\n",
      "Total params: 17,314,262\n",
      "Trainable params: 17,314,262\n",
      "Non-trainable params: 0\n",
      "_________________________________________________________________\n",
      "Epoch 1/15\n",
      "110/110 [==============================] - 35s 318ms/step - loss: 7.3680 - accuracy: 0.3442 - val_loss: 1.1566 - val_accuracy: 0.5440\n",
      "Epoch 2/15\n",
      "110/110 [==============================] - 33s 301ms/step - loss: 0.9184 - accuracy: 0.6549 - val_loss: 0.8576 - val_accuracy: 0.6757\n",
      "Epoch 3/15\n",
      "110/110 [==============================] - 34s 308ms/step - loss: 0.5180 - accuracy: 0.8189 - val_loss: 0.8093 - val_accuracy: 0.7110\n",
      "Epoch 4/15\n",
      "110/110 [==============================] - 33s 298ms/step - loss: 0.2502 - accuracy: 0.9218 - val_loss: 0.9379 - val_accuracy: 0.6960\n",
      "Epoch 5/15\n",
      "110/110 [==============================] - 33s 299ms/step - loss: 0.1063 - accuracy: 0.9731 - val_loss: 0.9893 - val_accuracy: 0.7143\n",
      "Epoch 6/15\n",
      "110/110 [==============================] - 33s 296ms/step - loss: 0.0517 - accuracy: 0.9894 - val_loss: 1.0669 - val_accuracy: 0.7247\n",
      "Epoch 7/15\n",
      "110/110 [==============================] - 33s 297ms/step - loss: 0.0278 - accuracy: 0.9959 - val_loss: 1.2282 - val_accuracy: 0.7120\n",
      "Epoch 8/15\n",
      "110/110 [==============================] - 33s 301ms/step - loss: 0.0197 - accuracy: 0.9978 - val_loss: 1.2599 - val_accuracy: 0.7283\n",
      "Epoch 9/15\n",
      "110/110 [==============================] - 33s 297ms/step - loss: 0.0134 - accuracy: 0.9982 - val_loss: 1.3166 - val_accuracy: 0.7180\n",
      "Epoch 10/15\n",
      "110/110 [==============================] - 33s 300ms/step - loss: 0.0113 - accuracy: 0.9985 - val_loss: 1.2872 - val_accuracy: 0.7230\n",
      "Epoch 11/15\n",
      "110/110 [==============================] - 33s 299ms/step - loss: 0.0114 - accuracy: 0.9986 - val_loss: 1.2673 - val_accuracy: 0.7320\n",
      "Epoch 12/15\n",
      "110/110 [==============================] - 33s 300ms/step - loss: 0.0087 - accuracy: 0.9985 - val_loss: 1.3440 - val_accuracy: 0.7313\n",
      "Epoch 13/15\n",
      "110/110 [==============================] - 34s 308ms/step - loss: 0.0064 - accuracy: 0.9989 - val_loss: 1.4007 - val_accuracy: 0.7273\n",
      "Epoch 14/15\n",
      "110/110 [==============================] - 33s 303ms/step - loss: 0.0089 - accuracy: 0.9988 - val_loss: 1.4246 - val_accuracy: 0.7133\n",
      "Epoch 15/15\n",
      "110/110 [==============================] - 33s 299ms/step - loss: 0.0053 - accuracy: 0.9990 - val_loss: 1.4708 - val_accuracy: 0.7190\n",
      "Time:  0:08:17.589026\n"
     ]
    }
   ],
   "source": [
    "model = Sequential([\n",
    "    layers.Conv2D(12, (3, 3), activation = 'relu', padding = 'same', input_shape = (150, 150, 3)),\n",
    "    layers.MaxPooling2D(2, 2),\n",
    "    layers.Flatten(),\n",
    "    layers.Dense(256, activation='relu'),\n",
    "    layers.Dense(128, activation='relu'),\n",
    "    layers.Dense(6, activation='softmax')\n",
    "])\n",
    "model.compile(optimizer = 'adam', loss = 'categorical_crossentropy', metrics=['accuracy'])\n",
    "\n",
    "saveModel(model, 'model5_pooling.png')\n",
    "\n",
    "time_start = datetime.now()\n",
    "history = model.fit_generator(train_data, steps_per_epoch=len(train_data), shuffle=True, epochs=EPOCHS, validation_steps=len(test_data), validation_data=test_data)\n",
    "print('Time: ', datetime.now() - time_start)"
   ]
  },
  {
   "cell_type": "markdown",
   "metadata": {},
   "source": [
    "## Конфигурация №6"
   ]
  },
  {
   "cell_type": "markdown",
   "metadata": {},
   "source": [
    "Без max pooling после последнего свёрточного слоя:"
   ]
  },
  {
   "cell_type": "code",
   "execution_count": 17,
   "metadata": {},
   "outputs": [
    {
     "name": "stdout",
     "output_type": "stream",
     "text": [
      "Model: \"sequential_10\"\n",
      "_________________________________________________________________\n",
      "Layer (type)                 Output Shape              Param #   \n",
      "=================================================================\n",
      "conv2d_10 (Conv2D)           (None, 150, 150, 12)      336       \n",
      "_________________________________________________________________\n",
      "flatten_10 (Flatten)         (None, 270000)            0         \n",
      "_________________________________________________________________\n",
      "dense_30 (Dense)             (None, 256)               69120256  \n",
      "_________________________________________________________________\n",
      "dense_31 (Dense)             (None, 128)               32896     \n",
      "_________________________________________________________________\n",
      "dense_32 (Dense)             (None, 6)                 774       \n",
      "=================================================================\n",
      "Total params: 69,154,262\n",
      "Trainable params: 69,154,262\n",
      "Non-trainable params: 0\n",
      "_________________________________________________________________\n",
      "Epoch 1/15\n",
      "110/110 [==============================] - 35s 318ms/step - loss: 13.4058 - accuracy: 0.1614 - val_loss: 13.5839 - val_accuracy: 0.1580\n",
      "Epoch 2/15\n",
      "110/110 [==============================] - 33s 304ms/step - loss: 13.5107 - accuracy: 0.1618 - val_loss: 13.5772 - val_accuracy: 0.1580\n",
      "Epoch 3/15\n",
      "110/110 [==============================] - 33s 301ms/step - loss: 13.5113 - accuracy: 0.1618 - val_loss: 13.5772 - val_accuracy: 0.1580\n",
      "Epoch 4/15\n",
      "110/110 [==============================] - 33s 300ms/step - loss: 13.5100 - accuracy: 0.1618 - val_loss: 13.5772 - val_accuracy: 0.1580\n",
      "Epoch 5/15\n",
      "110/110 [==============================] - 33s 299ms/step - loss: 13.5081 - accuracy: 0.1618 - val_loss: 13.5772 - val_accuracy: 0.1580\n",
      "Epoch 6/15\n",
      "110/110 [==============================] - 33s 303ms/step - loss: 13.5138 - accuracy: 0.1618 - val_loss: 13.5772 - val_accuracy: 0.1580\n",
      "Epoch 7/15\n",
      "110/110 [==============================] - 34s 310ms/step - loss: 13.5075 - accuracy: 0.1618 - val_loss: 13.5772 - val_accuracy: 0.1580\n",
      "Epoch 8/15\n",
      "110/110 [==============================] - 33s 298ms/step - loss: 13.5100 - accuracy: 0.1618 - val_loss: 13.5772 - val_accuracy: 0.1580\n",
      "Epoch 9/15\n",
      "110/110 [==============================] - 33s 299ms/step - loss: 13.5068 - accuracy: 0.1618 - val_loss: 13.5772 - val_accuracy: 0.1580\n",
      "Epoch 10/15\n",
      "110/110 [==============================] - 33s 300ms/step - loss: 13.5126 - accuracy: 0.1618 - val_loss: 13.5772 - val_accuracy: 0.1580\n",
      "Epoch 11/15\n",
      "110/110 [==============================] - 34s 309ms/step - loss: 13.5119 - accuracy: 0.1618 - val_loss: 13.5772 - val_accuracy: 0.1580\n",
      "Epoch 12/15\n",
      "110/110 [==============================] - 35s 315ms/step - loss: 13.5081 - accuracy: 0.1618 - val_loss: 13.5772 - val_accuracy: 0.1580\n",
      "Epoch 13/15\n",
      "110/110 [==============================] - 35s 315ms/step - loss: 13.5107 - accuracy: 0.1618 - val_loss: 13.5772 - val_accuracy: 0.1580\n",
      "Epoch 14/15\n",
      "110/110 [==============================] - 35s 315ms/step - loss: 13.5094 - accuracy: 0.1618 - val_loss: 13.5772 - val_accuracy: 0.1580\n",
      "Epoch 15/15\n",
      "110/110 [==============================] - 35s 319ms/step - loss: 13.5107 - accuracy: 0.1618 - val_loss: 13.5772 - val_accuracy: 0.1580\n",
      "Time:  0:08:26.612460\n"
     ]
    }
   ],
   "source": [
    "model = Sequential([\n",
    "    layers.Conv2D(12, (3, 3), activation = 'tanh', padding = 'same', input_shape = (150, 150, 3)),\n",
    "    layers.Flatten(),\n",
    "    layers.Dense(256, activation='relu'),\n",
    "    layers.Dense(128, activation='relu'),\n",
    "    layers.Dense(6, activation='softmax')\n",
    "])\n",
    "model.compile(optimizer = 'adam', loss = 'categorical_crossentropy', metrics=['accuracy'])\n",
    "\n",
    "saveModel(model, 'model6.png')\n",
    "\n",
    "time_start = datetime.now()\n",
    "history = model.fit_generator(train_data, steps_per_epoch=len(train_data), shuffle=True, epochs=EPOCHS, validation_steps=len(test_data), validation_data=test_data)\n",
    "print('Time: ', datetime.now() - time_start)"
   ]
  },
  {
   "cell_type": "markdown",
   "metadata": {},
   "source": [
    "С max pooling после последнего свёрточного слоя:"
   ]
  },
  {
   "cell_type": "code",
   "execution_count": 18,
   "metadata": {},
   "outputs": [
    {
     "name": "stdout",
     "output_type": "stream",
     "text": [
      "Model: \"sequential_11\"\n",
      "_________________________________________________________________\n",
      "Layer (type)                 Output Shape              Param #   \n",
      "=================================================================\n",
      "conv2d_11 (Conv2D)           (None, 150, 150, 12)      336       \n",
      "_________________________________________________________________\n",
      "max_pooling2d_5 (MaxPooling2 (None, 75, 75, 12)        0         \n",
      "_________________________________________________________________\n",
      "flatten_11 (Flatten)         (None, 67500)             0         \n",
      "_________________________________________________________________\n",
      "dense_33 (Dense)             (None, 256)               17280256  \n",
      "_________________________________________________________________\n",
      "dense_34 (Dense)             (None, 128)               32896     \n",
      "_________________________________________________________________\n",
      "dense_35 (Dense)             (None, 6)                 774       \n",
      "=================================================================\n",
      "Total params: 17,314,262\n",
      "Trainable params: 17,314,262\n",
      "Non-trainable params: 0\n",
      "_________________________________________________________________\n",
      "Epoch 1/15\n",
      "110/110 [==============================] - 37s 337ms/step - loss: 13.2338 - accuracy: 0.1702 - val_loss: 13.3862 - val_accuracy: 0.1670\n",
      "Epoch 2/15\n",
      "110/110 [==============================] - 33s 303ms/step - loss: 12.6398 - accuracy: 0.1920 - val_loss: 5.6177 - val_accuracy: 0.4317\n",
      "Epoch 3/15\n",
      "110/110 [==============================] - 34s 305ms/step - loss: 1.1849 - accuracy: 0.6236 - val_loss: 0.8725 - val_accuracy: 0.6817\n",
      "Epoch 4/15\n",
      "110/110 [==============================] - 33s 299ms/step - loss: 0.6821 - accuracy: 0.7600 - val_loss: 0.8696 - val_accuracy: 0.6837\n",
      "Epoch 5/15\n",
      "110/110 [==============================] - 33s 298ms/step - loss: 0.4970 - accuracy: 0.8311 - val_loss: 0.7850 - val_accuracy: 0.7240\n",
      "Epoch 6/15\n",
      "110/110 [==============================] - 33s 304ms/step - loss: 0.3281 - accuracy: 0.8996 - val_loss: 0.7905 - val_accuracy: 0.7383\n",
      "Epoch 7/15\n",
      "110/110 [==============================] - 34s 312ms/step - loss: 0.2074 - accuracy: 0.9416 - val_loss: 0.8321 - val_accuracy: 0.7367\n",
      "Epoch 8/15\n",
      "110/110 [==============================] - 34s 313ms/step - loss: 0.1189 - accuracy: 0.9711 - val_loss: 0.8775 - val_accuracy: 0.7380\n",
      "Epoch 9/15\n",
      "110/110 [==============================] - 35s 318ms/step - loss: 0.0687 - accuracy: 0.9867 - val_loss: 0.9953 - val_accuracy: 0.7293\n",
      "Epoch 10/15\n",
      "110/110 [==============================] - 35s 314ms/step - loss: 0.0600 - accuracy: 0.9863 - val_loss: 1.3129 - val_accuracy: 0.6957\n",
      "Epoch 11/15\n",
      "110/110 [==============================] - 34s 305ms/step - loss: 0.0338 - accuracy: 0.9940 - val_loss: 1.1351 - val_accuracy: 0.7323\n",
      "Epoch 12/15\n",
      "110/110 [==============================] - 33s 299ms/step - loss: 0.0209 - accuracy: 0.9969 - val_loss: 1.0825 - val_accuracy: 0.7460\n",
      "Epoch 13/15\n",
      "110/110 [==============================] - 33s 298ms/step - loss: 0.0172 - accuracy: 0.9974 - val_loss: 1.1502 - val_accuracy: 0.7353\n",
      "Epoch 14/15\n",
      "110/110 [==============================] - 33s 300ms/step - loss: 0.0123 - accuracy: 0.9985 - val_loss: 1.1779 - val_accuracy: 0.7440\n",
      "Epoch 15/15\n",
      "110/110 [==============================] - 33s 296ms/step - loss: 0.0097 - accuracy: 0.9988 - val_loss: 1.2254 - val_accuracy: 0.7403\n",
      "Time:  0:08:26.169944\n"
     ]
    }
   ],
   "source": [
    "model = Sequential([\n",
    "    layers.Conv2D(12, (3, 3), activation = 'tanh', padding = 'same', input_shape = (150, 150, 3)),\n",
    "    layers.MaxPooling2D(2, 2),\n",
    "    layers.Flatten(),\n",
    "    layers.Dense(256, activation='relu'),\n",
    "    layers.Dense(128, activation='relu'),\n",
    "    layers.Dense(6, activation='softmax')\n",
    "])\n",
    "model.compile(optimizer = 'adam', loss = 'categorical_crossentropy', metrics=['accuracy'])\n",
    "\n",
    "saveModel(model, 'model6_pooling.png')\n",
    "\n",
    "time_start = datetime.now()\n",
    "history = model.fit_generator(train_data, steps_per_epoch=len(train_data), shuffle=True, epochs=EPOCHS, validation_steps=len(test_data), validation_data=test_data)\n",
    "print('Time: ', datetime.now() - time_start)"
   ]
  },
  {
   "cell_type": "markdown",
   "metadata": {},
   "source": [
    "### Анализ результатов:\n",
    "* Как и ожидалось, сколь-нибудь ощутимой прибавки в точности на тестовой выборке по сравнению с предыдущей конфигурацией мы не получили\n",
    "* Дальнейшее увеличение числа фильтров при одном свёрточном слое особо смысла не имеет: используя 12 фильтров вместо 6 (число классов), мы начинаем классифицировать пиксели уже не на 6 классов, а на 12, но данных для такой классификации недостаточно (поскольку в действительности у нас всего 6 классов).\n",
    "---"
   ]
  },
  {
   "cell_type": "markdown",
   "metadata": {
    "_cell_guid": "891944cc-e9d2-48ee-9ca8-d438f9920cf7",
    "_uuid": "3b095287-6ebe-48f8-86fa-4e42b2de4c89"
   },
   "source": [
    "## Конфигурация №7"
   ]
  },
  {
   "cell_type": "markdown",
   "metadata": {},
   "source": [
    "Введём ещё один свёрточный слой. Первый слой будет иметь 32 фильтра, второй - 6 фильтров. Такая \"двухуровневая\" свёртка имеет следующую интерпретацию: сперва мы попробуем распознать более сложные элементы изображения, а затем на основании полученного выхода проведём уже привычную свёртку с 6 фильтрами, выход который можно будет интерпретировать так: пикселю исходного изображение и соответствующей ему вероятности принадлежности к одному из классов. Если сойдутся звёзды, мы получим рост точности."
   ]
  },
  {
   "cell_type": "markdown",
   "metadata": {},
   "source": [
    "Без max pooling после последнего свёрточного слоя:"
   ]
  },
  {
   "cell_type": "code",
   "execution_count": 19,
   "metadata": {
    "_cell_guid": "f9d60fd1-9d72-4772-b27d-e5cb30f8ec95",
    "_uuid": "85e10f30-377c-4f9d-a4dd-ebc56fe3bb11"
   },
   "outputs": [
    {
     "name": "stdout",
     "output_type": "stream",
     "text": [
      "Model: \"sequential_12\"\n",
      "_________________________________________________________________\n",
      "Layer (type)                 Output Shape              Param #   \n",
      "=================================================================\n",
      "conv2d_12 (Conv2D)           (None, 150, 150, 32)      896       \n",
      "_________________________________________________________________\n",
      "max_pooling2d_6 (MaxPooling2 (None, 75, 75, 32)        0         \n",
      "_________________________________________________________________\n",
      "conv2d_13 (Conv2D)           (None, 75, 75, 6)         1734      \n",
      "_________________________________________________________________\n",
      "flatten_12 (Flatten)         (None, 33750)             0         \n",
      "_________________________________________________________________\n",
      "dense_36 (Dense)             (None, 256)               8640256   \n",
      "_________________________________________________________________\n",
      "dense_37 (Dense)             (None, 128)               32896     \n",
      "_________________________________________________________________\n",
      "dense_38 (Dense)             (None, 6)                 774       \n",
      "=================================================================\n",
      "Total params: 8,676,556\n",
      "Trainable params: 8,676,556\n",
      "Non-trainable params: 0\n",
      "_________________________________________________________________\n",
      "Epoch 1/15\n",
      "110/110 [==============================] - 36s 326ms/step - loss: 1.2400 - accuracy: 0.5027 - val_loss: 0.9623 - val_accuracy: 0.6147\n",
      "Epoch 2/15\n",
      "110/110 [==============================] - 34s 308ms/step - loss: 0.8610 - accuracy: 0.6605 - val_loss: 1.0556 - val_accuracy: 0.5910\n",
      "Epoch 3/15\n",
      "110/110 [==============================] - 34s 314ms/step - loss: 0.6487 - accuracy: 0.7557 - val_loss: 0.9489 - val_accuracy: 0.6490\n",
      "Epoch 4/15\n",
      "110/110 [==============================] - 34s 311ms/step - loss: 0.4093 - accuracy: 0.8521 - val_loss: 1.1463 - val_accuracy: 0.6400\n",
      "Epoch 5/15\n",
      "110/110 [==============================] - 34s 306ms/step - loss: 0.2016 - accuracy: 0.9344 - val_loss: 1.2395 - val_accuracy: 0.6557\n",
      "Epoch 6/15\n",
      "110/110 [==============================] - 34s 309ms/step - loss: 0.1004 - accuracy: 0.9724 - val_loss: 1.5738 - val_accuracy: 0.6440\n",
      "Epoch 7/15\n",
      "110/110 [==============================] - 34s 305ms/step - loss: 0.0540 - accuracy: 0.9862 - val_loss: 1.7947 - val_accuracy: 0.6490\n",
      "Epoch 8/15\n",
      "110/110 [==============================] - 34s 307ms/step - loss: 0.0315 - accuracy: 0.9934 - val_loss: 1.9171 - val_accuracy: 0.6470\n",
      "Epoch 9/15\n",
      "110/110 [==============================] - 34s 309ms/step - loss: 0.0215 - accuracy: 0.9965 - val_loss: 2.0365 - val_accuracy: 0.6363\n",
      "Epoch 10/15\n",
      "110/110 [==============================] - 34s 310ms/step - loss: 0.0230 - accuracy: 0.9954 - val_loss: 2.0535 - val_accuracy: 0.6413\n",
      "Epoch 11/15\n",
      "110/110 [==============================] - 34s 313ms/step - loss: 0.0407 - accuracy: 0.9890 - val_loss: 2.1201 - val_accuracy: 0.6387\n",
      "Epoch 12/15\n",
      "110/110 [==============================] - 35s 319ms/step - loss: 0.0341 - accuracy: 0.9905 - val_loss: 2.2606 - val_accuracy: 0.6330\n",
      "Epoch 13/15\n",
      "110/110 [==============================] - 35s 320ms/step - loss: 0.0330 - accuracy: 0.9907 - val_loss: 2.1131 - val_accuracy: 0.6267\n",
      "Epoch 14/15\n",
      "110/110 [==============================] - 35s 315ms/step - loss: 0.0324 - accuracy: 0.9891 - val_loss: 2.3697 - val_accuracy: 0.6383\n",
      "Epoch 15/15\n",
      "110/110 [==============================] - 34s 311ms/step - loss: 0.0138 - accuracy: 0.9961 - val_loss: 2.4378 - val_accuracy: 0.6327\n",
      "Time:  0:08:35.034007\n"
     ]
    }
   ],
   "source": [
    "model = Sequential([\n",
    "    layers.Conv2D(32, (3, 3), activation = 'relu', padding = 'same', input_shape = (150, 150, 3)),\n",
    "    layers.MaxPooling2D(2, 2),\n",
    "    layers.Conv2D(6, (3, 3), activation = 'relu', padding = 'same'),\n",
    "    layers.Flatten(),\n",
    "    layers.Dense(256, activation='relu'),\n",
    "    layers.Dense(128, activation='relu'),\n",
    "    layers.Dense(6, activation='softmax')\n",
    "])\n",
    "model.compile(optimizer = 'adam', loss = 'categorical_crossentropy', metrics=['accuracy'])\n",
    "\n",
    "saveModel(model, 'model7.png')\n",
    "\n",
    "time_start = datetime.now()\n",
    "history = model.fit_generator(train_data, steps_per_epoch=len(train_data), shuffle=True, epochs=EPOCHS, validation_steps=len(test_data), validation_data=test_data)\n",
    "print('Time: ', datetime.now() - time_start)"
   ]
  },
  {
   "cell_type": "markdown",
   "metadata": {},
   "source": [
    "С max pooling после последнего свёрточного слоя:"
   ]
  },
  {
   "cell_type": "code",
   "execution_count": 20,
   "metadata": {},
   "outputs": [
    {
     "name": "stdout",
     "output_type": "stream",
     "text": [
      "Model: \"sequential_13\"\n",
      "_________________________________________________________________\n",
      "Layer (type)                 Output Shape              Param #   \n",
      "=================================================================\n",
      "conv2d_14 (Conv2D)           (None, 150, 150, 32)      896       \n",
      "_________________________________________________________________\n",
      "max_pooling2d_7 (MaxPooling2 (None, 75, 75, 32)        0         \n",
      "_________________________________________________________________\n",
      "conv2d_15 (Conv2D)           (None, 75, 75, 6)         1734      \n",
      "_________________________________________________________________\n",
      "max_pooling2d_8 (MaxPooling2 (None, 37, 37, 6)         0         \n",
      "_________________________________________________________________\n",
      "flatten_13 (Flatten)         (None, 8214)              0         \n",
      "_________________________________________________________________\n",
      "dense_39 (Dense)             (None, 256)               2103040   \n",
      "_________________________________________________________________\n",
      "dense_40 (Dense)             (None, 128)               32896     \n",
      "_________________________________________________________________\n",
      "dense_41 (Dense)             (None, 6)                 774       \n",
      "=================================================================\n",
      "Total params: 2,139,340\n",
      "Trainable params: 2,139,340\n",
      "Non-trainable params: 0\n",
      "_________________________________________________________________\n",
      "Epoch 1/15\n",
      "110/110 [==============================] - 36s 329ms/step - loss: 1.1266 - accuracy: 0.5538 - val_loss: 0.9815 - val_accuracy: 0.6180\n",
      "Epoch 2/15\n",
      "110/110 [==============================] - 35s 314ms/step - loss: 0.7824 - accuracy: 0.7023 - val_loss: 0.7764 - val_accuracy: 0.7143\n",
      "Epoch 3/15\n",
      "110/110 [==============================] - 34s 313ms/step - loss: 0.6333 - accuracy: 0.7651 - val_loss: 0.7420 - val_accuracy: 0.7263\n",
      "Epoch 4/15\n",
      "110/110 [==============================] - 34s 310ms/step - loss: 0.4608 - accuracy: 0.8376 - val_loss: 0.7091 - val_accuracy: 0.7390\n",
      "Epoch 5/15\n",
      "110/110 [==============================] - 35s 314ms/step - loss: 0.3664 - accuracy: 0.8725 - val_loss: 0.7511 - val_accuracy: 0.7393\n",
      "Epoch 6/15\n",
      "110/110 [==============================] - 35s 317ms/step - loss: 0.2590 - accuracy: 0.9122 - val_loss: 0.8024 - val_accuracy: 0.7437\n",
      "Epoch 7/15\n",
      "110/110 [==============================] - 34s 313ms/step - loss: 0.1550 - accuracy: 0.9510 - val_loss: 0.9527 - val_accuracy: 0.7393\n",
      "Epoch 8/15\n",
      "110/110 [==============================] - 34s 308ms/step - loss: 0.0959 - accuracy: 0.9724 - val_loss: 0.9840 - val_accuracy: 0.7397\n",
      "Epoch 9/15\n",
      "110/110 [==============================] - 34s 307ms/step - loss: 0.0625 - accuracy: 0.9813 - val_loss: 1.1864 - val_accuracy: 0.7393\n",
      "Epoch 10/15\n",
      "110/110 [==============================] - 34s 306ms/step - loss: 0.0369 - accuracy: 0.9920 - val_loss: 1.2856 - val_accuracy: 0.7257\n",
      "Epoch 11/15\n",
      "110/110 [==============================] - 34s 306ms/step - loss: 0.0329 - accuracy: 0.9919 - val_loss: 1.3484 - val_accuracy: 0.7413\n",
      "Epoch 12/15\n",
      "110/110 [==============================] - 34s 308ms/step - loss: 0.0215 - accuracy: 0.9951 - val_loss: 1.3680 - val_accuracy: 0.7390\n",
      "Epoch 13/15\n",
      "110/110 [==============================] - 34s 305ms/step - loss: 0.0773 - accuracy: 0.9754 - val_loss: 1.2666 - val_accuracy: 0.7277\n",
      "Epoch 14/15\n",
      "110/110 [==============================] - 34s 307ms/step - loss: 0.0324 - accuracy: 0.9910 - val_loss: 1.4223 - val_accuracy: 0.7387\n",
      "Epoch 15/15\n",
      "110/110 [==============================] - 34s 310ms/step - loss: 0.0127 - accuracy: 0.9977 - val_loss: 1.4830 - val_accuracy: 0.7390\n",
      "Time:  0:08:33.298195\n"
     ]
    }
   ],
   "source": [
    "model = Sequential([\n",
    "    layers.Conv2D(32, (3, 3), activation = 'relu', padding = 'same', input_shape = (150, 150, 3)),\n",
    "    layers.MaxPooling2D(2, 2),\n",
    "    layers.Conv2D(6, (3, 3), activation = 'relu', padding = 'same'),\n",
    "    layers.MaxPooling2D(2, 2),\n",
    "    layers.Flatten(),\n",
    "    layers.Dense(256, activation='relu'),\n",
    "    layers.Dense(128, activation='relu'),\n",
    "    layers.Dense(6, activation='softmax')\n",
    "])\n",
    "model.compile(optimizer = 'adam', loss = 'categorical_crossentropy', metrics=['accuracy'])\n",
    "\n",
    "saveModel(model, 'model7_pooling.png')\n",
    "\n",
    "time_start = datetime.now()\n",
    "history = model.fit_generator(train_data, steps_per_epoch=len(train_data), shuffle=True, epochs=EPOCHS, validation_steps=len(test_data), validation_data=test_data)\n",
    "print('Time: ', datetime.now() - time_start)"
   ]
  },
  {
   "cell_type": "markdown",
   "metadata": {},
   "source": [
    "## Конфигурация №8"
   ]
  },
  {
   "cell_type": "markdown",
   "metadata": {},
   "source": [
    "Без max pooling после последнего свёрточного слоя:"
   ]
  },
  {
   "cell_type": "code",
   "execution_count": 21,
   "metadata": {},
   "outputs": [
    {
     "name": "stdout",
     "output_type": "stream",
     "text": [
      "Model: \"sequential_14\"\n",
      "_________________________________________________________________\n",
      "Layer (type)                 Output Shape              Param #   \n",
      "=================================================================\n",
      "conv2d_16 (Conv2D)           (None, 150, 150, 32)      896       \n",
      "_________________________________________________________________\n",
      "max_pooling2d_9 (MaxPooling2 (None, 75, 75, 32)        0         \n",
      "_________________________________________________________________\n",
      "conv2d_17 (Conv2D)           (None, 75, 75, 6)         1734      \n",
      "_________________________________________________________________\n",
      "flatten_14 (Flatten)         (None, 33750)             0         \n",
      "_________________________________________________________________\n",
      "dense_42 (Dense)             (None, 256)               8640256   \n",
      "_________________________________________________________________\n",
      "dense_43 (Dense)             (None, 128)               32896     \n",
      "_________________________________________________________________\n",
      "dense_44 (Dense)             (None, 6)                 774       \n",
      "=================================================================\n",
      "Total params: 8,676,556\n",
      "Trainable params: 8,676,556\n",
      "Non-trainable params: 0\n",
      "_________________________________________________________________\n",
      "Epoch 1/15\n",
      "110/110 [==============================] - 36s 327ms/step - loss: 1.4636 - accuracy: 0.5311 - val_loss: 1.0296 - val_accuracy: 0.5940\n",
      "Epoch 2/15\n",
      "110/110 [==============================] - 34s 305ms/step - loss: 0.8454 - accuracy: 0.6868 - val_loss: 0.9076 - val_accuracy: 0.6470\n",
      "Epoch 3/15\n",
      "110/110 [==============================] - 34s 306ms/step - loss: 0.6341 - accuracy: 0.7698 - val_loss: 0.7927 - val_accuracy: 0.7127\n",
      "Epoch 4/15\n",
      "110/110 [==============================] - 34s 305ms/step - loss: 0.4866 - accuracy: 0.8276 - val_loss: 0.8573 - val_accuracy: 0.7067\n",
      "Epoch 5/15\n",
      "110/110 [==============================] - 34s 305ms/step - loss: 0.3005 - accuracy: 0.8984 - val_loss: 0.9121 - val_accuracy: 0.6973\n",
      "Epoch 6/15\n",
      "110/110 [==============================] - 34s 306ms/step - loss: 0.1999 - accuracy: 0.9372 - val_loss: 0.9977 - val_accuracy: 0.7103\n",
      "Epoch 7/15\n",
      "110/110 [==============================] - 34s 305ms/step - loss: 0.1138 - accuracy: 0.9688 - val_loss: 1.0846 - val_accuracy: 0.7030\n",
      "Epoch 8/15\n",
      "110/110 [==============================] - 34s 307ms/step - loss: 0.0643 - accuracy: 0.9858 - val_loss: 1.2015 - val_accuracy: 0.6990\n",
      "Epoch 9/15\n",
      "110/110 [==============================] - 34s 311ms/step - loss: 0.0453 - accuracy: 0.9907 - val_loss: 1.2913 - val_accuracy: 0.6953\n",
      "Epoch 10/15\n",
      "110/110 [==============================] - 34s 305ms/step - loss: 0.0378 - accuracy: 0.9927 - val_loss: 1.3797 - val_accuracy: 0.6987\n",
      "Epoch 11/15\n",
      "110/110 [==============================] - 34s 309ms/step - loss: 0.0953 - accuracy: 0.9713 - val_loss: 1.5964 - val_accuracy: 0.6617\n",
      "Epoch 12/15\n",
      "110/110 [==============================] - 33s 303ms/step - loss: 0.0808 - accuracy: 0.9758 - val_loss: 1.4751 - val_accuracy: 0.6880\n",
      "Epoch 13/15\n",
      "110/110 [==============================] - 33s 304ms/step - loss: 0.0331 - accuracy: 0.9914 - val_loss: 1.4370 - val_accuracy: 0.7033\n",
      "Epoch 14/15\n",
      "110/110 [==============================] - 33s 303ms/step - loss: 0.0179 - accuracy: 0.9963 - val_loss: 1.6616 - val_accuracy: 0.6883\n",
      "Epoch 15/15\n",
      "110/110 [==============================] - 33s 303ms/step - loss: 0.0101 - accuracy: 0.9984 - val_loss: 1.6093 - val_accuracy: 0.7000\n",
      "Time:  0:08:26.434594\n"
     ]
    }
   ],
   "source": [
    "model = Sequential([\n",
    "    layers.Conv2D(32, (3, 3), activation = 'tanh', padding = 'same', input_shape = (150, 150, 3)),\n",
    "    layers.MaxPooling2D(2, 2),\n",
    "    layers.Conv2D(6, (3, 3), activation = 'tanh', padding = 'same'),\n",
    "    layers.Flatten(),\n",
    "    layers.Dense(256, activation='relu'),\n",
    "    layers.Dense(128, activation='relu'),\n",
    "    layers.Dense(6, activation='softmax')\n",
    "])\n",
    "model.compile(optimizer = 'adam', loss = 'categorical_crossentropy', metrics=['accuracy'])\n",
    "\n",
    "saveModel(model, 'model8.png')\n",
    "\n",
    "time_start = datetime.now()\n",
    "history = model.fit_generator(train_data, steps_per_epoch=len(train_data), shuffle=True, epochs=EPOCHS, validation_steps=len(test_data), validation_data=test_data)\n",
    "print('Time: ', datetime.now() - time_start)"
   ]
  },
  {
   "cell_type": "markdown",
   "metadata": {},
   "source": [
    "С max pooling после последнего свёрточного слоя:"
   ]
  },
  {
   "cell_type": "code",
   "execution_count": 22,
   "metadata": {},
   "outputs": [
    {
     "name": "stdout",
     "output_type": "stream",
     "text": [
      "Model: \"sequential_15\"\n",
      "_________________________________________________________________\n",
      "Layer (type)                 Output Shape              Param #   \n",
      "=================================================================\n",
      "conv2d_18 (Conv2D)           (None, 150, 150, 32)      896       \n",
      "_________________________________________________________________\n",
      "max_pooling2d_10 (MaxPooling (None, 75, 75, 32)        0         \n",
      "_________________________________________________________________\n",
      "conv2d_19 (Conv2D)           (None, 75, 75, 6)         1734      \n",
      "_________________________________________________________________\n",
      "max_pooling2d_11 (MaxPooling (None, 37, 37, 6)         0         \n",
      "_________________________________________________________________\n",
      "flatten_15 (Flatten)         (None, 8214)              0         \n",
      "_________________________________________________________________\n",
      "dense_45 (Dense)             (None, 256)               2103040   \n",
      "_________________________________________________________________\n",
      "dense_46 (Dense)             (None, 128)               32896     \n",
      "_________________________________________________________________\n",
      "dense_47 (Dense)             (None, 6)                 774       \n",
      "=================================================================\n",
      "Total params: 2,139,340\n",
      "Trainable params: 2,139,340\n",
      "Non-trainable params: 0\n",
      "_________________________________________________________________\n",
      "Epoch 1/15\n",
      "110/110 [==============================] - 36s 324ms/step - loss: 1.0758 - accuracy: 0.5869 - val_loss: 0.9014 - val_accuracy: 0.6633\n",
      "Epoch 2/15\n",
      "110/110 [==============================] - 34s 310ms/step - loss: 0.7975 - accuracy: 0.7066 - val_loss: 0.8653 - val_accuracy: 0.6757\n",
      "Epoch 3/15\n",
      "110/110 [==============================] - 34s 311ms/step - loss: 0.6118 - accuracy: 0.7748 - val_loss: 0.9018 - val_accuracy: 0.6910\n",
      "Epoch 4/15\n",
      "110/110 [==============================] - 34s 308ms/step - loss: 0.4307 - accuracy: 0.8463 - val_loss: 0.7121 - val_accuracy: 0.7583\n",
      "Epoch 5/15\n",
      "110/110 [==============================] - 34s 308ms/step - loss: 0.2872 - accuracy: 0.9021 - val_loss: 0.7401 - val_accuracy: 0.7583\n",
      "Epoch 6/15\n",
      "110/110 [==============================] - 34s 308ms/step - loss: 0.1724 - accuracy: 0.9460 - val_loss: 0.9107 - val_accuracy: 0.7407\n",
      "Epoch 7/15\n",
      "110/110 [==============================] - 34s 307ms/step - loss: 0.1090 - accuracy: 0.9669 - val_loss: 0.9115 - val_accuracy: 0.7663\n",
      "Epoch 8/15\n",
      "110/110 [==============================] - 34s 306ms/step - loss: 0.0599 - accuracy: 0.9853 - val_loss: 1.0344 - val_accuracy: 0.7493\n",
      "Epoch 9/15\n",
      "110/110 [==============================] - 34s 305ms/step - loss: 0.0430 - accuracy: 0.9890 - val_loss: 1.1584 - val_accuracy: 0.7457\n",
      "Epoch 10/15\n",
      "110/110 [==============================] - 34s 306ms/step - loss: 0.0353 - accuracy: 0.9909 - val_loss: 1.2624 - val_accuracy: 0.7443\n",
      "Epoch 11/15\n",
      "110/110 [==============================] - 34s 308ms/step - loss: 0.0445 - accuracy: 0.9880 - val_loss: 1.5073 - val_accuracy: 0.7073\n",
      "Epoch 12/15\n",
      "110/110 [==============================] - 35s 317ms/step - loss: 0.0920 - accuracy: 0.9696 - val_loss: 1.2269 - val_accuracy: 0.7363\n",
      "Epoch 13/15\n",
      "110/110 [==============================] - 34s 313ms/step - loss: 0.0233 - accuracy: 0.9951 - val_loss: 1.2772 - val_accuracy: 0.7520\n",
      "Epoch 14/15\n",
      "110/110 [==============================] - 35s 317ms/step - loss: 0.0132 - accuracy: 0.9971 - val_loss: 1.3100 - val_accuracy: 0.7400\n",
      "Epoch 15/15\n",
      "110/110 [==============================] - 35s 316ms/step - loss: 0.0075 - accuracy: 0.9988 - val_loss: 1.3022 - val_accuracy: 0.7553\n",
      "Time:  0:08:32.987699\n"
     ]
    }
   ],
   "source": [
    "model = Sequential([\n",
    "    layers.Conv2D(32, (3, 3), activation = 'tanh', padding = 'same', input_shape = (150, 150, 3)),\n",
    "    layers.MaxPooling2D(2, 2),\n",
    "    layers.Conv2D(6, (3, 3), activation = 'tanh', padding = 'same'),\n",
    "    layers.MaxPooling2D(2, 2),\n",
    "    layers.Flatten(),\n",
    "    layers.Dense(256, activation='relu'),\n",
    "    layers.Dense(128, activation='relu'),\n",
    "    layers.Dense(6, activation='softmax')\n",
    "])\n",
    "model.compile(optimizer = 'adam', loss = 'categorical_crossentropy', metrics=['accuracy'])\n",
    "\n",
    "saveModel(model, 'model8_pooling.png')\n",
    "\n",
    "time_start = datetime.now()\n",
    "history = model.fit_generator(train_data, steps_per_epoch=len(train_data), shuffle=True, epochs=EPOCHS, validation_steps=len(test_data), validation_data=test_data)\n",
    "print('Time: ', datetime.now() - time_start)"
   ]
  },
  {
   "cell_type": "markdown",
   "metadata": {},
   "source": [
    "---"
   ]
  },
  {
   "cell_type": "markdown",
   "metadata": {},
   "source": [
    "### Конфигурация №9"
   ]
  },
  {
   "cell_type": "markdown",
   "metadata": {},
   "source": [
    "Увеличим число фильтров во второй свёртке до 32."
   ]
  },
  {
   "cell_type": "markdown",
   "metadata": {},
   "source": [
    "Без max pooling после последнего свёрточного слоя:"
   ]
  },
  {
   "cell_type": "code",
   "execution_count": 23,
   "metadata": {},
   "outputs": [
    {
     "name": "stdout",
     "output_type": "stream",
     "text": [
      "Model: \"sequential_16\"\n",
      "_________________________________________________________________\n",
      "Layer (type)                 Output Shape              Param #   \n",
      "=================================================================\n",
      "conv2d_20 (Conv2D)           (None, 150, 150, 32)      896       \n",
      "_________________________________________________________________\n",
      "max_pooling2d_12 (MaxPooling (None, 75, 75, 32)        0         \n",
      "_________________________________________________________________\n",
      "conv2d_21 (Conv2D)           (None, 75, 75, 32)        9248      \n",
      "_________________________________________________________________\n",
      "flatten_16 (Flatten)         (None, 180000)            0         \n",
      "_________________________________________________________________\n",
      "dense_48 (Dense)             (None, 256)               46080256  \n",
      "_________________________________________________________________\n",
      "dense_49 (Dense)             (None, 128)               32896     \n",
      "_________________________________________________________________\n",
      "dense_50 (Dense)             (None, 6)                 774       \n",
      "=================================================================\n",
      "Total params: 46,124,070\n",
      "Trainable params: 46,124,070\n",
      "Non-trainable params: 0\n",
      "_________________________________________________________________\n",
      "Epoch 1/15\n",
      "110/110 [==============================] - 36s 328ms/step - loss: 1.4824 - accuracy: 0.5268 - val_loss: 0.8679 - val_accuracy: 0.6690\n",
      "Epoch 2/15\n",
      "110/110 [==============================] - 34s 308ms/step - loss: 0.6935 - accuracy: 0.7445 - val_loss: 0.7122 - val_accuracy: 0.7393\n",
      "Epoch 3/15\n",
      "110/110 [==============================] - 34s 308ms/step - loss: 0.4317 - accuracy: 0.8453 - val_loss: 0.7508 - val_accuracy: 0.7317\n",
      "Epoch 4/15\n",
      "110/110 [==============================] - 34s 306ms/step - loss: 0.2413 - accuracy: 0.9189 - val_loss: 0.7833 - val_accuracy: 0.7393\n",
      "Epoch 5/15\n",
      "110/110 [==============================] - 34s 306ms/step - loss: 0.1105 - accuracy: 0.9673 - val_loss: 0.8858 - val_accuracy: 0.7617\n",
      "Epoch 6/15\n",
      "110/110 [==============================] - 34s 312ms/step - loss: 0.0564 - accuracy: 0.9863 - val_loss: 1.1918 - val_accuracy: 0.7347\n",
      "Epoch 7/15\n",
      "110/110 [==============================] - 34s 310ms/step - loss: 0.0358 - accuracy: 0.9919 - val_loss: 1.0934 - val_accuracy: 0.7643\n",
      "Epoch 8/15\n",
      "110/110 [==============================] - 34s 309ms/step - loss: 0.0631 - accuracy: 0.9818 - val_loss: 1.1344 - val_accuracy: 0.7323\n",
      "Epoch 9/15\n",
      "110/110 [==============================] - 34s 308ms/step - loss: 0.0434 - accuracy: 0.9876 - val_loss: 1.2635 - val_accuracy: 0.7397\n",
      "Epoch 10/15\n",
      "110/110 [==============================] - 34s 305ms/step - loss: 0.0206 - accuracy: 0.9964 - val_loss: 1.2063 - val_accuracy: 0.7607\n",
      "Epoch 11/15\n",
      "110/110 [==============================] - 34s 308ms/step - loss: 0.0106 - accuracy: 0.9982 - val_loss: 1.3340 - val_accuracy: 0.7523\n",
      "Epoch 12/15\n",
      "110/110 [==============================] - 34s 310ms/step - loss: 0.0080 - accuracy: 0.9988 - val_loss: 1.3401 - val_accuracy: 0.7520\n",
      "Epoch 13/15\n",
      "110/110 [==============================] - 34s 309ms/step - loss: 0.0073 - accuracy: 0.9989 - val_loss: 1.2648 - val_accuracy: 0.7667\n",
      "Epoch 14/15\n",
      "110/110 [==============================] - 35s 314ms/step - loss: 0.0063 - accuracy: 0.9991 - val_loss: 1.3279 - val_accuracy: 0.7617\n",
      "Epoch 15/15\n",
      "110/110 [==============================] - 34s 309ms/step - loss: 0.0059 - accuracy: 0.9989 - val_loss: 1.2812 - val_accuracy: 0.7653\n",
      "Time:  0:08:31.512439\n"
     ]
    }
   ],
   "source": [
    "model = Sequential([\n",
    "    layers.Conv2D(32, (3, 3), activation = 'relu', padding = 'same', input_shape = (150, 150, 3)),\n",
    "    layers.MaxPooling2D(2, 2),\n",
    "    layers.Conv2D(32, (3, 3), activation = 'relu', padding = 'same'),\n",
    "    layers.Flatten(),\n",
    "    layers.Dense(256, activation='relu'),\n",
    "    layers.Dense(128, activation='relu'),\n",
    "    layers.Dense(6, activation='softmax')\n",
    "])\n",
    "model.compile(optimizer = 'adam', loss = 'categorical_crossentropy', metrics=['accuracy'])\n",
    "\n",
    "saveModel(model, 'model9.png')\n",
    "\n",
    "time_start = datetime.now()\n",
    "history = model.fit_generator(train_data, steps_per_epoch=len(train_data), shuffle=True, epochs=EPOCHS, validation_steps=len(test_data), validation_data=test_data)\n",
    "print('Time: ', datetime.now() - time_start)"
   ]
  },
  {
   "cell_type": "markdown",
   "metadata": {},
   "source": [
    "С max pooling после последнего свёрточного слоя:"
   ]
  },
  {
   "cell_type": "code",
   "execution_count": 24,
   "metadata": {},
   "outputs": [
    {
     "name": "stdout",
     "output_type": "stream",
     "text": [
      "Model: \"sequential_17\"\n",
      "_________________________________________________________________\n",
      "Layer (type)                 Output Shape              Param #   \n",
      "=================================================================\n",
      "conv2d_22 (Conv2D)           (None, 150, 150, 32)      896       \n",
      "_________________________________________________________________\n",
      "max_pooling2d_13 (MaxPooling (None, 75, 75, 32)        0         \n",
      "_________________________________________________________________\n",
      "conv2d_23 (Conv2D)           (None, 75, 75, 32)        9248      \n",
      "_________________________________________________________________\n",
      "max_pooling2d_14 (MaxPooling (None, 37, 37, 32)        0         \n",
      "_________________________________________________________________\n",
      "flatten_17 (Flatten)         (None, 43808)             0         \n",
      "_________________________________________________________________\n",
      "dense_51 (Dense)             (None, 256)               11215104  \n",
      "_________________________________________________________________\n",
      "dense_52 (Dense)             (None, 128)               32896     \n",
      "_________________________________________________________________\n",
      "dense_53 (Dense)             (None, 6)                 774       \n",
      "=================================================================\n",
      "Total params: 11,258,918\n",
      "Trainable params: 11,258,918\n",
      "Non-trainable params: 0\n",
      "_________________________________________________________________\n",
      "Epoch 1/15\n",
      "110/110 [==============================] - 36s 329ms/step - loss: 1.1168 - accuracy: 0.5797 - val_loss: 0.8869 - val_accuracy: 0.6760\n",
      "Epoch 2/15\n",
      "110/110 [==============================] - 34s 311ms/step - loss: 0.7039 - accuracy: 0.7437 - val_loss: 0.6763 - val_accuracy: 0.7550\n",
      "Epoch 3/15\n",
      "110/110 [==============================] - 34s 305ms/step - loss: 0.5392 - accuracy: 0.8058 - val_loss: 0.6838 - val_accuracy: 0.7413\n",
      "Epoch 4/15\n",
      "110/110 [==============================] - 33s 304ms/step - loss: 0.3920 - accuracy: 0.8627 - val_loss: 0.5970 - val_accuracy: 0.7923\n",
      "Epoch 5/15\n",
      "110/110 [==============================] - 34s 305ms/step - loss: 0.2655 - accuracy: 0.9109 - val_loss: 0.6896 - val_accuracy: 0.7773\n",
      "Epoch 6/15\n",
      "110/110 [==============================] - 34s 307ms/step - loss: 0.1723 - accuracy: 0.9438 - val_loss: 0.6854 - val_accuracy: 0.7797\n",
      "Epoch 7/15\n",
      "110/110 [==============================] - 34s 307ms/step - loss: 0.0969 - accuracy: 0.9717 - val_loss: 0.8839 - val_accuracy: 0.7620\n",
      "Epoch 8/15\n",
      "110/110 [==============================] - 35s 318ms/step - loss: 0.0629 - accuracy: 0.9828 - val_loss: 0.9609 - val_accuracy: 0.7770\n",
      "Epoch 9/15\n",
      "110/110 [==============================] - 34s 307ms/step - loss: 0.0479 - accuracy: 0.9876 - val_loss: 0.9681 - val_accuracy: 0.7693\n",
      "Epoch 10/15\n",
      "110/110 [==============================] - 34s 310ms/step - loss: 0.0334 - accuracy: 0.9932 - val_loss: 0.9650 - val_accuracy: 0.7770\n",
      "Epoch 11/15\n",
      "110/110 [==============================] - 35s 315ms/step - loss: 0.0202 - accuracy: 0.9963 - val_loss: 1.0625 - val_accuracy: 0.7793\n",
      "Epoch 12/15\n",
      "110/110 [==============================] - 34s 306ms/step - loss: 0.0164 - accuracy: 0.9972 - val_loss: 1.0645 - val_accuracy: 0.7883\n",
      "Epoch 13/15\n",
      "110/110 [==============================] - 34s 306ms/step - loss: 0.0135 - accuracy: 0.9981 - val_loss: 1.1368 - val_accuracy: 0.7787\n",
      "Epoch 14/15\n",
      "110/110 [==============================] - 33s 304ms/step - loss: 0.0132 - accuracy: 0.9981 - val_loss: 1.1746 - val_accuracy: 0.7740\n",
      "Epoch 15/15\n",
      "110/110 [==============================] - 34s 307ms/step - loss: 0.0129 - accuracy: 0.9975 - val_loss: 1.1798 - val_accuracy: 0.7713\n",
      "Time:  0:08:30.604202\n"
     ]
    }
   ],
   "source": [
    "model = Sequential([\n",
    "    layers.Conv2D(32, (3, 3), activation = 'relu', padding = 'same', input_shape = (150, 150, 3)),\n",
    "    layers.MaxPooling2D(2, 2),\n",
    "    layers.Conv2D(32, (3, 3), activation = 'relu', padding = 'same'),\n",
    "    layers.MaxPooling2D(2, 2),\n",
    "    layers.Flatten(),\n",
    "    layers.Dense(256, activation='relu'),\n",
    "    layers.Dense(128, activation='relu'),\n",
    "    layers.Dense(6, activation='softmax')\n",
    "])\n",
    "model.compile(optimizer = 'adam', loss = 'categorical_crossentropy', metrics=['accuracy'])\n",
    "\n",
    "saveModel(model, 'model9_pooling.png')\n",
    "\n",
    "time_start = datetime.now()\n",
    "history = model.fit_generator(train_data, steps_per_epoch=len(train_data), shuffle=True, epochs=EPOCHS, validation_steps=len(test_data), validation_data=test_data)\n",
    "print('Time: ', datetime.now() - time_start)"
   ]
  },
  {
   "cell_type": "markdown",
   "metadata": {},
   "source": [
    "### Конфигурация №10"
   ]
  },
  {
   "cell_type": "markdown",
   "metadata": {},
   "source": [
    "Без max pooling после последнего свёрточного слоя:"
   ]
  },
  {
   "cell_type": "code",
   "execution_count": 25,
   "metadata": {},
   "outputs": [
    {
     "name": "stdout",
     "output_type": "stream",
     "text": [
      "Model: \"sequential_18\"\n",
      "_________________________________________________________________\n",
      "Layer (type)                 Output Shape              Param #   \n",
      "=================================================================\n",
      "conv2d_24 (Conv2D)           (None, 150, 150, 32)      896       \n",
      "_________________________________________________________________\n",
      "max_pooling2d_15 (MaxPooling (None, 75, 75, 32)        0         \n",
      "_________________________________________________________________\n",
      "conv2d_25 (Conv2D)           (None, 75, 75, 32)        9248      \n",
      "_________________________________________________________________\n",
      "flatten_18 (Flatten)         (None, 180000)            0         \n",
      "_________________________________________________________________\n",
      "dense_54 (Dense)             (None, 256)               46080256  \n",
      "_________________________________________________________________\n",
      "dense_55 (Dense)             (None, 128)               32896     \n",
      "_________________________________________________________________\n",
      "dense_56 (Dense)             (None, 6)                 774       \n",
      "=================================================================\n",
      "Total params: 46,124,070\n",
      "Trainable params: 46,124,070\n",
      "Non-trainable params: 0\n",
      "_________________________________________________________________\n",
      "Epoch 1/15\n",
      "110/110 [==============================] - 36s 325ms/step - loss: 12.4104 - accuracy: 0.2132 - val_loss: 13.3043 - val_accuracy: 0.1753\n",
      "Epoch 2/15\n",
      "110/110 [==============================] - 35s 316ms/step - loss: 13.1818 - accuracy: 0.1818 - val_loss: 13.1138 - val_accuracy: 0.1860\n",
      "Epoch 3/15\n",
      "110/110 [==============================] - 34s 313ms/step - loss: 13.0320 - accuracy: 0.1904 - val_loss: 13.3613 - val_accuracy: 0.1700\n",
      "Epoch 4/15\n",
      "110/110 [==============================] - 35s 315ms/step - loss: 13.5047 - accuracy: 0.1620 - val_loss: 13.3748 - val_accuracy: 0.1700\n",
      "Epoch 5/15\n",
      "110/110 [==============================] - 35s 316ms/step - loss: 13.5053 - accuracy: 0.1620 - val_loss: 13.3748 - val_accuracy: 0.1700\n",
      "Epoch 6/15\n",
      "110/110 [==============================] - 34s 311ms/step - loss: 13.5117 - accuracy: 0.1620 - val_loss: 13.3748 - val_accuracy: 0.1700\n",
      "Epoch 7/15\n",
      "110/110 [==============================] - 34s 312ms/step - loss: 13.5098 - accuracy: 0.1620 - val_loss: 13.3748 - val_accuracy: 0.1700\n",
      "Epoch 8/15\n",
      "110/110 [==============================] - 34s 312ms/step - loss: 13.5079 - accuracy: 0.1620 - val_loss: 13.3748 - val_accuracy: 0.1700\n",
      "Epoch 9/15\n",
      "110/110 [==============================] - 34s 312ms/step - loss: 13.5104 - accuracy: 0.1620 - val_loss: 13.3748 - val_accuracy: 0.1700\n",
      "Epoch 10/15\n",
      "110/110 [==============================] - 35s 317ms/step - loss: 13.5085 - accuracy: 0.1620 - val_loss: 13.3815 - val_accuracy: 0.1700\n",
      "Epoch 11/15\n",
      "110/110 [==============================] - 35s 319ms/step - loss: 13.5053 - accuracy: 0.1620 - val_loss: 13.3815 - val_accuracy: 0.1700\n",
      "Epoch 12/15\n",
      "110/110 [==============================] - 35s 314ms/step - loss: 13.5059 - accuracy: 0.1620 - val_loss: 13.3815 - val_accuracy: 0.1700\n",
      "Epoch 13/15\n",
      "110/110 [==============================] - 35s 316ms/step - loss: 13.5066 - accuracy: 0.1620 - val_loss: 13.3815 - val_accuracy: 0.1700\n",
      "Epoch 14/15\n",
      "110/110 [==============================] - 35s 318ms/step - loss: 13.5059 - accuracy: 0.1620 - val_loss: 13.4085 - val_accuracy: 0.1700\n",
      "Epoch 15/15\n",
      "110/110 [==============================] - 35s 317ms/step - loss: 13.5079 - accuracy: 0.1620 - val_loss: 13.3950 - val_accuracy: 0.1700\n",
      "Time:  0:08:40.929746\n"
     ]
    }
   ],
   "source": [
    "model = Sequential([\n",
    "    layers.Conv2D(32, (3, 3), activation = 'tanh', padding = 'same', input_shape = (150, 150, 3)),\n",
    "    layers.MaxPooling2D(2, 2),\n",
    "    layers.Conv2D(32, (3, 3), activation = 'tanh', padding = 'same'),\n",
    "    layers.Flatten(),\n",
    "    layers.Dense(256, activation='relu'),\n",
    "    layers.Dense(128, activation='relu'),\n",
    "    layers.Dense(6, activation='softmax')\n",
    "])\n",
    "model.compile(optimizer = 'adam', loss = 'categorical_crossentropy', metrics=['accuracy'])\n",
    "\n",
    "saveModel(model, 'model10.png')\n",
    "\n",
    "time_start = datetime.now()\n",
    "history = model.fit_generator(train_data, steps_per_epoch=len(train_data), shuffle=True, epochs=EPOCHS, validation_steps=len(test_data), validation_data=test_data)\n",
    "print('Time: ', datetime.now() - time_start)"
   ]
  },
  {
   "cell_type": "markdown",
   "metadata": {},
   "source": [
    "С max pooling после последнего свёрточного слоя:"
   ]
  },
  {
   "cell_type": "code",
   "execution_count": 26,
   "metadata": {},
   "outputs": [
    {
     "name": "stdout",
     "output_type": "stream",
     "text": [
      "Model: \"sequential_19\"\n",
      "_________________________________________________________________\n",
      "Layer (type)                 Output Shape              Param #   \n",
      "=================================================================\n",
      "conv2d_26 (Conv2D)           (None, 150, 150, 32)      896       \n",
      "_________________________________________________________________\n",
      "max_pooling2d_16 (MaxPooling (None, 75, 75, 32)        0         \n",
      "_________________________________________________________________\n",
      "conv2d_27 (Conv2D)           (None, 75, 75, 32)        9248      \n",
      "_________________________________________________________________\n",
      "max_pooling2d_17 (MaxPooling (None, 37, 37, 32)        0         \n",
      "_________________________________________________________________\n",
      "flatten_19 (Flatten)         (None, 43808)             0         \n",
      "_________________________________________________________________\n",
      "dense_57 (Dense)             (None, 256)               11215104  \n",
      "_________________________________________________________________\n",
      "dense_58 (Dense)             (None, 128)               32896     \n",
      "_________________________________________________________________\n",
      "dense_59 (Dense)             (None, 6)                 774       \n",
      "=================================================================\n",
      "Total params: 11,258,918\n",
      "Trainable params: 11,258,918\n",
      "Non-trainable params: 0\n",
      "_________________________________________________________________\n",
      "Epoch 1/15\n",
      "110/110 [==============================] - 36s 331ms/step - loss: 1.2050 - accuracy: 0.5874 - val_loss: 0.9349 - val_accuracy: 0.6447\n",
      "Epoch 2/15\n",
      "110/110 [==============================] - 35s 316ms/step - loss: 0.7832 - accuracy: 0.7109 - val_loss: 0.7963 - val_accuracy: 0.7010\n",
      "Epoch 3/15\n",
      "110/110 [==============================] - 35s 317ms/step - loss: 0.6133 - accuracy: 0.7763 - val_loss: 0.7117 - val_accuracy: 0.7513\n",
      "Epoch 4/15\n",
      "110/110 [==============================] - 35s 314ms/step - loss: 0.4599 - accuracy: 0.8395 - val_loss: 0.7818 - val_accuracy: 0.7370\n",
      "Epoch 5/15\n",
      "110/110 [==============================] - 35s 320ms/step - loss: 0.3165 - accuracy: 0.8940 - val_loss: 0.7244 - val_accuracy: 0.7633\n",
      "Epoch 6/15\n",
      "110/110 [==============================] - 35s 315ms/step - loss: 0.2011 - accuracy: 0.9354 - val_loss: 0.7865 - val_accuracy: 0.7573\n",
      "Epoch 7/15\n",
      "110/110 [==============================] - 35s 320ms/step - loss: 0.1258 - accuracy: 0.9637 - val_loss: 0.8521 - val_accuracy: 0.7650\n",
      "Epoch 8/15\n",
      "110/110 [==============================] - 35s 321ms/step - loss: 0.0770 - accuracy: 0.9801 - val_loss: 0.9223 - val_accuracy: 0.7633\n",
      "Epoch 9/15\n",
      "110/110 [==============================] - 35s 314ms/step - loss: 0.0421 - accuracy: 0.9906 - val_loss: 1.1351 - val_accuracy: 0.7483\n",
      "Epoch 10/15\n",
      "110/110 [==============================] - 34s 312ms/step - loss: 0.0276 - accuracy: 0.9951 - val_loss: 1.0191 - val_accuracy: 0.7667\n",
      "Epoch 11/15\n",
      "110/110 [==============================] - 34s 311ms/step - loss: 0.0235 - accuracy: 0.9957 - val_loss: 1.0806 - val_accuracy: 0.7630\n",
      "Epoch 12/15\n",
      "110/110 [==============================] - 34s 309ms/step - loss: 0.0158 - accuracy: 0.9965 - val_loss: 1.1873 - val_accuracy: 0.7410\n",
      "Epoch 13/15\n",
      "110/110 [==============================] - 35s 317ms/step - loss: 0.0188 - accuracy: 0.9964 - val_loss: 1.1557 - val_accuracy: 0.7630\n",
      "Epoch 14/15\n",
      "110/110 [==============================] - 34s 308ms/step - loss: 0.0119 - accuracy: 0.9982 - val_loss: 1.1903 - val_accuracy: 0.7663\n",
      "Epoch 15/15\n",
      "110/110 [==============================] - 34s 309ms/step - loss: 0.0082 - accuracy: 0.9988 - val_loss: 1.1045 - val_accuracy: 0.7657\n",
      "Time:  0:08:41.053926\n"
     ]
    }
   ],
   "source": [
    "model = Sequential([\n",
    "    layers.Conv2D(32, (3, 3), activation = 'tanh', padding = 'same', input_shape = (150, 150, 3)),\n",
    "    layers.MaxPooling2D(2, 2),\n",
    "    layers.Conv2D(32, (3, 3), activation = 'tanh', padding = 'same'),\n",
    "    layers.MaxPooling2D(2, 2),\n",
    "    layers.Flatten(),\n",
    "    layers.Dense(256, activation='relu'),\n",
    "    layers.Dense(128, activation='relu'),\n",
    "    layers.Dense(6, activation='softmax')\n",
    "])\n",
    "model.compile(optimizer = 'adam', loss = 'categorical_crossentropy', metrics=['accuracy'])\n",
    "\n",
    "saveModel(model, 'model10_pooling.png')\n",
    "\n",
    "time_start = datetime.now()\n",
    "history = model.fit_generator(train_data, steps_per_epoch=len(train_data), shuffle=True, epochs=EPOCHS, validation_steps=len(test_data), validation_data=test_data)\n",
    "print('Time: ', datetime.now() - time_start)"
   ]
  },
  {
   "cell_type": "markdown",
   "metadata": {},
   "source": [
    "## Конфигурация №11"
   ]
  },
  {
   "cell_type": "markdown",
   "metadata": {},
   "source": [
    "Поскольку переобучение всё так же имеет место быть, попробуем снизить его влияние, добавив ещё один свёрточный слой."
   ]
  },
  {
   "cell_type": "markdown",
   "metadata": {},
   "source": [
    "Без max pooling после последнего свёрточного слоя:"
   ]
  },
  {
   "cell_type": "code",
   "execution_count": 27,
   "metadata": {},
   "outputs": [
    {
     "name": "stdout",
     "output_type": "stream",
     "text": [
      "Model: \"sequential_20\"\n",
      "_________________________________________________________________\n",
      "Layer (type)                 Output Shape              Param #   \n",
      "=================================================================\n",
      "conv2d_28 (Conv2D)           (None, 150, 150, 128)     3584      \n",
      "_________________________________________________________________\n",
      "max_pooling2d_18 (MaxPooling (None, 75, 75, 128)       0         \n",
      "_________________________________________________________________\n",
      "conv2d_29 (Conv2D)           (None, 75, 75, 64)        73792     \n",
      "_________________________________________________________________\n",
      "max_pooling2d_19 (MaxPooling (None, 37, 37, 64)        0         \n",
      "_________________________________________________________________\n",
      "conv2d_30 (Conv2D)           (None, 37, 37, 32)        18464     \n",
      "_________________________________________________________________\n",
      "flatten_20 (Flatten)         (None, 43808)             0         \n",
      "_________________________________________________________________\n",
      "dense_60 (Dense)             (None, 256)               11215104  \n",
      "_________________________________________________________________\n",
      "dense_61 (Dense)             (None, 128)               32896     \n",
      "_________________________________________________________________\n",
      "dense_62 (Dense)             (None, 6)                 774       \n",
      "=================================================================\n",
      "Total params: 11,344,614\n",
      "Trainable params: 11,344,614\n",
      "Non-trainable params: 0\n",
      "_________________________________________________________________\n",
      "Epoch 1/15\n",
      "110/110 [==============================] - 42s 384ms/step - loss: 1.1079 - accuracy: 0.5609 - val_loss: 1.0156 - val_accuracy: 0.6010\n",
      "Epoch 2/15\n",
      "110/110 [==============================] - 41s 370ms/step - loss: 0.7671 - accuracy: 0.7112 - val_loss: 0.7262 - val_accuracy: 0.7240\n",
      "Epoch 3/15\n",
      "110/110 [==============================] - 40s 367ms/step - loss: 0.5801 - accuracy: 0.7891 - val_loss: 0.6261 - val_accuracy: 0.7687\n",
      "Epoch 4/15\n",
      "110/110 [==============================] - 40s 367ms/step - loss: 0.4524 - accuracy: 0.8345 - val_loss: 0.5953 - val_accuracy: 0.7860\n",
      "Epoch 5/15\n",
      "110/110 [==============================] - 40s 367ms/step - loss: 0.3279 - accuracy: 0.8813 - val_loss: 0.6793 - val_accuracy: 0.7813\n",
      "Epoch 6/15\n",
      "110/110 [==============================] - 41s 371ms/step - loss: 0.2141 - accuracy: 0.9262 - val_loss: 0.7279 - val_accuracy: 0.7923\n",
      "Epoch 7/15\n",
      "110/110 [==============================] - 41s 376ms/step - loss: 0.1498 - accuracy: 0.9503 - val_loss: 0.7660 - val_accuracy: 0.7920\n",
      "Epoch 8/15\n",
      "110/110 [==============================] - 41s 377ms/step - loss: 0.0897 - accuracy: 0.9714 - val_loss: 0.9474 - val_accuracy: 0.7603\n",
      "Epoch 9/15\n",
      "110/110 [==============================] - 41s 375ms/step - loss: 0.0848 - accuracy: 0.9734 - val_loss: 0.9356 - val_accuracy: 0.7713\n",
      "Epoch 10/15\n",
      "110/110 [==============================] - 40s 366ms/step - loss: 0.0444 - accuracy: 0.9878 - val_loss: 1.1282 - val_accuracy: 0.7877\n",
      "Epoch 11/15\n",
      "110/110 [==============================] - 40s 363ms/step - loss: 0.0242 - accuracy: 0.9933 - val_loss: 1.0772 - val_accuracy: 0.8027\n",
      "Epoch 12/15\n",
      "110/110 [==============================] - 40s 365ms/step - loss: 0.0208 - accuracy: 0.9941 - val_loss: 1.1759 - val_accuracy: 0.7980\n",
      "Epoch 13/15\n",
      "110/110 [==============================] - 40s 366ms/step - loss: 0.0216 - accuracy: 0.9942 - val_loss: 1.1476 - val_accuracy: 0.7927\n",
      "Epoch 14/15\n",
      "110/110 [==============================] - 40s 367ms/step - loss: 0.0343 - accuracy: 0.9895 - val_loss: 1.2544 - val_accuracy: 0.7717\n",
      "Epoch 15/15\n",
      "110/110 [==============================] - 40s 362ms/step - loss: 0.0377 - accuracy: 0.9892 - val_loss: 1.1978 - val_accuracy: 0.7897\n",
      "Time:  0:10:09.791963\n"
     ]
    }
   ],
   "source": [
    "model = Sequential([\n",
    "    layers.Conv2D(128, (3, 3), activation = 'relu', padding = 'same', input_shape = (150, 150, 3)),\n",
    "    layers.MaxPooling2D(2, 2),\n",
    "    layers.Conv2D(64, (3, 3), activation = 'relu', padding = 'same'),\n",
    "    layers.MaxPooling2D(2, 2),\n",
    "    layers.Conv2D(32, (3, 3), activation = 'relu', padding = 'same'),\n",
    "    layers.Flatten(),\n",
    "    layers.Dense(256, activation='relu'),\n",
    "    layers.Dense(128, activation='relu'),\n",
    "    layers.Dense(6, activation='softmax')\n",
    "])\n",
    "model.compile(optimizer = 'adam', loss = 'categorical_crossentropy', metrics=['accuracy'])\n",
    "\n",
    "saveModel(model, 'model11.png')\n",
    "\n",
    "time_start = datetime.now()\n",
    "history = model.fit_generator(train_data, steps_per_epoch=len(train_data), shuffle=True, epochs=EPOCHS, validation_steps=len(test_data), validation_data=test_data)\n",
    "print('Time: ', datetime.now() - time_start)"
   ]
  },
  {
   "cell_type": "markdown",
   "metadata": {},
   "source": [
    "С max pooling после последнего свёрточного слоя:"
   ]
  },
  {
   "cell_type": "code",
   "execution_count": 28,
   "metadata": {},
   "outputs": [
    {
     "name": "stdout",
     "output_type": "stream",
     "text": [
      "Model: \"sequential_21\"\n",
      "_________________________________________________________________\n",
      "Layer (type)                 Output Shape              Param #   \n",
      "=================================================================\n",
      "conv2d_31 (Conv2D)           (None, 150, 150, 128)     3584      \n",
      "_________________________________________________________________\n",
      "max_pooling2d_20 (MaxPooling (None, 75, 75, 128)       0         \n",
      "_________________________________________________________________\n",
      "conv2d_32 (Conv2D)           (None, 75, 75, 64)        73792     \n",
      "_________________________________________________________________\n",
      "max_pooling2d_21 (MaxPooling (None, 37, 37, 64)        0         \n",
      "_________________________________________________________________\n",
      "conv2d_33 (Conv2D)           (None, 37, 37, 32)        18464     \n",
      "_________________________________________________________________\n",
      "max_pooling2d_22 (MaxPooling (None, 18, 18, 32)        0         \n",
      "_________________________________________________________________\n",
      "flatten_21 (Flatten)         (None, 10368)             0         \n",
      "_________________________________________________________________\n",
      "dense_63 (Dense)             (None, 256)               2654464   \n",
      "_________________________________________________________________\n",
      "dense_64 (Dense)             (None, 128)               32896     \n",
      "_________________________________________________________________\n",
      "dense_65 (Dense)             (None, 6)                 774       \n",
      "=================================================================\n",
      "Total params: 2,783,974\n",
      "Trainable params: 2,783,974\n",
      "Non-trainable params: 0\n",
      "_________________________________________________________________\n",
      "Epoch 1/15\n",
      "110/110 [==============================] - 41s 375ms/step - loss: 1.1788 - accuracy: 0.5413 - val_loss: 1.0230 - val_accuracy: 0.6083\n",
      "Epoch 2/15\n",
      "110/110 [==============================] - 41s 369ms/step - loss: 0.7936 - accuracy: 0.7041 - val_loss: 0.7030 - val_accuracy: 0.7397\n",
      "Epoch 3/15\n",
      "110/110 [==============================] - 41s 369ms/step - loss: 0.5943 - accuracy: 0.7840 - val_loss: 0.6968 - val_accuracy: 0.7387\n",
      "Epoch 4/15\n",
      "110/110 [==============================] - 40s 363ms/step - loss: 0.5025 - accuracy: 0.8175 - val_loss: 0.5252 - val_accuracy: 0.8183\n",
      "Epoch 5/15\n",
      "110/110 [==============================] - 40s 365ms/step - loss: 0.3841 - accuracy: 0.8615 - val_loss: 0.5298 - val_accuracy: 0.8130\n",
      "Epoch 6/15\n",
      "110/110 [==============================] - 40s 367ms/step - loss: 0.3306 - accuracy: 0.8832 - val_loss: 0.6156 - val_accuracy: 0.7930\n",
      "Epoch 7/15\n",
      "110/110 [==============================] - 40s 365ms/step - loss: 0.2362 - accuracy: 0.9168 - val_loss: 0.6405 - val_accuracy: 0.8013\n",
      "Epoch 8/15\n",
      "110/110 [==============================] - 40s 364ms/step - loss: 0.1635 - accuracy: 0.9439 - val_loss: 0.6658 - val_accuracy: 0.8113\n",
      "Epoch 9/15\n",
      "110/110 [==============================] - 40s 365ms/step - loss: 0.1084 - accuracy: 0.9641 - val_loss: 0.6912 - val_accuracy: 0.8173\n",
      "Epoch 10/15\n",
      "110/110 [==============================] - 40s 365ms/step - loss: 0.0956 - accuracy: 0.9688 - val_loss: 0.7666 - val_accuracy: 0.8157\n",
      "Epoch 11/15\n",
      "110/110 [==============================] - 40s 364ms/step - loss: 0.0640 - accuracy: 0.9798 - val_loss: 0.8537 - val_accuracy: 0.8003\n",
      "Epoch 12/15\n",
      "110/110 [==============================] - 40s 363ms/step - loss: 0.0634 - accuracy: 0.9803 - val_loss: 0.9457 - val_accuracy: 0.8030\n",
      "Epoch 13/15\n",
      "110/110 [==============================] - 40s 364ms/step - loss: 0.0329 - accuracy: 0.9912 - val_loss: 1.0096 - val_accuracy: 0.8080\n",
      "Epoch 14/15\n",
      "110/110 [==============================] - 40s 366ms/step - loss: 0.0385 - accuracy: 0.9872 - val_loss: 1.0155 - val_accuracy: 0.8153\n",
      "Epoch 15/15\n",
      "110/110 [==============================] - 40s 363ms/step - loss: 0.0502 - accuracy: 0.9825 - val_loss: 0.9623 - val_accuracy: 0.8083\n",
      "Time:  0:10:03.746216\n"
     ]
    }
   ],
   "source": [
    "model = Sequential([\n",
    "    layers.Conv2D(128, (3, 3), activation = 'relu', padding = 'same', input_shape = (150, 150, 3)),\n",
    "    layers.MaxPooling2D(2, 2),\n",
    "    layers.Conv2D(64, (3, 3), activation = 'relu', padding = 'same'),\n",
    "    layers.MaxPooling2D(2, 2),\n",
    "    layers.Conv2D(32, (3, 3), activation = 'relu', padding = 'same'),\n",
    "    layers.MaxPooling2D(2, 2),\n",
    "    layers.Flatten(),\n",
    "    layers.Dense(256, activation='relu'),\n",
    "    layers.Dense(128, activation='relu'),\n",
    "    layers.Dense(6, activation='softmax')\n",
    "])\n",
    "model.compile(optimizer = 'adam', loss = 'categorical_crossentropy', metrics=['accuracy'])\n",
    "\n",
    "saveModel(model, 'model11_pooling.png')\n",
    "\n",
    "time_start = datetime.now()\n",
    "history = model.fit_generator(train_data, steps_per_epoch=len(train_data), shuffle=True, epochs=EPOCHS, validation_steps=len(test_data), validation_data=test_data)\n",
    "print('Time: ', datetime.now() - time_start)"
   ]
  },
  {
   "cell_type": "markdown",
   "metadata": {},
   "source": [
    "## Конфигурация №12"
   ]
  },
  {
   "cell_type": "markdown",
   "metadata": {},
   "source": [
    "Без max pooling после последнего свёрточного слоя:"
   ]
  },
  {
   "cell_type": "code",
   "execution_count": 29,
   "metadata": {},
   "outputs": [
    {
     "name": "stdout",
     "output_type": "stream",
     "text": [
      "Model: \"sequential_22\"\n",
      "_________________________________________________________________\n",
      "Layer (type)                 Output Shape              Param #   \n",
      "=================================================================\n",
      "conv2d_34 (Conv2D)           (None, 150, 150, 128)     3584      \n",
      "_________________________________________________________________\n",
      "max_pooling2d_23 (MaxPooling (None, 75, 75, 128)       0         \n",
      "_________________________________________________________________\n",
      "conv2d_35 (Conv2D)           (None, 75, 75, 64)        73792     \n",
      "_________________________________________________________________\n",
      "max_pooling2d_24 (MaxPooling (None, 37, 37, 64)        0         \n",
      "_________________________________________________________________\n",
      "conv2d_36 (Conv2D)           (None, 37, 37, 32)        18464     \n",
      "_________________________________________________________________\n",
      "flatten_22 (Flatten)         (None, 43808)             0         \n",
      "_________________________________________________________________\n",
      "dense_66 (Dense)             (None, 256)               11215104  \n",
      "_________________________________________________________________\n",
      "dense_67 (Dense)             (None, 128)               32896     \n",
      "_________________________________________________________________\n",
      "dense_68 (Dense)             (None, 6)                 774       \n",
      "=================================================================\n",
      "Total params: 11,344,614\n",
      "Trainable params: 11,344,614\n",
      "Non-trainable params: 0\n",
      "_________________________________________________________________\n",
      "Epoch 1/15\n",
      "110/110 [==============================] - 42s 386ms/step - loss: 13.2442 - accuracy: 0.1641 - val_loss: 13.5839 - val_accuracy: 0.1580\n",
      "Epoch 2/15\n",
      "110/110 [==============================] - 42s 385ms/step - loss: 13.5056 - accuracy: 0.1618 - val_loss: 13.5839 - val_accuracy: 0.1580\n",
      "Epoch 3/15\n",
      "110/110 [==============================] - 42s 382ms/step - loss: 13.5075 - accuracy: 0.1618 - val_loss: 13.5637 - val_accuracy: 0.1580\n",
      "Epoch 4/15\n",
      "110/110 [==============================] - 42s 386ms/step - loss: 13.5113 - accuracy: 0.1618 - val_loss: 13.5637 - val_accuracy: 0.1580\n",
      "Epoch 5/15\n",
      "110/110 [==============================] - 43s 387ms/step - loss: 13.5094 - accuracy: 0.1618 - val_loss: 13.5839 - val_accuracy: 0.1580\n",
      "Epoch 6/15\n",
      "110/110 [==============================] - 43s 392ms/step - loss: 13.5075 - accuracy: 0.1618 - val_loss: 13.5906 - val_accuracy: 0.1580\n",
      "Epoch 7/15\n",
      "110/110 [==============================] - 42s 386ms/step - loss: 13.5113 - accuracy: 0.1618 - val_loss: 13.5637 - val_accuracy: 0.1580\n",
      "Epoch 8/15\n",
      "110/110 [==============================] - 43s 388ms/step - loss: 13.5094 - accuracy: 0.1618 - val_loss: 13.5569 - val_accuracy: 0.1580\n",
      "Epoch 9/15\n",
      "110/110 [==============================] - 43s 387ms/step - loss: 13.5081 - accuracy: 0.1618 - val_loss: 13.5569 - val_accuracy: 0.1580\n",
      "Epoch 10/15\n",
      "110/110 [==============================] - 43s 387ms/step - loss: 13.5107 - accuracy: 0.1618 - val_loss: 13.5569 - val_accuracy: 0.1580\n",
      "Epoch 11/15\n",
      "110/110 [==============================] - 42s 384ms/step - loss: 13.5126 - accuracy: 0.1618 - val_loss: 13.5569 - val_accuracy: 0.1580\n",
      "Epoch 12/15\n",
      "110/110 [==============================] - 42s 382ms/step - loss: 13.5113 - accuracy: 0.1618 - val_loss: 13.5569 - val_accuracy: 0.1580\n",
      "Epoch 13/15\n",
      "110/110 [==============================] - 42s 386ms/step - loss: 13.5107 - accuracy: 0.1618 - val_loss: 13.5569 - val_accuracy: 0.1580\n",
      "Epoch 14/15\n",
      "110/110 [==============================] - 42s 382ms/step - loss: 13.5075 - accuracy: 0.1618 - val_loss: 13.5569 - val_accuracy: 0.1580\n",
      "Epoch 15/15\n",
      "110/110 [==============================] - 42s 383ms/step - loss: 13.5113 - accuracy: 0.1618 - val_loss: 13.5569 - val_accuracy: 0.1580\n",
      "Time:  0:10:36.123714\n"
     ]
    }
   ],
   "source": [
    "model = Sequential([\n",
    "    layers.Conv2D(128, (3, 3), activation = 'tanh', padding = 'same', input_shape = (150, 150, 3)),\n",
    "    layers.MaxPooling2D(2, 2),\n",
    "    layers.Conv2D(64, (3, 3), activation = 'tanh', padding = 'same'),\n",
    "    layers.MaxPooling2D(2, 2),\n",
    "    layers.Conv2D(32, (3, 3), activation = 'tanh', padding = 'same'),\n",
    "    layers.Flatten(),\n",
    "    layers.Dense(256, activation='relu'),\n",
    "    layers.Dense(128, activation='relu'),\n",
    "    layers.Dense(6, activation='softmax')\n",
    "])\n",
    "model.compile(optimizer = 'adam', loss = 'categorical_crossentropy', metrics=['accuracy'])\n",
    "\n",
    "saveModel(model, 'model12.png')\n",
    "\n",
    "time_start = datetime.now()\n",
    "history = model.fit_generator(train_data, steps_per_epoch=len(train_data), shuffle=True, epochs=EPOCHS, validation_steps=len(test_data), validation_data=test_data)\n",
    "print('Time: ', datetime.now() - time_start)"
   ]
  },
  {
   "cell_type": "markdown",
   "metadata": {},
   "source": [
    "С max pooling после последнего свёрточного слоя:"
   ]
  },
  {
   "cell_type": "code",
   "execution_count": 30,
   "metadata": {},
   "outputs": [
    {
     "name": "stdout",
     "output_type": "stream",
     "text": [
      "Model: \"sequential_23\"\n",
      "_________________________________________________________________\n",
      "Layer (type)                 Output Shape              Param #   \n",
      "=================================================================\n",
      "conv2d_37 (Conv2D)           (None, 150, 150, 128)     3584      \n",
      "_________________________________________________________________\n",
      "max_pooling2d_25 (MaxPooling (None, 75, 75, 128)       0         \n",
      "_________________________________________________________________\n",
      "conv2d_38 (Conv2D)           (None, 75, 75, 64)        73792     \n",
      "_________________________________________________________________\n",
      "max_pooling2d_26 (MaxPooling (None, 37, 37, 64)        0         \n",
      "_________________________________________________________________\n",
      "conv2d_39 (Conv2D)           (None, 37, 37, 32)        18464     \n",
      "_________________________________________________________________\n",
      "max_pooling2d_27 (MaxPooling (None, 18, 18, 32)        0         \n",
      "_________________________________________________________________\n",
      "flatten_23 (Flatten)         (None, 10368)             0         \n",
      "_________________________________________________________________\n",
      "dense_69 (Dense)             (None, 256)               2654464   \n",
      "_________________________________________________________________\n",
      "dense_70 (Dense)             (None, 128)               32896     \n",
      "_________________________________________________________________\n",
      "dense_71 (Dense)             (None, 6)                 774       \n",
      "=================================================================\n",
      "Total params: 2,783,974\n",
      "Trainable params: 2,783,974\n",
      "Non-trainable params: 0\n",
      "_________________________________________________________________\n",
      "Epoch 1/15\n",
      "110/110 [==============================] - 42s 386ms/step - loss: 1.0714 - accuracy: 0.5924 - val_loss: 0.8127 - val_accuracy: 0.7033\n",
      "Epoch 2/15\n",
      "110/110 [==============================] - 42s 383ms/step - loss: 0.7366 - accuracy: 0.7257 - val_loss: 0.6863 - val_accuracy: 0.7553\n",
      "Epoch 3/15\n",
      "110/110 [==============================] - 42s 380ms/step - loss: 0.5917 - accuracy: 0.7822 - val_loss: 0.5959 - val_accuracy: 0.7870\n",
      "Epoch 4/15\n",
      "110/110 [==============================] - 42s 381ms/step - loss: 0.4676 - accuracy: 0.8323 - val_loss: 0.5681 - val_accuracy: 0.7953\n",
      "Epoch 5/15\n",
      "110/110 [==============================] - 42s 385ms/step - loss: 0.3360 - accuracy: 0.8796 - val_loss: 0.6352 - val_accuracy: 0.7773\n",
      "Epoch 6/15\n",
      "110/110 [==============================] - 42s 382ms/step - loss: 0.2359 - accuracy: 0.9165 - val_loss: 0.6430 - val_accuracy: 0.8020\n",
      "Epoch 7/15\n",
      "110/110 [==============================] - 42s 380ms/step - loss: 0.1555 - accuracy: 0.9496 - val_loss: 0.7960 - val_accuracy: 0.7760\n",
      "Epoch 8/15\n",
      "110/110 [==============================] - 42s 381ms/step - loss: 0.1289 - accuracy: 0.9560 - val_loss: 0.8035 - val_accuracy: 0.7873\n",
      "Epoch 9/15\n",
      "110/110 [==============================] - 42s 385ms/step - loss: 0.0610 - accuracy: 0.9816 - val_loss: 0.8057 - val_accuracy: 0.7970\n",
      "Epoch 10/15\n",
      "110/110 [==============================] - 42s 382ms/step - loss: 0.0290 - accuracy: 0.9936 - val_loss: 0.9274 - val_accuracy: 0.7810\n",
      "Epoch 11/15\n",
      "110/110 [==============================] - 42s 384ms/step - loss: 0.0461 - accuracy: 0.9862 - val_loss: 0.9895 - val_accuracy: 0.7883\n",
      "Epoch 12/15\n",
      "110/110 [==============================] - 43s 388ms/step - loss: 0.0472 - accuracy: 0.9859 - val_loss: 0.9841 - val_accuracy: 0.7857\n",
      "Epoch 13/15\n",
      "110/110 [==============================] - 42s 382ms/step - loss: 0.0548 - accuracy: 0.9822 - val_loss: 1.0236 - val_accuracy: 0.7900\n",
      "Epoch 14/15\n",
      "110/110 [==============================] - 42s 382ms/step - loss: 0.0338 - accuracy: 0.9901 - val_loss: 1.0235 - val_accuracy: 0.7967\n",
      "Epoch 15/15\n",
      "110/110 [==============================] - 42s 383ms/step - loss: 0.0285 - accuracy: 0.9912 - val_loss: 1.0863 - val_accuracy: 0.7940\n",
      "Time:  0:10:32.088621\n"
     ]
    }
   ],
   "source": [
    "model = Sequential([\n",
    "    layers.Conv2D(128, (3, 3), activation = 'tanh', padding = 'same', input_shape = (150, 150, 3)),\n",
    "    layers.MaxPooling2D(2, 2),\n",
    "    layers.Conv2D(64, (3, 3), activation = 'tanh', padding = 'same'),\n",
    "    layers.MaxPooling2D(2, 2),\n",
    "    layers.Conv2D(32, (3, 3), activation = 'tanh', padding = 'same'),\n",
    "    layers.MaxPooling2D(2, 2),\n",
    "    layers.Flatten(),\n",
    "    layers.Dense(256, activation='relu'),\n",
    "    layers.Dense(128, activation='relu'),\n",
    "    layers.Dense(6, activation='softmax')\n",
    "])\n",
    "model.compile(optimizer = 'adam', loss = 'categorical_crossentropy', metrics=['accuracy'])\n",
    "\n",
    "saveModel(model, 'model12_pooling.png')\n",
    "\n",
    "time_start = datetime.now()\n",
    "history = model.fit_generator(train_data, steps_per_epoch=len(train_data), shuffle=True, epochs=EPOCHS, validation_steps=len(test_data), validation_data=test_data)\n",
    "print('Time: ', datetime.now() - time_start)"
   ]
  }
 ],
 "metadata": {
  "kernelspec": {
   "display_name": "Python 3",
   "language": "python",
   "name": "python3"
  },
  "language_info": {
   "codemirror_mode": {
    "name": "ipython",
    "version": 3
   },
   "file_extension": ".py",
   "mimetype": "text/x-python",
   "name": "python",
   "nbconvert_exporter": "python",
   "pygments_lexer": "ipython3",
   "version": "3.7.4"
  }
 },
 "nbformat": 4,
 "nbformat_minor": 1
}
