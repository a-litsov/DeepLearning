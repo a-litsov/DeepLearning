{
 "cells": [
  {
   "cell_type": "code",
   "execution_count": 1,
   "metadata": {
    "scrolled": true
   },
   "outputs": [],
   "source": [
    "from tensorflow.keras.datasets import mnist\n",
    "from tensorflow.keras.utils import to_categorical\n",
    "from tensorflow.keras import models\n",
    "from tensorflow.keras import layers\n",
    "from tensorflow.keras import optimizers\n",
    "#from tensorflow.keras.optimizers import SGD\n",
    "from datetime import datetime"
   ]
  },
  {
   "cell_type": "markdown",
   "metadata": {},
   "source": [
    " ### Задача \n",
    "Разработка и запуск тестового примера сети,\n",
    "соответствующей логистической регрессии, для решения задачи классификации рукописных\n",
    "цифр набора данных MNIST "
   ]
  },
  {
   "cell_type": "code",
   "execution_count": 2,
   "metadata": {},
   "outputs": [],
   "source": [
    "#загрузка набора данных MNIST\n",
    "(train_images, train_labels), (test_images, test_labels) = mnist.load_data()"
   ]
  },
  {
   "cell_type": "markdown",
   "metadata": {},
   "source": [
    "##### Тренировочный набор."
   ]
  },
  {
   "cell_type": "code",
   "execution_count": 3,
   "metadata": {},
   "outputs": [
    {
     "data": {
      "text/plain": [
       "(60000, 28, 28)"
      ]
     },
     "execution_count": 3,
     "metadata": {},
     "output_type": "execute_result"
    }
   ],
   "source": [
    "#тренировочный набор данных состоит из 60 000 изображений\n",
    "train_images.shape"
   ]
  },
  {
   "cell_type": "markdown",
   "metadata": {},
   "source": [
    "##### Тестовый набор."
   ]
  },
  {
   "cell_type": "code",
   "execution_count": 4,
   "metadata": {},
   "outputs": [
    {
     "data": {
      "text/plain": [
       "(10000, 28, 28)"
      ]
     },
     "execution_count": 4,
     "metadata": {},
     "output_type": "execute_result"
    }
   ],
   "source": [
    "#тестовый набор данных состоит из 10 000 изображений\n",
    "test_images.shape"
   ]
  },
  {
   "cell_type": "markdown",
   "metadata": {},
   "source": [
    "### Подготовка исходных данных."
   ]
  },
  {
   "cell_type": "code",
   "execution_count": 5,
   "metadata": {},
   "outputs": [],
   "source": [
    "#Преобразуем данные в массив (60 000, 28, 28) типа float32 со значениями в интервале [0,1]:\n",
    "train_images = train_images.reshape((60000, 28 * 28))\n",
    "train_images = train_images.astype('float32') / 255\n",
    "\n",
    "test_images = test_images.reshape((10000, 28 * 28))\n",
    "test_images = test_images.astype('float32') / 255"
   ]
  },
  {
   "cell_type": "markdown",
   "metadata": {},
   "source": [
    "##### Подготовка меток:"
   ]
  },
  {
   "cell_type": "code",
   "execution_count": 6,
   "metadata": {},
   "outputs": [
    {
     "data": {
      "text/plain": [
       "10"
      ]
     },
     "execution_count": 6,
     "metadata": {},
     "output_type": "execute_result"
    }
   ],
   "source": [
    "train_labels = to_categorical(train_labels) #приводит к одинаковой длине\n",
    "test_labels = to_categorical(test_labels)\n",
    "\n",
    "#10-мерный вектор, состоящий из 0, кроме \n",
    "len(train_labels[0])"
   ]
  },
  {
   "cell_type": "markdown",
   "metadata": {},
   "source": [
    "### Построение модели."
   ]
  },
  {
   "cell_type": "code",
   "execution_count": 7,
   "metadata": {},
   "outputs": [],
   "source": [
    "BATCH=128\n",
    "EPOCHS=20\n",
    "\n",
    "#Sequential : линейный стек слоев оттображает единственный вход в единственный выход\n",
    "network = models.Sequential()\n",
    "\n",
    "#Dense : полносвязный слой\n",
    "num_classes = 10\n",
    "\n",
    "network.add(layers.Dense(num_classes, activation='softmax', input_shape=(28*28,)))"
   ]
  },
  {
   "cell_type": "code",
   "execution_count": 8,
   "metadata": {},
   "outputs": [
    {
     "name": "stdout",
     "output_type": "stream",
     "text": [
      "Train on 60000 samples, validate on 10000 samples\n",
      "Epoch 1/20\n",
      "60000/60000 [==============================] - 1s 24us/step - loss: 0.6030 - acc: 0.8482 - val_loss: 0.3437 - val_acc: 0.9074\n",
      "Epoch 2/20\n",
      "60000/60000 [==============================] - 1s 18us/step - loss: 0.3314 - acc: 0.9081 - val_loss: 0.2981 - val_acc: 0.9179\n",
      "Epoch 3/20\n",
      "60000/60000 [==============================] - 1s 20us/step - loss: 0.3021 - acc: 0.9156 - val_loss: 0.2853 - val_acc: 0.9197\n",
      "Epoch 4/20\n",
      "60000/60000 [==============================] - 1s 20us/step - loss: 0.2883 - acc: 0.9190 - val_loss: 0.2786 - val_acc: 0.9219\n",
      "Epoch 5/20\n",
      "60000/60000 [==============================] - 1s 20us/step - loss: 0.2803 - acc: 0.9214 - val_loss: 0.2769 - val_acc: 0.9236\n",
      "Epoch 6/20\n",
      "60000/60000 [==============================] - 1s 21us/step - loss: 0.2746 - acc: 0.9231 - val_loss: 0.2724 - val_acc: 0.9235\n",
      "Epoch 7/20\n",
      "60000/60000 [==============================] - 1s 20us/step - loss: 0.2707 - acc: 0.9250 - val_loss: 0.2688 - val_acc: 0.9251\n",
      "Epoch 8/20\n",
      "60000/60000 [==============================] - 1s 19us/step - loss: 0.2672 - acc: 0.9268 - val_loss: 0.2680 - val_acc: 0.9257\n",
      "Epoch 9/20\n",
      "60000/60000 [==============================] - 1s 23us/step - loss: 0.2643 - acc: 0.9278 - val_loss: 0.2681 - val_acc: 0.9264\n",
      "Epoch 10/20\n",
      "60000/60000 [==============================] - 1s 19us/step - loss: 0.2626 - acc: 0.9278 - val_loss: 0.2708 - val_acc: 0.9262\n",
      "Epoch 11/20\n",
      "60000/60000 [==============================] - 1s 19us/step - loss: 0.2609 - acc: 0.9287 - val_loss: 0.2671 - val_acc: 0.9272\n",
      "Epoch 12/20\n",
      "60000/60000 [==============================] - 1s 20us/step - loss: 0.2592 - acc: 0.9296 - val_loss: 0.2695 - val_acc: 0.9265\n",
      "Epoch 13/20\n",
      "60000/60000 [==============================] - 1s 20us/step - loss: 0.2579 - acc: 0.9299 - val_loss: 0.2691 - val_acc: 0.9270\n",
      "Epoch 14/20\n",
      "60000/60000 [==============================] - 1s 22us/step - loss: 0.2564 - acc: 0.9305 - val_loss: 0.2663 - val_acc: 0.9273\n",
      "Epoch 15/20\n",
      "60000/60000 [==============================] - 1s 20us/step - loss: 0.2559 - acc: 0.9304 - val_loss: 0.2664 - val_acc: 0.9275\n",
      "Epoch 16/20\n",
      "60000/60000 [==============================] - 1s 20us/step - loss: 0.2548 - acc: 0.9305 - val_loss: 0.2690 - val_acc: 0.9273\n",
      "Epoch 17/20\n",
      "60000/60000 [==============================] - 1s 19us/step - loss: 0.2539 - acc: 0.9317 - val_loss: 0.2695 - val_acc: 0.9288\n",
      "Epoch 18/20\n",
      "60000/60000 [==============================] - 1s 19us/step - loss: 0.2532 - acc: 0.9320 - val_loss: 0.2742 - val_acc: 0.9271\n",
      "Epoch 19/20\n",
      "60000/60000 [==============================] - 1s 19us/step - loss: 0.2526 - acc: 0.9316 - val_loss: 0.2685 - val_acc: 0.9273\n",
      "Epoch 20/20\n",
      "60000/60000 [==============================] - 1s 19us/step - loss: 0.2519 - acc: 0.9320 - val_loss: 0.2696 - val_acc: 0.9278\n",
      "Time:  0:00:24.295387\n",
      "10000/10000 [==============================] - 0s 20us/step\n",
      "[0.26963076614737513, 0.9278]\n"
     ]
    }
   ],
   "source": [
    "optimizer=optimizers.RMSprop(lr=0.001)\n",
    "network.compile(optimizer, loss='categorical_crossentropy', metrics=['accuracy'])\n",
    "\n",
    "time_start = datetime.now()\n",
    "history = network.fit(train_images, train_labels, shuffle=True, epochs=EPOCHS, batch_size=BATCH, validation_data=(test_images, test_labels))\n",
    "time = datetime.now() - time_start\n",
    "print('Time: ', time)\n",
    "\n",
    "results = network.evaluate(test_images, test_labels)\n",
    "print(results)"
   ]
  }
 ],
 "metadata": {
  "kernelspec": {
   "display_name": "Python 3.6 (tensorflow)",
   "language": "python",
   "name": "tensorflow"
  },
  "language_info": {
   "codemirror_mode": {
    "name": "ipython",
    "version": 3
   },
   "file_extension": ".py",
   "mimetype": "text/x-python",
   "name": "python",
   "nbconvert_exporter": "python",
   "pygments_lexer": "ipython3",
   "version": "3.6.9"
  }
 },
 "nbformat": 4,
 "nbformat_minor": 2
}
