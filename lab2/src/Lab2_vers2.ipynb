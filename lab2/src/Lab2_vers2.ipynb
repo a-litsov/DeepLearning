{
 "cells": [
  {
   "cell_type": "code",
   "execution_count": 7,
   "metadata": {},
   "outputs": [],
   "source": [
    "from tensorflow.keras.preprocessing.image import ImageDataGenerator\n",
    "\n",
    "from tensorflow.keras.models import Sequential, Model\n",
    "from tensorflow.keras import layers\n",
    "from tensorflow.keras.optimizers import SGD\n",
    "from tensorflow.keras.optimizers import RMSprop\n",
    "from sklearn.utils import shuffle\n",
    "from tensorflow.keras import optimizers\n",
    "\n",
    "import numpy as np\n",
    "import matplotlib.pyplot as plt\n",
    "\n",
    "from datetime import datetime\n",
    "import math"
   ]
  },
  {
   "cell_type": "markdown",
   "metadata": {},
   "source": [
    "### Загрузка данных"
   ]
  },
  {
   "cell_type": "code",
   "execution_count": 2,
   "metadata": {},
   "outputs": [
    {
     "name": "stdout",
     "output_type": "stream",
     "text": [
      "Found 14034 images belonging to 6 classes.\n",
      "Found 3000 images belonging to 6 classes.\n"
     ]
    }
   ],
   "source": [
    "BATCH = 128\n",
    "datagen = ImageDataGenerator(rescale=1./255)\n",
    "    \n",
    "train_data = datagen.flow_from_directory('../../intel-image-classification/seg_train/seg_train/',\n",
    "                                        target_size=(150, 150),\n",
    "                                        batch_size=BATCH,\n",
    "                                        class_mode='categorical',\n",
    "                                        shuffle=True)\n",
    "\n",
    "test_data = datagen.flow_from_directory('../../intel-image-classification/seg_test/seg_test/',\n",
    "                                        target_size=(150, 150),\n",
    "                                        batch_size=BATCH,\n",
    "                                        class_mode='categorical',\n",
    "                                        shuffle=True)\n",
    "\n",
    "\n",
    "#train_images, train_labels = train_data.next()\n",
    "#test_images, test_labels = test_data.next()"
   ]
  },
  {
   "cell_type": "code",
   "execution_count": null,
   "metadata": {},
   "outputs": [],
   "source": [
    "train_data.class_indices"
   ]
  },
  {
   "cell_type": "markdown",
   "metadata": {},
   "source": [
    "### Архитектура сети"
   ]
  },
  {
   "cell_type": "code",
   "execution_count": 5,
   "metadata": {},
   "outputs": [],
   "source": [
    "model = Sequential()\n",
    "model.add(layers.Flatten(input_shape=(150,150,3)))\n",
    "\n",
    "model.add(layers.Dense(100, activation='relu'))#, kernel_initializer='glorot_normal'\n",
    "\n",
    "model.add(layers.Dense(6, activation='softmax'))\n",
    "\n",
    "model.compile(optimizer='rmsprop', \n",
    "              loss='categorical_crossentropy', \n",
    "              metrics=['accuracy'])"
   ]
  },
  {
   "cell_type": "code",
   "execution_count": 6,
   "metadata": {},
   "outputs": [
    {
     "name": "stdout",
     "output_type": "stream",
     "text": [
      "Epoch 1/20\n",
      "110/110 [==============================] - 42s 384ms/step - loss: 13.2611 - acc: 0.1688 - val_loss: 13.4586 - val_acc: 0.1650\n",
      "Epoch 2/20\n",
      "110/110 [==============================] - 39s 350ms/step - loss: 13.3377 - acc: 0.1725 - val_loss: 13.3619 - val_acc: 0.1710\n",
      "Epoch 3/20\n",
      "110/110 [==============================] - 38s 349ms/step - loss: 13.4182 - acc: 0.1675 - val_loss: 13.4801 - val_acc: 0.1637\n",
      "Epoch 4/20\n",
      "110/110 [==============================] - 38s 346ms/step - loss: 13.3672 - acc: 0.1707 - val_loss: 13.3888 - val_acc: 0.1693\n",
      "Epoch 5/20\n",
      "110/110 [==============================] - 39s 350ms/step - loss: 13.3706 - acc: 0.1705 - val_loss: 13.4103 - val_acc: 0.1680\n",
      "Epoch 6/20\n",
      "110/110 [==============================] - 39s 352ms/step - loss: 13.3971 - acc: 0.1688 - val_loss: 13.4586 - val_acc: 0.1650\n",
      "Epoch 7/20\n",
      "110/110 [==============================] - 38s 348ms/step - loss: 13.3887 - acc: 0.1693 - val_loss: 13.4371 - val_acc: 0.1663\n",
      "Epoch 8/20\n",
      "110/110 [==============================] - 39s 355ms/step - loss: 13.3659 - acc: 0.1708 - val_loss: 13.4103 - val_acc: 0.1680\n",
      "Epoch 9/20\n",
      "110/110 [==============================] - 38s 347ms/step - loss: 13.4025 - acc: 0.1685 - val_loss: 13.4210 - val_acc: 0.1673\n",
      "Epoch 10/20\n",
      "110/110 [==============================] - 39s 353ms/step - loss: 13.3719 - acc: 0.1704 - val_loss: 13.4264 - val_acc: 0.1670\n",
      "Epoch 11/20\n",
      "110/110 [==============================] - 39s 351ms/step - loss: 13.3631 - acc: 0.1709 - val_loss: 13.4479 - val_acc: 0.1657\n",
      "Epoch 12/20\n",
      "110/110 [==============================] - 39s 350ms/step - loss: 13.4127 - acc: 0.1678 - val_loss: 13.3888 - val_acc: 0.1693\n",
      "Epoch 13/20\n",
      "110/110 [==============================] - 39s 351ms/step - loss: 13.3826 - acc: 0.1697 - val_loss: 13.4532 - val_acc: 0.1653\n",
      "Epoch 14/20\n",
      "110/110 [==============================] - 38s 346ms/step - loss: 13.3560 - acc: 0.1714 - val_loss: 13.4425 - val_acc: 0.1660\n",
      "Epoch 15/20\n",
      "110/110 [==============================] - 38s 348ms/step - loss: 13.4258 - acc: 0.1670 - val_loss: 13.3458 - val_acc: 0.1720\n",
      "Epoch 16/20\n",
      "110/110 [==============================] - 38s 348ms/step - loss: 13.3561 - acc: 0.1714 - val_loss: 13.4586 - val_acc: 0.1650\n",
      "Epoch 17/20\n",
      "110/110 [==============================] - 38s 350ms/step - loss: 13.3994 - acc: 0.1687 - val_loss: 13.4532 - val_acc: 0.1653\n",
      "Epoch 18/20\n",
      "110/110 [==============================] - 38s 347ms/step - loss: 13.3690 - acc: 0.1706 - val_loss: 13.4264 - val_acc: 0.1670\n",
      "Epoch 19/20\n",
      "110/110 [==============================] - 39s 354ms/step - loss: 13.4024 - acc: 0.1685 - val_loss: 13.4049 - val_acc: 0.1683\n",
      "Epoch 20/20\n",
      "110/110 [==============================] - 38s 348ms/step - loss: 13.3763 - acc: 0.1701 - val_loss: 13.4694 - val_acc: 0.1643\n",
      "Time:  0:12:53.506856\n"
     ]
    }
   ],
   "source": [
    "time_start = datetime.now()\n",
    "\n",
    "history = model.fit_generator(train_data, steps_per_epoch=len(train_data), shuffle=True, epochs=20, validation_steps=len(test_data), validation_data=test_data)\n",
    "time = datetime.now() - time_start\n",
    "print('Time: ', time)"
   ]
  },
  {
   "cell_type": "code",
   "execution_count": 8,
   "metadata": {},
   "outputs": [
    {
     "name": "stdout",
     "output_type": "stream",
     "text": [
      "Epoch 1/5\n",
      "110/110 [==============================] - 42s 385ms/step - loss: 13.5237 - acc: 0.1542 - val_loss: 13.7810 - val_acc: 0.1450\n",
      "Epoch 2/5\n",
      "110/110 [==============================] - 39s 352ms/step - loss: 13.5585 - acc: 0.1588 - val_loss: 13.7595 - val_acc: 0.1463\n",
      "Epoch 3/5\n",
      "110/110 [==============================] - 39s 358ms/step - loss: 13.6092 - acc: 0.1557 - val_loss: 13.7272 - val_acc: 0.1483\n",
      "Epoch 4/5\n",
      "110/110 [==============================] - 39s 353ms/step - loss: 13.6317 - acc: 0.1543 - val_loss: 13.8025 - val_acc: 0.1437\n",
      "Epoch 5/5\n",
      "110/110 [==============================] - 39s 352ms/step - loss: 13.6011 - acc: 0.1562 - val_loss: 13.7434 - val_acc: 0.1473\n",
      "Time:  0:03:18.447105\n"
     ]
    }
   ],
   "source": [
    "model = Sequential()\n",
    "model.add(layers.Flatten(input_shape=(150,150,3)))\n",
    "\n",
    "model.add(layers.Dense(100, activation='relu'))#, kernel_initializer='glorot_normal'\n",
    "\n",
    "model.add(layers.Dense(6, activation='softmax'))\n",
    "\n",
    "model.compile(optimizer=RMSprop(lr=0.5), \n",
    "              loss='categorical_crossentropy', \n",
    "              metrics=['accuracy'])\n",
    "\n",
    "time_start = datetime.now()\n",
    "\n",
    "history = model.fit_generator(train_data, steps_per_epoch=len(train_data), shuffle=True, epochs=5, validation_steps=len(test_data), validation_data=test_data)\n",
    "time = datetime.now() - time_start\n",
    "print('Time: ', time)"
   ]
  },
  {
   "cell_type": "code",
   "execution_count": 10,
   "metadata": {},
   "outputs": [
    {
     "name": "stdout",
     "output_type": "stream",
     "text": [
      "Epoch 1/5\n",
      "110/110 [==============================] - 41s 369ms/step - loss: 12.1778 - acc: 0.2219 - val_loss: 10.4107 - val_acc: 0.3343\n",
      "Epoch 2/5\n",
      "110/110 [==============================] - 39s 357ms/step - loss: 4.0656 - acc: 0.2138 - val_loss: 1.7683 - val_acc: 0.2087\n",
      "Epoch 3/5\n",
      "110/110 [==============================] - 39s 357ms/step - loss: 1.8702 - acc: 0.2174 - val_loss: 1.7238 - val_acc: 0.2390\n",
      "Epoch 4/5\n",
      "110/110 [==============================] - 39s 358ms/step - loss: 1.7928 - acc: 0.2482 - val_loss: 1.7562 - val_acc: 0.2623\n",
      "Epoch 5/5\n",
      "110/110 [==============================] - 39s 355ms/step - loss: 1.7464 - acc: 0.2390 - val_loss: 1.7274 - val_acc: 0.2373\n",
      "Time:  0:03:18.038944\n"
     ]
    }
   ],
   "source": [
    "model = Sequential()\n",
    "model.add(layers.Flatten(input_shape=(150,150,3)))\n",
    "\n",
    "model.add(layers.Dense(100, activation='relu'))#, kernel_initializer='glorot_normal'\n",
    "model.add(layers.Dropout(0.5))\n",
    "model.add(layers.Dense(6, activation='softmax'))\n",
    "\n",
    "model.compile(optimizer='rmsprop', \n",
    "              loss='categorical_crossentropy', \n",
    "              metrics=['accuracy'])\n",
    "\n",
    "time_start = datetime.now()\n",
    "\n",
    "history = model.fit_generator(train_data, steps_per_epoch=len(train_data), shuffle=True, epochs=5, validation_steps=len(test_data), validation_data=test_data)\n",
    "time = datetime.now() - time_start\n",
    "print('Time: ', time)"
   ]
  },
  {
   "cell_type": "code",
   "execution_count": null,
   "metadata": {},
   "outputs": [],
   "source": []
  },
  {
   "cell_type": "code",
   "execution_count": null,
   "metadata": {},
   "outputs": [],
   "source": []
  }
 ],
 "metadata": {
  "kernelspec": {
   "display_name": "Python 3",
   "language": "python",
   "name": "python3"
  },
  "language_info": {
   "codemirror_mode": {
    "name": "ipython",
    "version": 3
   },
   "file_extension": ".py",
   "mimetype": "text/x-python",
   "name": "python",
   "nbconvert_exporter": "python",
   "pygments_lexer": "ipython3",
   "version": "3.7.5"
  }
 },
 "nbformat": 4,
 "nbformat_minor": 2
}
