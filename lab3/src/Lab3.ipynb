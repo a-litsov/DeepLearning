{
 "cells": [
  {
   "cell_type": "markdown",
   "metadata": {
    "_cell_guid": "7248fdfc-f7ab-4ffd-a6ff-24dc177c13e0",
    "_uuid": "16c1d1e7-b8df-4224-98cb-855cfae950f2"
   },
   "source": [
    "## Лабораторная работа №3"
   ]
  },
  {
   "cell_type": "markdown",
   "metadata": {
    "_cell_guid": "d4bf2992-87ea-432b-9fe0-110efa19687f",
    "_uuid": "97565e64-e9c3-4921-9285-7d6b42e7f0bb"
   },
   "source": [
    "### Импорты"
   ]
  },
  {
   "cell_type": "code",
   "execution_count": 1,
   "metadata": {
    "_cell_guid": "4bc1ee3d-0766-4ead-b518-9846e5c7d46a",
    "_uuid": "57eeb037-752e-4983-8816-b7cb5f12d8cd"
   },
   "outputs": [],
   "source": [
    "from tensorflow.keras.preprocessing.image import ImageDataGenerator\n",
    "\n",
    "from tensorflow.keras.models import Sequential, Model\n",
    "from tensorflow.keras import layers\n",
    "from tensorflow.keras.optimizers import SGD\n",
    "from tensorflow.keras.optimizers import RMSprop\n",
    "from sklearn.utils import shuffle\n",
    "from tensorflow.keras import optimizers\n",
    "from tensorflow.keras.utils import plot_model\n",
    "\n",
    "import numpy as np\n",
    "\n",
    "from IPython.display import SVG\n",
    "\n",
    "from datetime import datetime"
   ]
  },
  {
   "cell_type": "markdown",
   "metadata": {
    "_cell_guid": "8a25e1f5-de9a-4988-9a63-e59e6bdaa4ff",
    "_uuid": "0902771f-7881-474b-8344-12916535d392"
   },
   "source": [
    "### Загрузка данных"
   ]
  },
  {
   "cell_type": "code",
   "execution_count": 2,
   "metadata": {
    "_cell_guid": "3b2b40c5-19ac-4dee-b001-7c48b761a814",
    "_uuid": "d25beb56-acbd-4e1d-b890-68ddbb2bb59a"
   },
   "outputs": [
    {
     "name": "stdout",
     "output_type": "stream",
     "text": [
      "Found 14034 images belonging to 6 classes.\n",
      "Found 3000 images belonging to 6 classes.\n"
     ]
    }
   ],
   "source": [
    "BATCH = 128\n",
    "datagen = ImageDataGenerator(rescale=1./255)\n",
    "\n",
    "\n",
    "    \n",
    "train_data = datagen.flow_from_directory('/kaggle/input/intel-image-classification/seg_train/seg_train',\n",
    "                                        target_size=(150, 150),\n",
    "                                        batch_size=BATCH,\n",
    "                                        class_mode='categorical',\n",
    "                                        shuffle=True)\n",
    "\n",
    "test_data = datagen.flow_from_directory('/kaggle/input/intel-image-classification/seg_test/seg_test',\n",
    "                                        target_size=(150, 150),\n",
    "                                        batch_size=BATCH,\n",
    "                                        class_mode='categorical',\n",
    "                                        shuffle=True)"
   ]
  },
  {
   "cell_type": "code",
   "execution_count": 3,
   "metadata": {
    "_cell_guid": "a68200cc-73d4-402a-b3cd-14c4844988f4",
    "_uuid": "4b6aae1c-cc8b-4c2a-b2ae-e3a5becee69f",
    "scrolled": true
   },
   "outputs": [
    {
     "data": {
      "text/plain": [
       "{'buildings': 0,\n",
       " 'forest': 1,\n",
       " 'glacier': 2,\n",
       " 'mountain': 3,\n",
       " 'sea': 4,\n",
       " 'street': 5}"
      ]
     },
     "execution_count": 3,
     "metadata": {},
     "output_type": "execute_result"
    }
   ],
   "source": [
    "train_data.class_indices"
   ]
  },
  {
   "cell_type": "markdown",
   "metadata": {
    "_cell_guid": "080d352f-1b8d-455b-9e62-889098520004",
    "_uuid": "e9a03500-f103-409e-8496-59cb7b817a0b"
   },
   "source": [
    "Зададим общее количество эпох для тестирования конфигураций равное **20**."
   ]
  },
  {
   "cell_type": "code",
   "execution_count": 4,
   "metadata": {
    "_cell_guid": "c2a4424a-6054-4e00-b3cd-0b416b144deb",
    "_uuid": "4862144e-932e-422a-9e8a-13abcf9d0f35"
   },
   "outputs": [],
   "source": [
    "EPOCHS = 20"
   ]
  },
  {
   "cell_type": "markdown",
   "metadata": {
    "_cell_guid": "aa13345a-3985-4776-8dc7-019c4bc5befd",
    "_uuid": "ddfb56bd-1632-4710-86e7-2d71b7b8034c"
   },
   "source": [
    "## GPU Info"
   ]
  },
  {
   "cell_type": "code",
   "execution_count": 5,
   "metadata": {
    "_cell_guid": "f356ab15-0219-4e91-8562-2aa5045505a0",
    "_uuid": "91380928-378b-4227-8fbf-627906b09628"
   },
   "outputs": [
    {
     "name": "stdout",
     "output_type": "stream",
     "text": [
      "b'Thu Nov 21 01:13:17 2019       \n",
      "+-----------------------------------------------------------------------------+\n",
      "| NVIDIA-SMI 418.67       Driver Version: 418.67       CUDA Version: 10.1     |\n",
      "|-------------------------------+----------------------+----------------------+\n",
      "| GPU  Name        Persistence-M| Bus-Id        Disp.A | Volatile Uncorr. ECC |\n",
      "| Fan  Temp  Perf  Pwr:Usage/Cap|         Memory-Usage | GPU-Util  Compute M. |\n",
      "|===============================+======================+======================|\n",
      "|   0  Tesla P100-PCIE...  On   | 00000000:00:04.0 Off |                    0 |\n",
      "| N/A   36C    P0    25W / 250W |      0MiB / 16280MiB |      0%      Default |\n",
      "+-------------------------------+----------------------+----------------------+\n",
      "                                                                               \n",
      "+-----------------------------------------------------------------------------+\n",
      "| Processes:                                                       GPU Memory |\n",
      "|  GPU       PID   Type   Process name                             Usage      |\n",
      "|=============================================================================|\n",
      "|  No running processes found                                                 |\n",
      "+-----------------------------------------------------------------------------+\n",
      "'\n"
     ]
    }
   ],
   "source": [
    "import subprocess\n",
    "import pprint\n",
    "\n",
    "sp = subprocess.Popen(['nvidia-smi'], stdout=subprocess.PIPE, stderr=subprocess.PIPE)\n",
    "\n",
    "out_str = sp.communicate()\n",
    "out_list = str(out_str[0]).split('\\\\n')\n",
    "\n",
    "out_dict = {}\n",
    "\n",
    "for item in out_list:\n",
    "    print(item)"
   ]
  },
  {
   "cell_type": "code",
   "execution_count": 6,
   "metadata": {
    "_cell_guid": "a4bcda6f-fdb0-4f55-bea5-82d6a29042af",
    "_uuid": "d22b8e04-720f-486f-b303-9ae27dcbc39d"
   },
   "outputs": [],
   "source": [
    "def saveModel(model, filename):\n",
    "    model.summary()\n",
    "    plot_model(model,to_file=filename,show_shapes=True, expand_nested=True)"
   ]
  },
  {
   "cell_type": "markdown",
   "metadata": {
    "_cell_guid": "8aef314a-7d43-42b6-acfb-ca8a5aad3ed3",
    "_uuid": "3847c6a5-a791-4347-a908-8bb7994b6f7f"
   },
   "source": [
    "### Конфигурация №1"
   ]
  },
  {
   "cell_type": "code",
   "execution_count": 7,
   "metadata": {
    "_cell_guid": "03f65b88-83db-4265-9f2b-c22615a0c0a7",
    "_uuid": "3b0bb221-918f-4f83-b481-91999f18f95f"
   },
   "outputs": [
    {
     "name": "stdout",
     "output_type": "stream",
     "text": [
      "Model: \"sequential\"\n",
      "_________________________________________________________________\n",
      "Layer (type)                 Output Shape              Param #   \n",
      "=================================================================\n",
      "conv2d (Conv2D)              (None, 148, 148, 32)      896       \n",
      "_________________________________________________________________\n",
      "max_pooling2d (MaxPooling2D) (None, 74, 74, 32)        0         \n",
      "_________________________________________________________________\n",
      "conv2d_1 (Conv2D)            (None, 72, 72, 32)        9248      \n",
      "_________________________________________________________________\n",
      "max_pooling2d_1 (MaxPooling2 (None, 36, 36, 32)        0         \n",
      "_________________________________________________________________\n",
      "flatten (Flatten)            (None, 41472)             0         \n",
      "_________________________________________________________________\n",
      "dense (Dense)                (None, 128)               5308544   \n",
      "_________________________________________________________________\n",
      "dense_1 (Dense)              (None, 6)                 774       \n",
      "=================================================================\n",
      "Total params: 5,319,462\n",
      "Trainable params: 5,319,462\n",
      "Non-trainable params: 0\n",
      "_________________________________________________________________\n",
      "Epoch 1/20\n",
      "110/110 [==============================] - 57s 518ms/step - loss: 1.1819 - accuracy: 0.5561 - val_loss: 0.8412 - val_accuracy: 0.6850\n",
      "Epoch 2/20\n",
      "110/110 [==============================] - 34s 311ms/step - loss: 0.7192 - accuracy: 0.7408 - val_loss: 0.7173 - val_accuracy: 0.7393\n",
      "Epoch 3/20\n",
      "110/110 [==============================] - 34s 307ms/step - loss: 0.5408 - accuracy: 0.8067 - val_loss: 0.6742 - val_accuracy: 0.7597\n",
      "Epoch 4/20\n",
      "110/110 [==============================] - 34s 307ms/step - loss: 0.4045 - accuracy: 0.8591 - val_loss: 0.5915 - val_accuracy: 0.7787\n",
      "Epoch 5/20\n",
      "110/110 [==============================] - 34s 309ms/step - loss: 0.2923 - accuracy: 0.9037 - val_loss: 0.5964 - val_accuracy: 0.8043\n",
      "Epoch 6/20\n",
      "110/110 [==============================] - 34s 313ms/step - loss: 0.2030 - accuracy: 0.9376 - val_loss: 0.6606 - val_accuracy: 0.7943\n",
      "Epoch 7/20\n",
      "110/110 [==============================] - 34s 307ms/step - loss: 0.1355 - accuracy: 0.9615 - val_loss: 0.7449 - val_accuracy: 0.7727\n",
      "Epoch 8/20\n",
      "110/110 [==============================] - 34s 306ms/step - loss: 0.1037 - accuracy: 0.9726 - val_loss: 0.8697 - val_accuracy: 0.7717\n",
      "Epoch 9/20\n",
      "110/110 [==============================] - 34s 311ms/step - loss: 0.0967 - accuracy: 0.9758 - val_loss: 0.8358 - val_accuracy: 0.7823\n",
      "Epoch 10/20\n",
      "110/110 [==============================] - 34s 309ms/step - loss: 0.0469 - accuracy: 0.9901 - val_loss: 0.8712 - val_accuracy: 0.7927\n",
      "Epoch 11/20\n",
      "110/110 [==============================] - 34s 306ms/step - loss: 0.0305 - accuracy: 0.9948 - val_loss: 0.9116 - val_accuracy: 0.7813\n",
      "Epoch 12/20\n",
      "110/110 [==============================] - 34s 305ms/step - loss: 0.0263 - accuracy: 0.9957 - val_loss: 0.9512 - val_accuracy: 0.7890\n",
      "Epoch 13/20\n",
      "110/110 [==============================] - 34s 306ms/step - loss: 0.0215 - accuracy: 0.9974 - val_loss: 1.0534 - val_accuracy: 0.7743\n",
      "Epoch 14/20\n",
      "110/110 [==============================] - 34s 306ms/step - loss: 0.0184 - accuracy: 0.9980 - val_loss: 0.9945 - val_accuracy: 0.7947\n",
      "Epoch 15/20\n",
      "110/110 [==============================] - 34s 305ms/step - loss: 0.0156 - accuracy: 0.9983 - val_loss: 1.0212 - val_accuracy: 0.7880\n",
      "Epoch 16/20\n",
      "110/110 [==============================] - 34s 308ms/step - loss: 0.0167 - accuracy: 0.9983 - val_loss: 1.0898 - val_accuracy: 0.7917\n",
      "Epoch 17/20\n",
      "110/110 [==============================] - 33s 304ms/step - loss: 0.0243 - accuracy: 0.9960 - val_loss: 1.0049 - val_accuracy: 0.7863\n",
      "Epoch 18/20\n",
      "110/110 [==============================] - 35s 314ms/step - loss: 0.0135 - accuracy: 0.9983 - val_loss: 1.1028 - val_accuracy: 0.7897\n",
      "Epoch 19/20\n",
      "110/110 [==============================] - 34s 307ms/step - loss: 0.0145 - accuracy: 0.9987 - val_loss: 1.2391 - val_accuracy: 0.7767\n",
      "Epoch 20/20\n",
      "110/110 [==============================] - 33s 304ms/step - loss: 0.0193 - accuracy: 0.9971 - val_loss: 1.2071 - val_accuracy: 0.7593\n",
      "Time:  0:11:39.705702\n"
     ]
    }
   ],
   "source": [
    "model = Sequential([\n",
    "    layers.Conv2D(32, (3, 3), activation = 'relu', input_shape = (150, 150, 3)),\n",
    "    layers.MaxPooling2D(2, 2),\n",
    "    layers.Conv2D(32, (3, 3), activation = 'relu'),\n",
    "    layers.MaxPooling2D(2, 2),\n",
    "    layers.Flatten(),\n",
    "    layers.Dense(128, activation='relu'),\n",
    "    layers.Dense(6, activation='softmax')\n",
    "])\n",
    "model.compile(optimizer = 'adam', loss = 'categorical_crossentropy', metrics=['accuracy'])\n",
    "\n",
    "saveModel(model, 'model1.png')\n",
    "\n",
    "time_start = datetime.now()\n",
    "history = model.fit_generator(train_data, steps_per_epoch=len(train_data), shuffle=True, epochs=EPOCHS, validation_steps=len(test_data), validation_data=test_data)\n",
    "print('Time: ', datetime.now() - time_start)"
   ]
  },
  {
   "cell_type": "markdown",
   "metadata": {
    "_cell_guid": "891944cc-e9d2-48ee-9ca8-d438f9920cf7",
    "_uuid": "3b095287-6ebe-48f8-86fa-4e42b2de4c89"
   },
   "source": [
    "### Конфигурация №2"
   ]
  },
  {
   "cell_type": "code",
   "execution_count": 8,
   "metadata": {
    "_cell_guid": "f9d60fd1-9d72-4772-b27d-e5cb30f8ec95",
    "_uuid": "85e10f30-377c-4f9d-a4dd-ebc56fe3bb11"
   },
   "outputs": [
    {
     "name": "stdout",
     "output_type": "stream",
     "text": [
      "Model: \"sequential_1\"\n",
      "_________________________________________________________________\n",
      "Layer (type)                 Output Shape              Param #   \n",
      "=================================================================\n",
      "conv2d_2 (Conv2D)            (None, 148, 148, 128)     3584      \n",
      "_________________________________________________________________\n",
      "max_pooling2d_2 (MaxPooling2 (None, 74, 74, 128)       0         \n",
      "_________________________________________________________________\n",
      "conv2d_3 (Conv2D)            (None, 72, 72, 64)        73792     \n",
      "_________________________________________________________________\n",
      "max_pooling2d_3 (MaxPooling2 (None, 36, 36, 64)        0         \n",
      "_________________________________________________________________\n",
      "conv2d_4 (Conv2D)            (None, 34, 34, 32)        18464     \n",
      "_________________________________________________________________\n",
      "max_pooling2d_4 (MaxPooling2 (None, 17, 17, 32)        0         \n",
      "_________________________________________________________________\n",
      "flatten_1 (Flatten)          (None, 9248)              0         \n",
      "_________________________________________________________________\n",
      "dense_2 (Dense)              (None, 128)               1183872   \n",
      "_________________________________________________________________\n",
      "dense_3 (Dense)              (None, 6)                 774       \n",
      "=================================================================\n",
      "Total params: 1,280,486\n",
      "Trainable params: 1,280,486\n",
      "Non-trainable params: 0\n",
      "_________________________________________________________________\n",
      "Epoch 1/20\n",
      "110/110 [==============================] - 42s 383ms/step - loss: 1.1088 - accuracy: 0.5811 - val_loss: 0.9025 - val_accuracy: 0.6413\n",
      "Epoch 2/20\n",
      "110/110 [==============================] - 41s 369ms/step - loss: 0.7744 - accuracy: 0.7109 - val_loss: 0.8497 - val_accuracy: 0.6553\n",
      "Epoch 3/20\n",
      "110/110 [==============================] - 41s 370ms/step - loss: 0.6233 - accuracy: 0.7716 - val_loss: 0.7918 - val_accuracy: 0.7073\n",
      "Epoch 4/20\n",
      "110/110 [==============================] - 41s 372ms/step - loss: 0.5049 - accuracy: 0.8166 - val_loss: 0.6261 - val_accuracy: 0.7807\n",
      "Epoch 5/20\n",
      "110/110 [==============================] - 41s 373ms/step - loss: 0.3794 - accuracy: 0.8671 - val_loss: 0.6397 - val_accuracy: 0.7833\n",
      "Epoch 6/20\n",
      "110/110 [==============================] - 41s 372ms/step - loss: 0.2861 - accuracy: 0.9037 - val_loss: 0.6445 - val_accuracy: 0.8060\n",
      "Epoch 7/20\n",
      "110/110 [==============================] - 41s 370ms/step - loss: 0.1838 - accuracy: 0.9398 - val_loss: 0.6948 - val_accuracy: 0.7853\n",
      "Epoch 8/20\n",
      "110/110 [==============================] - 41s 370ms/step - loss: 0.1084 - accuracy: 0.9670 - val_loss: 0.7742 - val_accuracy: 0.7943\n",
      "Epoch 9/20\n",
      "110/110 [==============================] - 41s 370ms/step - loss: 0.0784 - accuracy: 0.9786 - val_loss: 0.8050 - val_accuracy: 0.7940\n",
      "Epoch 10/20\n",
      "110/110 [==============================] - 41s 369ms/step - loss: 0.0571 - accuracy: 0.9833 - val_loss: 0.9020 - val_accuracy: 0.7890\n",
      "Epoch 11/20\n",
      "110/110 [==============================] - 41s 369ms/step - loss: 0.0423 - accuracy: 0.9890 - val_loss: 0.9442 - val_accuracy: 0.8017\n",
      "Epoch 12/20\n",
      "110/110 [==============================] - 41s 370ms/step - loss: 0.0326 - accuracy: 0.9917 - val_loss: 0.9968 - val_accuracy: 0.7897\n",
      "Epoch 13/20\n",
      "110/110 [==============================] - 41s 373ms/step - loss: 0.0389 - accuracy: 0.9905 - val_loss: 1.1327 - val_accuracy: 0.7653\n",
      "Epoch 14/20\n",
      "110/110 [==============================] - 41s 372ms/step - loss: 0.0448 - accuracy: 0.9873 - val_loss: 1.0974 - val_accuracy: 0.7813\n",
      "Epoch 15/20\n",
      "110/110 [==============================] - 41s 371ms/step - loss: 0.0296 - accuracy: 0.9917 - val_loss: 1.0828 - val_accuracy: 0.7953\n",
      "Epoch 16/20\n",
      "110/110 [==============================] - 41s 370ms/step - loss: 0.0137 - accuracy: 0.9979 - val_loss: 1.0307 - val_accuracy: 0.7977\n",
      "Epoch 17/20\n",
      "110/110 [==============================] - 41s 371ms/step - loss: 0.0091 - accuracy: 0.9989 - val_loss: 1.0609 - val_accuracy: 0.8033\n",
      "Epoch 18/20\n",
      "110/110 [==============================] - 41s 371ms/step - loss: 0.0090 - accuracy: 0.9989 - val_loss: 1.1027 - val_accuracy: 0.8010\n",
      "Epoch 19/20\n",
      "110/110 [==============================] - 41s 374ms/step - loss: 0.0071 - accuracy: 0.9991 - val_loss: 1.0871 - val_accuracy: 0.8033\n",
      "Epoch 20/20\n",
      "110/110 [==============================] - 42s 379ms/step - loss: 0.0086 - accuracy: 0.9990 - val_loss: 1.1447 - val_accuracy: 0.7963\n",
      "Time:  0:13:38.357878\n"
     ]
    }
   ],
   "source": [
    "model = Sequential([\n",
    "    layers.Conv2D(128, (3, 3), activation = 'tanh', input_shape = (150, 150, 3)),\n",
    "    layers.MaxPooling2D(2, 2),\n",
    "    layers.Conv2D(64, (3, 3), activation = 'tanh'),\n",
    "    layers.MaxPooling2D(2, 2),\n",
    "    layers.Conv2D(32, (3, 3), activation = 'tanh'),\n",
    "    layers.MaxPooling2D(2, 2),\n",
    "    layers.Flatten(),\n",
    "    layers.Dense(128, activation='relu'),\n",
    "    layers.Dense(6, activation='softmax')\n",
    "])\n",
    "model.compile(optimizer = 'adam', loss = 'categorical_crossentropy', metrics=['accuracy'])\n",
    "\n",
    "saveModel(model, 'model2.png')\n",
    "\n",
    "time_start = datetime.now()\n",
    "history = model.fit_generator(train_data, steps_per_epoch=len(train_data), shuffle=True, epochs=EPOCHS, validation_steps=len(test_data), validation_data=test_data)\n",
    "print('Time: ', datetime.now() - time_start)"
   ]
  },
  {
   "cell_type": "markdown",
   "metadata": {
    "_cell_guid": "53497bdb-dbd3-4c99-9ebc-399e7493577c",
    "_uuid": "45ac5706-7f0b-4da8-ac2c-571df599564e"
   },
   "source": [
    "### Конфигурация №3"
   ]
  },
  {
   "cell_type": "code",
   "execution_count": 9,
   "metadata": {
    "_cell_guid": "16235c03-d731-496a-8005-bdb4a74761db",
    "_uuid": "41a10f52-a509-453d-a811-17c37ea1820b"
   },
   "outputs": [
    {
     "name": "stdout",
     "output_type": "stream",
     "text": [
      "Model: \"sequential_2\"\n",
      "_________________________________________________________________\n",
      "Layer (type)                 Output Shape              Param #   \n",
      "=================================================================\n",
      "conv2d_5 (Conv2D)            (None, 148, 148, 256)     7168      \n",
      "_________________________________________________________________\n",
      "max_pooling2d_5 (MaxPooling2 (None, 29, 29, 256)       0         \n",
      "_________________________________________________________________\n",
      "conv2d_6 (Conv2D)            (None, 27, 27, 128)       295040    \n",
      "_________________________________________________________________\n",
      "max_pooling2d_6 (MaxPooling2 (None, 13, 13, 128)       0         \n",
      "_________________________________________________________________\n",
      "conv2d_7 (Conv2D)            (None, 11, 11, 64)        73792     \n",
      "_________________________________________________________________\n",
      "max_pooling2d_7 (MaxPooling2 (None, 5, 5, 64)          0         \n",
      "_________________________________________________________________\n",
      "conv2d_8 (Conv2D)            (None, 3, 3, 32)          18464     \n",
      "_________________________________________________________________\n",
      "max_pooling2d_8 (MaxPooling2 (None, 1, 1, 32)          0         \n",
      "_________________________________________________________________\n",
      "flatten_2 (Flatten)          (None, 32)                0         \n",
      "_________________________________________________________________\n",
      "dense_4 (Dense)              (None, 128)               4224      \n",
      "_________________________________________________________________\n",
      "dense_5 (Dense)              (None, 6)                 774       \n",
      "=================================================================\n",
      "Total params: 399,462\n",
      "Trainable params: 399,462\n",
      "Non-trainable params: 0\n",
      "_________________________________________________________________\n",
      "Epoch 1/20\n",
      "110/110 [==============================] - 50s 454ms/step - loss: 1.3256 - accuracy: 0.4573 - val_loss: 1.1127 - val_accuracy: 0.5613\n",
      "Epoch 2/20\n",
      "110/110 [==============================] - 48s 437ms/step - loss: 1.0406 - accuracy: 0.5854 - val_loss: 0.9600 - val_accuracy: 0.6233\n",
      "Epoch 3/20\n",
      "110/110 [==============================] - 48s 436ms/step - loss: 0.8944 - accuracy: 0.6521 - val_loss: 0.9243 - val_accuracy: 0.6540\n",
      "Epoch 4/20\n",
      "110/110 [==============================] - 47s 426ms/step - loss: 0.8280 - accuracy: 0.6853 - val_loss: 0.8142 - val_accuracy: 0.7073\n",
      "Epoch 5/20\n",
      "110/110 [==============================] - 46s 423ms/step - loss: 0.7567 - accuracy: 0.7136 - val_loss: 0.7212 - val_accuracy: 0.7383\n",
      "Epoch 6/20\n",
      "110/110 [==============================] - 46s 421ms/step - loss: 0.7223 - accuracy: 0.7309 - val_loss: 0.6965 - val_accuracy: 0.7437\n",
      "Epoch 7/20\n",
      "110/110 [==============================] - 42s 383ms/step - loss: 0.6492 - accuracy: 0.7580 - val_loss: 0.6543 - val_accuracy: 0.7480\n",
      "Epoch 8/20\n",
      "110/110 [==============================] - 42s 380ms/step - loss: 0.6178 - accuracy: 0.7726 - val_loss: 0.6067 - val_accuracy: 0.7817\n",
      "Epoch 9/20\n",
      "110/110 [==============================] - 41s 376ms/step - loss: 0.6029 - accuracy: 0.7796 - val_loss: 0.6139 - val_accuracy: 0.7750\n",
      "Epoch 10/20\n",
      "110/110 [==============================] - 42s 384ms/step - loss: 0.5619 - accuracy: 0.7942 - val_loss: 0.6117 - val_accuracy: 0.7853\n",
      "Epoch 11/20\n",
      "110/110 [==============================] - 46s 417ms/step - loss: 0.5425 - accuracy: 0.7966 - val_loss: 0.5448 - val_accuracy: 0.8033\n",
      "Epoch 12/20\n",
      "110/110 [==============================] - 45s 411ms/step - loss: 0.5203 - accuracy: 0.8111 - val_loss: 0.5543 - val_accuracy: 0.8067\n",
      "Epoch 13/20\n",
      "110/110 [==============================] - 44s 399ms/step - loss: 0.5130 - accuracy: 0.8090 - val_loss: 0.5269 - val_accuracy: 0.8100\n",
      "Epoch 14/20\n",
      "110/110 [==============================] - 46s 414ms/step - loss: 0.4769 - accuracy: 0.8268 - val_loss: 0.5592 - val_accuracy: 0.8070\n",
      "Epoch 15/20\n",
      "110/110 [==============================] - 44s 402ms/step - loss: 0.4700 - accuracy: 0.8241 - val_loss: 0.5392 - val_accuracy: 0.8070\n",
      "Epoch 16/20\n",
      "110/110 [==============================] - 46s 414ms/step - loss: 0.4528 - accuracy: 0.8374 - val_loss: 0.5261 - val_accuracy: 0.8093\n",
      "Epoch 17/20\n",
      "110/110 [==============================] - 45s 414ms/step - loss: 0.4361 - accuracy: 0.8405 - val_loss: 0.5183 - val_accuracy: 0.8130\n",
      "Epoch 18/20\n",
      "110/110 [==============================] - 45s 413ms/step - loss: 0.4273 - accuracy: 0.8408 - val_loss: 0.5632 - val_accuracy: 0.8000\n",
      "Epoch 19/20\n",
      "110/110 [==============================] - 46s 415ms/step - loss: 0.4017 - accuracy: 0.8526 - val_loss: 0.5070 - val_accuracy: 0.8227\n",
      "Epoch 20/20\n",
      "110/110 [==============================] - 46s 423ms/step - loss: 0.4006 - accuracy: 0.8555 - val_loss: 0.5165 - val_accuracy: 0.8237\n",
      "Time:  0:15:06.720410\n"
     ]
    }
   ],
   "source": [
    "model = Sequential([\n",
    "    layers.Conv2D(256, (3, 3), activation = 'relu', input_shape = (150, 150, 3)),\n",
    "    layers.MaxPooling2D(5, 5),\n",
    "    layers.Conv2D(128, (3, 3), activation = 'relu'),\n",
    "    layers.MaxPooling2D(2, 2),\n",
    "    layers.Conv2D(64, (3, 3), activation = 'relu'),\n",
    "    layers.MaxPooling2D(2, 2),\n",
    "    layers.Conv2D(32, (3, 3), activation = 'relu'),\n",
    "    layers.MaxPooling2D(2, 2),\n",
    "    layers.Flatten(),\n",
    "    layers.Dense(128, activation='relu'),\n",
    "    layers.Dense(6, activation='softmax')\n",
    "])\n",
    "model.compile(optimizer = 'adam', loss = 'categorical_crossentropy', metrics=['accuracy'])\n",
    "\n",
    "saveModel(model, 'model3.png')\n",
    "\n",
    "time_start = datetime.now()\n",
    "history = model.fit_generator(train_data, steps_per_epoch=len(train_data), shuffle=True, epochs=EPOCHS, validation_steps=len(test_data), validation_data=test_data)\n",
    "print('Time: ', datetime.now() - time_start)"
   ]
  },
  {
   "cell_type": "markdown",
   "metadata": {
    "_cell_guid": "45a16eff-327d-4e7c-9e14-616a8b2a86aa",
    "_uuid": "d95e2055-bd87-421c-816f-3e0068c29706"
   },
   "source": [
    "### Конфигурация №4"
   ]
  },
  {
   "cell_type": "code",
   "execution_count": 10,
   "metadata": {
    "_cell_guid": "d66a6d77-5b5b-406b-aaf9-fe2c96318a8b",
    "_uuid": "07da9bc4-99e4-4ad3-87ba-9a0a836684b1"
   },
   "outputs": [
    {
     "name": "stdout",
     "output_type": "stream",
     "text": [
      "Model: \"sequential_3\"\n",
      "_________________________________________________________________\n",
      "Layer (type)                 Output Shape              Param #   \n",
      "=================================================================\n",
      "conv2d_9 (Conv2D)            (None, 148, 148, 256)     7168      \n",
      "_________________________________________________________________\n",
      "max_pooling2d_9 (MaxPooling2 (None, 29, 29, 256)       0         \n",
      "_________________________________________________________________\n",
      "conv2d_10 (Conv2D)           (None, 27, 27, 180)       414900    \n",
      "_________________________________________________________________\n",
      "max_pooling2d_10 (MaxPooling (None, 13, 13, 180)       0         \n",
      "_________________________________________________________________\n",
      "conv2d_11 (Conv2D)           (None, 11, 11, 128)       207488    \n",
      "_________________________________________________________________\n",
      "conv2d_12 (Conv2D)           (None, 9, 9, 64)          73792     \n",
      "_________________________________________________________________\n",
      "conv2d_13 (Conv2D)           (None, 7, 7, 32)          18464     \n",
      "_________________________________________________________________\n",
      "max_pooling2d_11 (MaxPooling (None, 3, 3, 32)          0         \n",
      "_________________________________________________________________\n",
      "flatten_3 (Flatten)          (None, 288)               0         \n",
      "_________________________________________________________________\n",
      "dense_6 (Dense)              (None, 180)               52020     \n",
      "_________________________________________________________________\n",
      "dense_7 (Dense)              (None, 128)               23168     \n",
      "_________________________________________________________________\n",
      "dense_8 (Dense)              (None, 6)                 774       \n",
      "=================================================================\n",
      "Total params: 797,774\n",
      "Trainable params: 797,774\n",
      "Non-trainable params: 0\n",
      "_________________________________________________________________\n",
      "Epoch 1/20\n",
      "110/110 [==============================] - 48s 433ms/step - loss: 1.2804 - accuracy: 0.4638 - val_loss: 1.1014 - val_accuracy: 0.5707\n",
      "Epoch 2/20\n",
      "110/110 [==============================] - 46s 418ms/step - loss: 0.9773 - accuracy: 0.6181 - val_loss: 0.8551 - val_accuracy: 0.6717\n",
      "Epoch 3/20\n",
      "110/110 [==============================] - 45s 413ms/step - loss: 0.8180 - accuracy: 0.6870 - val_loss: 0.7499 - val_accuracy: 0.7207\n",
      "Epoch 4/20\n",
      "110/110 [==============================] - 45s 413ms/step - loss: 0.7086 - accuracy: 0.7390 - val_loss: 0.7047 - val_accuracy: 0.7473\n",
      "Epoch 5/20\n",
      "110/110 [==============================] - 45s 409ms/step - loss: 0.6321 - accuracy: 0.7697 - val_loss: 0.5620 - val_accuracy: 0.7990\n",
      "Epoch 6/20\n",
      "110/110 [==============================] - 45s 407ms/step - loss: 0.5787 - accuracy: 0.7860 - val_loss: 0.5649 - val_accuracy: 0.7960\n",
      "Epoch 7/20\n",
      "110/110 [==============================] - 45s 408ms/step - loss: 0.5407 - accuracy: 0.8043 - val_loss: 0.5572 - val_accuracy: 0.8023\n",
      "Epoch 8/20\n",
      "110/110 [==============================] - 44s 403ms/step - loss: 0.5178 - accuracy: 0.8178 - val_loss: 0.5691 - val_accuracy: 0.7967\n",
      "Epoch 9/20\n",
      "110/110 [==============================] - 43s 393ms/step - loss: 0.4872 - accuracy: 0.8268 - val_loss: 0.4821 - val_accuracy: 0.8360\n",
      "Epoch 10/20\n",
      "110/110 [==============================] - 40s 365ms/step - loss: 0.4672 - accuracy: 0.8308 - val_loss: 0.4767 - val_accuracy: 0.8313\n",
      "Epoch 11/20\n",
      "110/110 [==============================] - 40s 365ms/step - loss: 0.4254 - accuracy: 0.8452 - val_loss: 0.4941 - val_accuracy: 0.8273\n",
      "Epoch 12/20\n",
      "110/110 [==============================] - 40s 362ms/step - loss: 0.3998 - accuracy: 0.8543 - val_loss: 0.4795 - val_accuracy: 0.8343\n",
      "Epoch 13/20\n",
      "110/110 [==============================] - 44s 400ms/step - loss: 0.3901 - accuracy: 0.8567 - val_loss: 0.4975 - val_accuracy: 0.8407\n",
      "Epoch 14/20\n",
      "110/110 [==============================] - 42s 380ms/step - loss: 0.3677 - accuracy: 0.8705 - val_loss: 0.4773 - val_accuracy: 0.8340\n",
      "Epoch 15/20\n",
      "110/110 [==============================] - 40s 362ms/step - loss: 0.3574 - accuracy: 0.8687 - val_loss: 0.4985 - val_accuracy: 0.8370\n",
      "Epoch 16/20\n",
      "110/110 [==============================] - 40s 362ms/step - loss: 0.3326 - accuracy: 0.8796 - val_loss: 0.4941 - val_accuracy: 0.8247\n",
      "Epoch 17/20\n",
      "110/110 [==============================] - 44s 399ms/step - loss: 0.3131 - accuracy: 0.8898 - val_loss: 0.5067 - val_accuracy: 0.8220\n",
      "Epoch 18/20\n",
      "110/110 [==============================] - 44s 399ms/step - loss: 0.2983 - accuracy: 0.8908 - val_loss: 0.5414 - val_accuracy: 0.8203\n",
      "Epoch 19/20\n",
      "110/110 [==============================] - 44s 398ms/step - loss: 0.2807 - accuracy: 0.8997 - val_loss: 0.5579 - val_accuracy: 0.8223\n",
      "Epoch 20/20\n",
      "110/110 [==============================] - 45s 405ms/step - loss: 0.2511 - accuracy: 0.9097 - val_loss: 0.5678 - val_accuracy: 0.8223\n",
      "Time:  0:14:28.212230\n"
     ]
    }
   ],
   "source": [
    "model = Sequential([\n",
    "    layers.Conv2D(256, (3, 3), activation = 'relu', input_shape = (150, 150, 3)),\n",
    "    layers.MaxPooling2D(5, 5),\n",
    "    layers.Conv2D(180, (3, 3), activation = 'relu'),\n",
    "    layers.MaxPooling2D(2, 2),\n",
    "    layers.Conv2D(128, (3, 3), activation = 'relu'),\n",
    "    layers.Conv2D(64, (3, 3), activation = 'relu'),\n",
    "    layers.Conv2D(32, (3, 3), activation = 'relu'),\n",
    "    layers.MaxPooling2D(2, 2),\n",
    "    layers.Flatten(),\n",
    "    layers.Dense(180,activation='relu'),\n",
    "    layers.Dense(128, activation='relu'),\n",
    "    layers.Dense(6, activation='softmax')\n",
    "])\n",
    "model.compile(optimizer = 'adam', loss = 'categorical_crossentropy', metrics=['accuracy'])\n",
    "\n",
    "saveModel(model, 'model4.png')\n",
    "\n",
    "time_start = datetime.now()\n",
    "history = model.fit_generator(train_data, steps_per_epoch=len(train_data), shuffle=True, epochs=EPOCHS, validation_steps=len(test_data), validation_data=test_data)\n",
    "print('Time: ', datetime.now() - time_start)"
   ]
  },
  {
   "cell_type": "markdown",
   "metadata": {
    "_cell_guid": "eda7e55f-e8aa-4d66-a9da-60ae0d0edaa0",
    "_uuid": "e29f1ae0-d6d9-49ff-93f8-f06c49ba9ee0"
   },
   "source": [
    "### Конфигурация №5"
   ]
  },
  {
   "cell_type": "code",
   "execution_count": 11,
   "metadata": {
    "_cell_guid": "176d4867-0229-4012-ae90-40b1b6920728",
    "_uuid": "36173285-05cb-429a-8dd9-3a1b4cfaf7dd"
   },
   "outputs": [
    {
     "name": "stdout",
     "output_type": "stream",
     "text": [
      "Model: \"sequential_4\"\n",
      "_________________________________________________________________\n",
      "Layer (type)                 Output Shape              Param #   \n",
      "=================================================================\n",
      "conv2d_14 (Conv2D)           (None, 148, 148, 256)     7168      \n",
      "_________________________________________________________________\n",
      "conv2d_15 (Conv2D)           (None, 146, 146, 180)     414900    \n",
      "_________________________________________________________________\n",
      "max_pooling2d_12 (MaxPooling (None, 29, 29, 180)       0         \n",
      "_________________________________________________________________\n",
      "conv2d_16 (Conv2D)           (None, 27, 27, 180)       291780    \n",
      "_________________________________________________________________\n",
      "conv2d_17 (Conv2D)           (None, 25, 25, 128)       207488    \n",
      "_________________________________________________________________\n",
      "max_pooling2d_13 (MaxPooling (None, 12, 12, 128)       0         \n",
      "_________________________________________________________________\n",
      "conv2d_18 (Conv2D)           (None, 10, 10, 64)        73792     \n",
      "_________________________________________________________________\n",
      "max_pooling2d_14 (MaxPooling (None, 5, 5, 64)          0         \n",
      "_________________________________________________________________\n",
      "conv2d_19 (Conv2D)           (None, 3, 3, 32)          18464     \n",
      "_________________________________________________________________\n",
      "max_pooling2d_15 (MaxPooling (None, 1, 1, 32)          0         \n",
      "_________________________________________________________________\n",
      "flatten_4 (Flatten)          (None, 32)                0         \n",
      "_________________________________________________________________\n",
      "dense_9 (Dense)              (None, 180)               5940      \n",
      "_________________________________________________________________\n",
      "dense_10 (Dense)             (None, 128)               23168     \n",
      "_________________________________________________________________\n",
      "dense_11 (Dense)             (None, 50)                6450      \n",
      "_________________________________________________________________\n",
      "dropout (Dropout)            (None, 50)                0         \n",
      "_________________________________________________________________\n",
      "dense_12 (Dense)             (None, 6)                 306       \n",
      "=================================================================\n",
      "Total params: 1,049,456\n",
      "Trainable params: 1,049,456\n",
      "Non-trainable params: 0\n",
      "_________________________________________________________________\n",
      "Epoch 1/20\n",
      "110/110 [==============================] - 121s 1s/step - loss: 1.4407 - accuracy: 0.3623 - val_loss: 1.1824 - val_accuracy: 0.5293\n",
      "Epoch 2/20\n",
      "110/110 [==============================] - 113s 1s/step - loss: 1.1131 - accuracy: 0.5402 - val_loss: 0.9469 - val_accuracy: 0.6290\n",
      "Epoch 3/20\n",
      "110/110 [==============================] - 114s 1s/step - loss: 0.9675 - accuracy: 0.6208 - val_loss: 0.8200 - val_accuracy: 0.6933\n",
      "Epoch 4/20\n",
      "110/110 [==============================] - 113s 1s/step - loss: 0.8670 - accuracy: 0.6699 - val_loss: 0.7869 - val_accuracy: 0.7180\n",
      "Epoch 5/20\n",
      "110/110 [==============================] - 113s 1s/step - loss: 0.7673 - accuracy: 0.7257 - val_loss: 0.6845 - val_accuracy: 0.7460\n",
      "Epoch 6/20\n",
      "110/110 [==============================] - 113s 1s/step - loss: 0.6947 - accuracy: 0.7564 - val_loss: 0.5969 - val_accuracy: 0.7923\n",
      "Epoch 7/20\n",
      "110/110 [==============================] - 113s 1s/step - loss: 0.6056 - accuracy: 0.7897 - val_loss: 0.6025 - val_accuracy: 0.7900\n",
      "Epoch 8/20\n",
      "110/110 [==============================] - 113s 1s/step - loss: 0.5850 - accuracy: 0.8018 - val_loss: 0.5916 - val_accuracy: 0.7697\n",
      "Epoch 9/20\n",
      "110/110 [==============================] - 113s 1s/step - loss: 0.5383 - accuracy: 0.8131 - val_loss: 0.5129 - val_accuracy: 0.8070\n",
      "Epoch 10/20\n",
      "110/110 [==============================] - 113s 1s/step - loss: 0.4975 - accuracy: 0.8308 - val_loss: 0.5366 - val_accuracy: 0.8123\n",
      "Epoch 11/20\n",
      "110/110 [==============================] - 113s 1s/step - loss: 0.4730 - accuracy: 0.8358 - val_loss: 0.5130 - val_accuracy: 0.8147\n",
      "Epoch 12/20\n",
      "110/110 [==============================] - 113s 1s/step - loss: 0.4679 - accuracy: 0.8411 - val_loss: 0.5015 - val_accuracy: 0.8177\n",
      "Epoch 13/20\n",
      "110/110 [==============================] - 113s 1s/step - loss: 0.4242 - accuracy: 0.8536 - val_loss: 0.5241 - val_accuracy: 0.8160\n",
      "Epoch 14/20\n",
      "110/110 [==============================] - 113s 1s/step - loss: 0.4233 - accuracy: 0.8571 - val_loss: 0.5257 - val_accuracy: 0.8080\n",
      "Epoch 15/20\n",
      "110/110 [==============================] - 113s 1s/step - loss: 0.3694 - accuracy: 0.8761 - val_loss: 0.5026 - val_accuracy: 0.8403\n",
      "Epoch 16/20\n",
      "110/110 [==============================] - 113s 1s/step - loss: 0.3352 - accuracy: 0.8861 - val_loss: 0.5543 - val_accuracy: 0.8227\n",
      "Epoch 17/20\n",
      "110/110 [==============================] - 113s 1s/step - loss: 0.3249 - accuracy: 0.8904 - val_loss: 0.5189 - val_accuracy: 0.8287\n",
      "Epoch 18/20\n",
      "110/110 [==============================] - 113s 1s/step - loss: 0.2968 - accuracy: 0.8982 - val_loss: 0.5365 - val_accuracy: 0.8363\n",
      "Epoch 19/20\n",
      "110/110 [==============================] - 112s 1s/step - loss: 0.2755 - accuracy: 0.9059 - val_loss: 0.5666 - val_accuracy: 0.8310\n",
      "Epoch 20/20\n",
      "110/110 [==============================] - 111s 1s/step - loss: 0.2606 - accuracy: 0.9109 - val_loss: 0.5558 - val_accuracy: 0.8277\n",
      "Time:  0:37:41.821664\n"
     ]
    }
   ],
   "source": [
    "model = Sequential([\n",
    "    layers.Conv2D(256, (3, 3), activation = 'relu', input_shape = (150, 150, 3)),\n",
    "    layers.Conv2D(180, (3, 3), activation = 'relu'),\n",
    "    layers.MaxPooling2D(5, 5),\n",
    "    layers.Conv2D(180, (3, 3), activation = 'relu'),\n",
    "    layers.Conv2D(128, (3, 3), activation = 'relu'),\n",
    "    layers.MaxPooling2D(2, 2),\n",
    "    layers.Conv2D(64, (3, 3), activation = 'relu'),\n",
    "    layers.MaxPooling2D(2, 2),\n",
    "    layers.Conv2D(32, (3, 3), activation = 'relu'),\n",
    "    layers.MaxPooling2D(2, 2),\n",
    "    layers.Flatten(),\n",
    "    layers.Dense(180,activation='relu'),\n",
    "    layers.Dense(128, activation='relu'),\n",
    "    layers.Dense(50,activation='relu'),\n",
    "    layers.Dropout(rate=0.5),\n",
    "    layers.Dense(6, activation='softmax')\n",
    "])\n",
    "model.compile(optimizer = 'adam', loss = 'categorical_crossentropy', metrics=['accuracy'])\n",
    "\n",
    "saveModel(model, 'model5.png')\n",
    "\n",
    "time_start = datetime.now()\n",
    "history = model.fit_generator(train_data, steps_per_epoch=len(train_data), shuffle=True, epochs=EPOCHS, validation_steps=len(test_data), validation_data=test_data)\n",
    "print('Time: ', datetime.now() - time_start)"
   ]
  },
  {
   "cell_type": "markdown",
   "metadata": {
    "_cell_guid": "2ae891a8-9f7a-415f-8462-7b335d5e9cb6",
    "_uuid": "5c876588-8e2d-4ade-be17-30b482715c7b"
   },
   "source": [
    "### Конфигурация №6 - tanh everywhere"
   ]
  },
  {
   "cell_type": "code",
   "execution_count": 12,
   "metadata": {
    "_cell_guid": "6c3f077e-fa6d-45bb-ac4f-17cf53800b2d",
    "_uuid": "75e57309-d89a-41ec-83ce-88212dccf08f"
   },
   "outputs": [
    {
     "name": "stdout",
     "output_type": "stream",
     "text": [
      "Model: \"sequential_5\"\n",
      "_________________________________________________________________\n",
      "Layer (type)                 Output Shape              Param #   \n",
      "=================================================================\n",
      "conv2d_20 (Conv2D)           (None, 148, 148, 256)     7168      \n",
      "_________________________________________________________________\n",
      "conv2d_21 (Conv2D)           (None, 146, 146, 180)     414900    \n",
      "_________________________________________________________________\n",
      "max_pooling2d_16 (MaxPooling (None, 29, 29, 180)       0         \n",
      "_________________________________________________________________\n",
      "conv2d_22 (Conv2D)           (None, 27, 27, 180)       291780    \n",
      "_________________________________________________________________\n",
      "conv2d_23 (Conv2D)           (None, 25, 25, 128)       207488    \n",
      "_________________________________________________________________\n",
      "max_pooling2d_17 (MaxPooling (None, 12, 12, 128)       0         \n",
      "_________________________________________________________________\n",
      "conv2d_24 (Conv2D)           (None, 10, 10, 64)        73792     \n",
      "_________________________________________________________________\n",
      "max_pooling2d_18 (MaxPooling (None, 5, 5, 64)          0         \n",
      "_________________________________________________________________\n",
      "conv2d_25 (Conv2D)           (None, 3, 3, 32)          18464     \n",
      "_________________________________________________________________\n",
      "max_pooling2d_19 (MaxPooling (None, 1, 1, 32)          0         \n",
      "_________________________________________________________________\n",
      "flatten_5 (Flatten)          (None, 32)                0         \n",
      "_________________________________________________________________\n",
      "dense_13 (Dense)             (None, 180)               5940      \n",
      "_________________________________________________________________\n",
      "dense_14 (Dense)             (None, 128)               23168     \n",
      "_________________________________________________________________\n",
      "dense_15 (Dense)             (None, 50)                6450      \n",
      "_________________________________________________________________\n",
      "dropout_1 (Dropout)          (None, 50)                0         \n",
      "_________________________________________________________________\n",
      "dense_16 (Dense)             (None, 6)                 306       \n",
      "=================================================================\n",
      "Total params: 1,049,456\n",
      "Trainable params: 1,049,456\n",
      "Non-trainable params: 0\n",
      "_________________________________________________________________\n",
      "Epoch 1/20\n",
      "110/110 [==============================] - 115s 1s/step - loss: 1.2982 - accuracy: 0.4788 - val_loss: 0.9209 - val_accuracy: 0.6580\n",
      "Epoch 2/20\n",
      "110/110 [==============================] - 114s 1s/step - loss: 0.9917 - accuracy: 0.6129 - val_loss: 0.7615 - val_accuracy: 0.7187\n",
      "Epoch 3/20\n",
      "110/110 [==============================] - 114s 1s/step - loss: 0.8045 - accuracy: 0.7020 - val_loss: 0.7236 - val_accuracy: 0.7373\n",
      "Epoch 4/20\n",
      "110/110 [==============================] - 114s 1s/step - loss: 0.7376 - accuracy: 0.7287 - val_loss: 0.6201 - val_accuracy: 0.7843\n",
      "Epoch 5/20\n",
      "110/110 [==============================] - 114s 1s/step - loss: 0.6800 - accuracy: 0.7591 - val_loss: 0.6302 - val_accuracy: 0.7713\n",
      "Epoch 6/20\n",
      "110/110 [==============================] - 115s 1s/step - loss: 0.6490 - accuracy: 0.7720 - val_loss: 0.6190 - val_accuracy: 0.7747\n",
      "Epoch 7/20\n",
      "110/110 [==============================] - 119s 1s/step - loss: 0.6354 - accuracy: 0.7743 - val_loss: 0.6719 - val_accuracy: 0.7507\n",
      "Epoch 8/20\n",
      "110/110 [==============================] - 119s 1s/step - loss: 0.6108 - accuracy: 0.7828 - val_loss: 0.5945 - val_accuracy: 0.7887\n",
      "Epoch 9/20\n",
      "110/110 [==============================] - 119s 1s/step - loss: 0.5988 - accuracy: 0.7877 - val_loss: 0.6208 - val_accuracy: 0.7803\n",
      "Epoch 10/20\n",
      "110/110 [==============================] - 119s 1s/step - loss: 0.5730 - accuracy: 0.7983 - val_loss: 0.5699 - val_accuracy: 0.8013\n",
      "Epoch 11/20\n",
      "110/110 [==============================] - 119s 1s/step - loss: 0.5425 - accuracy: 0.8121 - val_loss: 0.5695 - val_accuracy: 0.7993\n",
      "Epoch 12/20\n",
      "110/110 [==============================] - 119s 1s/step - loss: 0.5187 - accuracy: 0.8155 - val_loss: 0.5797 - val_accuracy: 0.7920\n",
      "Epoch 13/20\n",
      "110/110 [==============================] - 119s 1s/step - loss: 0.5168 - accuracy: 0.8220 - val_loss: 0.5485 - val_accuracy: 0.8077\n",
      "Epoch 14/20\n",
      "110/110 [==============================] - 119s 1s/step - loss: 0.5142 - accuracy: 0.8210 - val_loss: 0.5512 - val_accuracy: 0.8027\n",
      "Epoch 15/20\n",
      "110/110 [==============================] - 119s 1s/step - loss: 0.4811 - accuracy: 0.8345 - val_loss: 0.5179 - val_accuracy: 0.8213\n",
      "Epoch 16/20\n",
      "110/110 [==============================] - 119s 1s/step - loss: 0.4744 - accuracy: 0.8351 - val_loss: 0.5654 - val_accuracy: 0.8083\n",
      "Epoch 17/20\n",
      "110/110 [==============================] - 119s 1s/step - loss: 0.4825 - accuracy: 0.8336 - val_loss: 0.5356 - val_accuracy: 0.8147\n",
      "Epoch 18/20\n",
      "110/110 [==============================] - 119s 1s/step - loss: 0.4566 - accuracy: 0.8414 - val_loss: 0.5478 - val_accuracy: 0.8153\n",
      "Epoch 19/20\n",
      "110/110 [==============================] - 119s 1s/step - loss: 0.4344 - accuracy: 0.8524 - val_loss: 0.5807 - val_accuracy: 0.7907\n",
      "Epoch 20/20\n",
      "110/110 [==============================] - 119s 1s/step - loss: 0.4456 - accuracy: 0.8474 - val_loss: 0.5360 - val_accuracy: 0.8103\n",
      "Time:  0:39:08.687548\n"
     ]
    }
   ],
   "source": [
    "model = Sequential([\n",
    "    layers.Conv2D(256, (3, 3), activation = 'tanh', input_shape = (150, 150, 3)),\n",
    "    layers.Conv2D(180, (3, 3), activation = 'tanh'),\n",
    "    layers.MaxPooling2D(5, 5),\n",
    "    layers.Conv2D(180, (3, 3), activation = 'tanh'),\n",
    "    layers.Conv2D(128, (3, 3), activation = 'tanh'),\n",
    "    layers.MaxPooling2D(2, 2),\n",
    "    layers.Conv2D(64, (3, 3), activation = 'tanh'),\n",
    "    layers.MaxPooling2D(2, 2),\n",
    "    layers.Conv2D(32, (3, 3), activation = 'tanh'),\n",
    "    layers.MaxPooling2D(2, 2),\n",
    "    layers.Flatten(),\n",
    "    layers.Dense(180,activation='tanh'),\n",
    "    layers.Dense(128, activation='tanh'),\n",
    "    layers.Dense(50,activation='tanh'),\n",
    "    layers.Dropout(rate=0.5),\n",
    "    layers.Dense(6, activation='softmax')\n",
    "])\n",
    "model.compile(optimizer = 'adam', loss = 'categorical_crossentropy', metrics=['accuracy'])\n",
    "\n",
    "saveModel(model, 'model6.png')\n",
    "\n",
    "time_start = datetime.now()\n",
    "history = model.fit_generator(train_data, steps_per_epoch=len(train_data), shuffle=True, epochs=EPOCHS, validation_steps=len(test_data), validation_data=test_data)\n",
    "print('Time: ', datetime.now() - time_start)"
   ]
  },
  {
   "cell_type": "markdown",
   "metadata": {
    "_cell_guid": "f8d173d2-ac33-418c-9239-aefb443a4646",
    "_uuid": "5d9e53c6-bfcf-429e-9552-5a1adc02e661"
   },
   "source": [
    "### Конфигурация №7 - average pooling"
   ]
  },
  {
   "cell_type": "code",
   "execution_count": 13,
   "metadata": {
    "_cell_guid": "2fbb68b2-8dd8-4105-9f0f-90ae8b26d028",
    "_uuid": "11cc0349-2c44-4476-89c9-6b84543c8918"
   },
   "outputs": [
    {
     "name": "stdout",
     "output_type": "stream",
     "text": [
      "Model: \"sequential_6\"\n",
      "_________________________________________________________________\n",
      "Layer (type)                 Output Shape              Param #   \n",
      "=================================================================\n",
      "conv2d_26 (Conv2D)           (None, 148, 148, 256)     7168      \n",
      "_________________________________________________________________\n",
      "conv2d_27 (Conv2D)           (None, 146, 146, 180)     414900    \n",
      "_________________________________________________________________\n",
      "average_pooling2d (AveragePo (None, 29, 29, 180)       0         \n",
      "_________________________________________________________________\n",
      "conv2d_28 (Conv2D)           (None, 27, 27, 180)       291780    \n",
      "_________________________________________________________________\n",
      "conv2d_29 (Conv2D)           (None, 25, 25, 128)       207488    \n",
      "_________________________________________________________________\n",
      "average_pooling2d_1 (Average (None, 12, 12, 128)       0         \n",
      "_________________________________________________________________\n",
      "conv2d_30 (Conv2D)           (None, 10, 10, 64)        73792     \n",
      "_________________________________________________________________\n",
      "average_pooling2d_2 (Average (None, 5, 5, 64)          0         \n",
      "_________________________________________________________________\n",
      "conv2d_31 (Conv2D)           (None, 3, 3, 32)          18464     \n",
      "_________________________________________________________________\n",
      "average_pooling2d_3 (Average (None, 1, 1, 32)          0         \n",
      "_________________________________________________________________\n",
      "flatten_6 (Flatten)          (None, 32)                0         \n",
      "_________________________________________________________________\n",
      "dense_17 (Dense)             (None, 180)               5940      \n",
      "_________________________________________________________________\n",
      "dense_18 (Dense)             (None, 128)               23168     \n",
      "_________________________________________________________________\n",
      "dense_19 (Dense)             (None, 50)                6450      \n",
      "_________________________________________________________________\n",
      "dropout_2 (Dropout)          (None, 50)                0         \n",
      "_________________________________________________________________\n",
      "dense_20 (Dense)             (None, 6)                 306       \n",
      "=================================================================\n",
      "Total params: 1,049,456\n",
      "Trainable params: 1,049,456\n",
      "Non-trainable params: 0\n",
      "_________________________________________________________________\n",
      "Epoch 1/20\n",
      "110/110 [==============================] - 115s 1s/step - loss: 1.5324 - accuracy: 0.3787 - val_loss: 1.3512 - val_accuracy: 0.4830\n",
      "Epoch 2/20\n",
      "110/110 [==============================] - 115s 1s/step - loss: 1.3469 - accuracy: 0.4771 - val_loss: 1.2957 - val_accuracy: 0.4963\n",
      "Epoch 3/20\n",
      "110/110 [==============================] - 115s 1s/step - loss: 1.2808 - accuracy: 0.4984 - val_loss: 1.2617 - val_accuracy: 0.5210\n",
      "Epoch 4/20\n",
      "110/110 [==============================] - 115s 1s/step - loss: 1.2247 - accuracy: 0.5183 - val_loss: 1.1202 - val_accuracy: 0.5707\n",
      "Epoch 5/20\n",
      "110/110 [==============================] - 115s 1s/step - loss: 1.1037 - accuracy: 0.5671 - val_loss: 0.9835 - val_accuracy: 0.6147\n",
      "Epoch 6/20\n",
      "110/110 [==============================] - 115s 1s/step - loss: 1.0355 - accuracy: 0.5931 - val_loss: 0.9819 - val_accuracy: 0.6143\n",
      "Epoch 7/20\n",
      "110/110 [==============================] - 116s 1s/step - loss: 0.9581 - accuracy: 0.6286 - val_loss: 0.9123 - val_accuracy: 0.6500\n",
      "Epoch 8/20\n",
      "110/110 [==============================] - 111s 1s/step - loss: 0.9152 - accuracy: 0.6575 - val_loss: 0.9370 - val_accuracy: 0.6357\n",
      "Epoch 9/20\n",
      "110/110 [==============================] - 111s 1s/step - loss: 0.8699 - accuracy: 0.6777 - val_loss: 0.8245 - val_accuracy: 0.6920\n",
      "Epoch 10/20\n",
      "110/110 [==============================] - 115s 1s/step - loss: 0.8342 - accuracy: 0.6917 - val_loss: 0.7789 - val_accuracy: 0.7063\n",
      "Epoch 11/20\n",
      "110/110 [==============================] - 115s 1s/step - loss: 0.8240 - accuracy: 0.6981 - val_loss: 0.8157 - val_accuracy: 0.6957\n",
      "Epoch 12/20\n",
      "110/110 [==============================] - 115s 1s/step - loss: 0.7882 - accuracy: 0.7174 - val_loss: 0.7415 - val_accuracy: 0.7200\n",
      "Epoch 13/20\n",
      "110/110 [==============================] - 115s 1s/step - loss: 0.7652 - accuracy: 0.7246 - val_loss: 0.8160 - val_accuracy: 0.6933\n",
      "Epoch 14/20\n",
      "110/110 [==============================] - 115s 1s/step - loss: 0.7318 - accuracy: 0.7349 - val_loss: 0.7497 - val_accuracy: 0.7247\n",
      "Epoch 15/20\n",
      "110/110 [==============================] - 115s 1s/step - loss: 0.7174 - accuracy: 0.7460 - val_loss: 0.7281 - val_accuracy: 0.7347\n",
      "Epoch 16/20\n",
      "110/110 [==============================] - 115s 1s/step - loss: 0.7067 - accuracy: 0.7463 - val_loss: 0.6753 - val_accuracy: 0.7487\n",
      "Epoch 17/20\n",
      "110/110 [==============================] - 115s 1s/step - loss: 0.6764 - accuracy: 0.7619 - val_loss: 0.7407 - val_accuracy: 0.7323\n",
      "Epoch 18/20\n",
      "110/110 [==============================] - 115s 1s/step - loss: 0.6540 - accuracy: 0.7728 - val_loss: 0.6688 - val_accuracy: 0.7527\n",
      "Epoch 19/20\n",
      "110/110 [==============================] - 115s 1s/step - loss: 0.6414 - accuracy: 0.7761 - val_loss: 0.6691 - val_accuracy: 0.7557\n",
      "Epoch 20/20\n",
      "110/110 [==============================] - 115s 1s/step - loss: 0.6398 - accuracy: 0.7754 - val_loss: 0.6970 - val_accuracy: 0.7420\n",
      "Time:  0:38:15.475806\n"
     ]
    }
   ],
   "source": [
    "model = Sequential([\n",
    "    layers.Conv2D(256, (3, 3), activation = 'tanh', input_shape = (150, 150, 3)),\n",
    "    layers.Conv2D(180, (3, 3), activation = 'tanh'),\n",
    "    layers.AveragePooling2D(5, 5),\n",
    "    layers.Conv2D(180, (3, 3), activation = 'tanh'),\n",
    "    layers.Conv2D(128, (3, 3), activation = 'tanh'),\n",
    "    layers.AveragePooling2D(2, 2),\n",
    "    layers.Conv2D(64, (3, 3), activation = 'tanh'),\n",
    "    layers.AveragePooling2D(2, 2),\n",
    "    layers.Conv2D(32, (3, 3), activation = 'tanh'),\n",
    "    layers.AveragePooling2D(2, 2),\n",
    "    layers.Flatten(),\n",
    "    layers.Dense(180,activation='tanh'),\n",
    "    layers.Dense(128, activation='tanh'),\n",
    "    layers.Dense(50,activation='tanh'),\n",
    "    layers.Dropout(rate=0.5),\n",
    "    layers.Dense(6, activation='softmax')\n",
    "])\n",
    "model.compile(optimizer = 'adam', loss = 'categorical_crossentropy', metrics=['accuracy'])\n",
    "\n",
    "saveModel(model, 'model7.png')\n",
    "\n",
    "time_start = datetime.now()\n",
    "history = model.fit_generator(train_data, steps_per_epoch=len(train_data), shuffle=True, epochs=EPOCHS, validation_steps=len(test_data), validation_data=test_data)\n",
    "print('Time: ', datetime.now() - time_start)"
   ]
  }
 ],
 "metadata": {
  "kernelspec": {
   "display_name": "Python 3",
   "language": "python",
   "name": "python3"
  },
  "language_info": {
   "codemirror_mode": {
    "name": "ipython",
    "version": 3
   },
   "file_extension": ".py",
   "mimetype": "text/x-python",
   "name": "python",
   "nbconvert_exporter": "python",
   "pygments_lexer": "ipython3",
   "version": "3.6.9"
  }
 },
 "nbformat": 4,
 "nbformat_minor": 1
}
