{
 "cells": [
  {
   "cell_type": "markdown",
   "metadata": {
    "_cell_guid": "7248fdfc-f7ab-4ffd-a6ff-24dc177c13e0",
    "_uuid": "16c1d1e7-b8df-4224-98cb-855cfae950f2"
   },
   "source": [
    "## Лабораторная работа №3"
   ]
  },
  {
   "cell_type": "markdown",
   "metadata": {
    "_cell_guid": "d4bf2992-87ea-432b-9fe0-110efa19687f",
    "_uuid": "97565e64-e9c3-4921-9285-7d6b42e7f0bb"
   },
   "source": [
    "### Импорты"
   ]
  },
  {
   "cell_type": "code",
   "execution_count": 1,
   "metadata": {
    "_cell_guid": "4bc1ee3d-0766-4ead-b518-9846e5c7d46a",
    "_uuid": "57eeb037-752e-4983-8816-b7cb5f12d8cd"
   },
   "outputs": [],
   "source": [
    "from tensorflow.keras.preprocessing.image import ImageDataGenerator\n",
    "\n",
    "from tensorflow.keras.models import Sequential, Model\n",
    "from tensorflow.keras import layers\n",
    "from tensorflow.keras.optimizers import SGD\n",
    "from tensorflow.keras.optimizers import RMSprop\n",
    "from sklearn.utils import shuffle\n",
    "from tensorflow.keras import optimizers\n",
    "from tensorflow.keras.utils import plot_model\n",
    "\n",
    "import numpy as np\n",
    "\n",
    "from IPython.display import SVG\n",
    "\n",
    "from datetime import datetime"
   ]
  },
  {
   "cell_type": "markdown",
   "metadata": {
    "_cell_guid": "8a25e1f5-de9a-4988-9a63-e59e6bdaa4ff",
    "_uuid": "0902771f-7881-474b-8344-12916535d392"
   },
   "source": [
    "### Загрузка данных"
   ]
  },
  {
   "cell_type": "code",
   "execution_count": 2,
   "metadata": {
    "_cell_guid": "3b2b40c5-19ac-4dee-b001-7c48b761a814",
    "_uuid": "d25beb56-acbd-4e1d-b890-68ddbb2bb59a"
   },
   "outputs": [
    {
     "name": "stdout",
     "output_type": "stream",
     "text": [
      "Found 14034 images belonging to 6 classes.\n",
      "Found 3000 images belonging to 6 classes.\n"
     ]
    }
   ],
   "source": [
    "BATCH = 128\n",
    "datagen = ImageDataGenerator(rescale=1./255)\n",
    "\n",
    "\n",
    "    \n",
    "train_data = datagen.flow_from_directory('/kaggle/input/intel-image-classification/seg_train/seg_train',\n",
    "                                        target_size=(150, 150),\n",
    "                                        batch_size=BATCH,\n",
    "                                        class_mode='categorical',\n",
    "                                        shuffle=True)\n",
    "\n",
    "test_data = datagen.flow_from_directory('/kaggle/input/intel-image-classification/seg_test/seg_test',\n",
    "                                        target_size=(150, 150),\n",
    "                                        batch_size=BATCH,\n",
    "                                        class_mode='categorical',\n",
    "                                        shuffle=True)"
   ]
  },
  {
   "cell_type": "code",
   "execution_count": 3,
   "metadata": {
    "_cell_guid": "a68200cc-73d4-402a-b3cd-14c4844988f4",
    "_uuid": "4b6aae1c-cc8b-4c2a-b2ae-e3a5becee69f",
    "scrolled": true
   },
   "outputs": [
    {
     "data": {
      "text/plain": [
       "{'buildings': 0,\n",
       " 'forest': 1,\n",
       " 'glacier': 2,\n",
       " 'mountain': 3,\n",
       " 'sea': 4,\n",
       " 'street': 5}"
      ]
     },
     "execution_count": 3,
     "metadata": {},
     "output_type": "execute_result"
    }
   ],
   "source": [
    "train_data.class_indices"
   ]
  },
  {
   "cell_type": "markdown",
   "metadata": {
    "_cell_guid": "080d352f-1b8d-455b-9e62-889098520004",
    "_uuid": "e9a03500-f103-409e-8496-59cb7b817a0b"
   },
   "source": [
    "Зададим общее количество эпох для тестирования конфигураций равное **20**."
   ]
  },
  {
   "cell_type": "code",
   "execution_count": 4,
   "metadata": {
    "_cell_guid": "c2a4424a-6054-4e00-b3cd-0b416b144deb",
    "_uuid": "4862144e-932e-422a-9e8a-13abcf9d0f35"
   },
   "outputs": [],
   "source": [
    "EPOCHS = 15"
   ]
  },
  {
   "cell_type": "markdown",
   "metadata": {
    "_cell_guid": "aa13345a-3985-4776-8dc7-019c4bc5befd",
    "_uuid": "ddfb56bd-1632-4710-86e7-2d71b7b8034c"
   },
   "source": [
    "## GPU Info"
   ]
  },
  {
   "cell_type": "code",
   "execution_count": 5,
   "metadata": {
    "_cell_guid": "f356ab15-0219-4e91-8562-2aa5045505a0",
    "_uuid": "91380928-378b-4227-8fbf-627906b09628"
   },
   "outputs": [
    {
     "name": "stdout",
     "output_type": "stream",
     "text": [
      "b'Tue Dec 10 19:27:30 2019       \n",
      "+-----------------------------------------------------------------------------+\n",
      "| NVIDIA-SMI 418.67       Driver Version: 418.67       CUDA Version: 10.1     |\n",
      "|-------------------------------+----------------------+----------------------+\n",
      "| GPU  Name        Persistence-M| Bus-Id        Disp.A | Volatile Uncorr. ECC |\n",
      "| Fan  Temp  Perf  Pwr:Usage/Cap|         Memory-Usage | GPU-Util  Compute M. |\n",
      "|===============================+======================+======================|\n",
      "|   0  Tesla P100-PCIE...  On   | 00000000:00:04.0 Off |                    0 |\n",
      "| N/A   48C    P0    29W / 250W |      0MiB / 16280MiB |      0%      Default |\n",
      "+-------------------------------+----------------------+----------------------+\n",
      "                                                                               \n",
      "+-----------------------------------------------------------------------------+\n",
      "| Processes:                                                       GPU Memory |\n",
      "|  GPU       PID   Type   Process name                             Usage      |\n",
      "|=============================================================================|\n",
      "|  No running processes found                                                 |\n",
      "+-----------------------------------------------------------------------------+\n",
      "'\n"
     ]
    }
   ],
   "source": [
    "import subprocess\n",
    "import pprint\n",
    "\n",
    "sp = subprocess.Popen(['nvidia-smi'], stdout=subprocess.PIPE, stderr=subprocess.PIPE)\n",
    "\n",
    "out_str = sp.communicate()\n",
    "out_list = str(out_str[0]).split('\\\\n')\n",
    "\n",
    "out_dict = {}\n",
    "\n",
    "for item in out_list:\n",
    "    print(item)"
   ]
  },
  {
   "cell_type": "code",
   "execution_count": 6,
   "metadata": {
    "_cell_guid": "a4bcda6f-fdb0-4f55-bea5-82d6a29042af",
    "_uuid": "d22b8e04-720f-486f-b303-9ae27dcbc39d"
   },
   "outputs": [],
   "source": [
    "def saveModel(model, filename):\n",
    "    model.summary()\n",
    "    plot_model(model,to_file=filename,show_shapes=True, expand_nested=True)"
   ]
  },
  {
   "cell_type": "markdown",
   "metadata": {},
   "source": [
    "Варьируемые параметры:\n",
    "* Количество фильтров (32, 64, 128)\n",
    "* Количество свёрточных слоёв (троек, состоящих из свёртки, функции активации и пространственного объединения)\n",
    "* Вид функции активации"
   ]
  },
  {
   "cell_type": "markdown",
   "metadata": {
    "_cell_guid": "8aef314a-7d43-42b6-acfb-ca8a5aad3ed3",
    "_uuid": "3847c6a5-a791-4347-a908-8bb7994b6f7f"
   },
   "source": [
    "### Конфигурация №1"
   ]
  },
  {
   "cell_type": "markdown",
   "metadata": {},
   "source": [
    "Начнём со следующей базовой конфигурации с одним свёрточным слоем и числом фильтров равным 3 (в два раза меньше, чем число классов):"
   ]
  },
  {
   "cell_type": "code",
   "execution_count": 7,
   "metadata": {},
   "outputs": [
    {
     "name": "stdout",
     "output_type": "stream",
     "text": [
      "Model: \"sequential\"\n",
      "_________________________________________________________________\n",
      "Layer (type)                 Output Shape              Param #   \n",
      "=================================================================\n",
      "conv2d (Conv2D)              (None, 150, 150, 3)       84        \n",
      "_________________________________________________________________\n",
      "max_pooling2d (MaxPooling2D) (None, 75, 75, 3)         0         \n",
      "_________________________________________________________________\n",
      "flatten (Flatten)            (None, 16875)             0         \n",
      "_________________________________________________________________\n",
      "dense (Dense)                (None, 256)               4320256   \n",
      "_________________________________________________________________\n",
      "dense_1 (Dense)              (None, 128)               32896     \n",
      "_________________________________________________________________\n",
      "dense_2 (Dense)              (None, 6)                 774       \n",
      "=================================================================\n",
      "Total params: 4,354,010\n",
      "Trainable params: 4,354,010\n",
      "Non-trainable params: 0\n",
      "_________________________________________________________________\n",
      "Epoch 1/15\n",
      "110/110 [==============================] - 52s 470ms/step - loss: 1.5878 - accuracy: 0.4426 - val_loss: 1.0739 - val_accuracy: 0.6037\n",
      "Epoch 2/15\n",
      "110/110 [==============================] - 36s 332ms/step - loss: 0.9781 - accuracy: 0.6348 - val_loss: 0.9764 - val_accuracy: 0.6420\n",
      "Epoch 3/15\n",
      "110/110 [==============================] - 36s 324ms/step - loss: 0.8603 - accuracy: 0.6776 - val_loss: 0.9530 - val_accuracy: 0.6510\n",
      "Epoch 4/15\n",
      "110/110 [==============================] - 35s 319ms/step - loss: 0.7426 - accuracy: 0.7339 - val_loss: 0.9336 - val_accuracy: 0.6577\n",
      "Epoch 5/15\n",
      "110/110 [==============================] - 35s 315ms/step - loss: 0.6375 - accuracy: 0.7743 - val_loss: 0.9625 - val_accuracy: 0.6677\n",
      "Epoch 6/15\n",
      "110/110 [==============================] - 35s 319ms/step - loss: 0.5087 - accuracy: 0.8279 - val_loss: 0.9926 - val_accuracy: 0.6613\n",
      "Epoch 7/15\n",
      "110/110 [==============================] - 35s 318ms/step - loss: 0.4005 - accuracy: 0.8697 - val_loss: 0.9987 - val_accuracy: 0.6650\n",
      "Epoch 8/15\n",
      "110/110 [==============================] - 34s 313ms/step - loss: 0.3047 - accuracy: 0.9072 - val_loss: 1.0927 - val_accuracy: 0.6630\n",
      "Epoch 9/15\n",
      "110/110 [==============================] - 31s 281ms/step - loss: 0.2196 - accuracy: 0.9393 - val_loss: 1.2139 - val_accuracy: 0.6563\n",
      "Epoch 10/15\n",
      "110/110 [==============================] - 35s 319ms/step - loss: 0.1475 - accuracy: 0.9634 - val_loss: 1.3046 - val_accuracy: 0.6507\n",
      "Epoch 11/15\n",
      "110/110 [==============================] - 35s 322ms/step - loss: 0.1154 - accuracy: 0.9714 - val_loss: 1.5181 - val_accuracy: 0.6510\n",
      "Epoch 12/15\n",
      "110/110 [==============================] - 34s 313ms/step - loss: 0.0743 - accuracy: 0.9858 - val_loss: 1.4901 - val_accuracy: 0.6530\n",
      "Epoch 13/15\n",
      "110/110 [==============================] - 35s 314ms/step - loss: 0.0495 - accuracy: 0.9931 - val_loss: 1.6972 - val_accuracy: 0.6400\n",
      "Epoch 14/15\n",
      "110/110 [==============================] - 34s 311ms/step - loss: 0.0382 - accuracy: 0.9949 - val_loss: 1.7058 - val_accuracy: 0.6450\n",
      "Epoch 15/15\n",
      "110/110 [==============================] - 35s 316ms/step - loss: 0.0296 - accuracy: 0.9966 - val_loss: 1.7531 - val_accuracy: 0.6440\n",
      "Time:  0:08:57.439747\n"
     ]
    }
   ],
   "source": [
    "model = Sequential([\n",
    "    layers.Conv2D(3, (3, 3), activation = 'relu', padding = 'same', input_shape = (150, 150, 3)),\n",
    "    layers.MaxPooling2D(2, 2),\n",
    "    layers.Flatten(),\n",
    "    layers.Dense(256, activation='relu'),\n",
    "    layers.Dense(128, activation='relu'),\n",
    "    layers.Dense(6, activation='softmax')\n",
    "])\n",
    "model.compile(optimizer = 'adam', loss = 'categorical_crossentropy', metrics=['accuracy'])\n",
    "\n",
    "saveModel(model, 'model1.png')\n",
    "\n",
    "time_start = datetime.now()\n",
    "history = model.fit_generator(train_data, steps_per_epoch=len(train_data), shuffle=True, epochs=EPOCHS, validation_steps=len(test_data), validation_data=test_data)\n",
    "print('Time: ', datetime.now() - time_start)"
   ]
  },
  {
   "cell_type": "markdown",
   "metadata": {},
   "source": [
    "## Конфигурация №2"
   ]
  },
  {
   "cell_type": "code",
   "execution_count": 8,
   "metadata": {},
   "outputs": [
    {
     "name": "stdout",
     "output_type": "stream",
     "text": [
      "Model: \"sequential_1\"\n",
      "_________________________________________________________________\n",
      "Layer (type)                 Output Shape              Param #   \n",
      "=================================================================\n",
      "conv2d_1 (Conv2D)            (None, 150, 150, 3)       84        \n",
      "_________________________________________________________________\n",
      "max_pooling2d_1 (MaxPooling2 (None, 75, 75, 3)         0         \n",
      "_________________________________________________________________\n",
      "flatten_1 (Flatten)          (None, 16875)             0         \n",
      "_________________________________________________________________\n",
      "dense_3 (Dense)              (None, 256)               4320256   \n",
      "_________________________________________________________________\n",
      "dense_4 (Dense)              (None, 128)               32896     \n",
      "_________________________________________________________________\n",
      "dense_5 (Dense)              (None, 6)                 774       \n",
      "=================================================================\n",
      "Total params: 4,354,010\n",
      "Trainable params: 4,354,010\n",
      "Non-trainable params: 0\n",
      "_________________________________________________________________\n",
      "Epoch 1/15\n",
      "110/110 [==============================] - 37s 336ms/step - loss: 1.7333 - accuracy: 0.4979 - val_loss: 1.0805 - val_accuracy: 0.5903\n",
      "Epoch 2/15\n",
      "110/110 [==============================] - 35s 318ms/step - loss: 0.9956 - accuracy: 0.6308 - val_loss: 1.0519 - val_accuracy: 0.5990\n",
      "Epoch 3/15\n",
      "110/110 [==============================] - 35s 319ms/step - loss: 0.8869 - accuracy: 0.6722 - val_loss: 0.9583 - val_accuracy: 0.6473\n",
      "Epoch 4/15\n",
      "110/110 [==============================] - 36s 323ms/step - loss: 0.7863 - accuracy: 0.7142 - val_loss: 0.9566 - val_accuracy: 0.6497\n",
      "Epoch 5/15\n",
      "110/110 [==============================] - 35s 320ms/step - loss: 0.6635 - accuracy: 0.7654 - val_loss: 0.9473 - val_accuracy: 0.6660\n",
      "Epoch 6/15\n",
      "110/110 [==============================] - 36s 332ms/step - loss: 0.5086 - accuracy: 0.8324 - val_loss: 0.9680 - val_accuracy: 0.6603\n",
      "Epoch 7/15\n",
      "110/110 [==============================] - 35s 319ms/step - loss: 0.3606 - accuracy: 0.8908 - val_loss: 1.0642 - val_accuracy: 0.6613\n",
      "Epoch 8/15\n",
      "110/110 [==============================] - 35s 321ms/step - loss: 0.2332 - accuracy: 0.9312 - val_loss: 1.1688 - val_accuracy: 0.6430\n",
      "Epoch 9/15\n",
      "110/110 [==============================] - 36s 323ms/step - loss: 0.1461 - accuracy: 0.9622 - val_loss: 1.3869 - val_accuracy: 0.6420\n",
      "Epoch 10/15\n",
      "110/110 [==============================] - 35s 322ms/step - loss: 0.0868 - accuracy: 0.9803 - val_loss: 1.4537 - val_accuracy: 0.6483\n",
      "Epoch 11/15\n",
      "110/110 [==============================] - 35s 318ms/step - loss: 0.0528 - accuracy: 0.9904 - val_loss: 1.4896 - val_accuracy: 0.6550\n",
      "Epoch 12/15\n",
      "110/110 [==============================] - 35s 321ms/step - loss: 0.0341 - accuracy: 0.9951 - val_loss: 1.6482 - val_accuracy: 0.6503\n",
      "Epoch 13/15\n",
      "110/110 [==============================] - 36s 326ms/step - loss: 0.0321 - accuracy: 0.9950 - val_loss: 1.6955 - val_accuracy: 0.6457\n",
      "Epoch 14/15\n",
      "110/110 [==============================] - 35s 318ms/step - loss: 0.0256 - accuracy: 0.9957 - val_loss: 1.7502 - val_accuracy: 0.6390\n",
      "Epoch 15/15\n",
      "110/110 [==============================] - 35s 318ms/step - loss: 0.0701 - accuracy: 0.9807 - val_loss: 1.8091 - val_accuracy: 0.6467\n",
      "Time:  0:08:52.047166\n"
     ]
    }
   ],
   "source": [
    "model = Sequential([\n",
    "    layers.Conv2D(3, (3, 3), activation = 'tanh', padding = 'same', input_shape = (150, 150, 3)),\n",
    "    layers.MaxPooling2D(2, 2),\n",
    "    layers.Flatten(),\n",
    "    layers.Dense(256, activation='relu'),\n",
    "    layers.Dense(128, activation='relu'),\n",
    "    layers.Dense(6, activation='softmax')\n",
    "])\n",
    "model.compile(optimizer = 'adam', loss = 'categorical_crossentropy', metrics=['accuracy'])\n",
    "\n",
    "saveModel(model, 'model2.png')\n",
    "\n",
    "time_start = datetime.now()\n",
    "history = model.fit_generator(train_data, steps_per_epoch=len(train_data), shuffle=True, epochs=EPOCHS, validation_steps=len(test_data), validation_data=test_data)\n",
    "print('Time: ', datetime.now() - time_start)"
   ]
  },
  {
   "cell_type": "markdown",
   "metadata": {},
   "source": [
    "Анализ результата:\n",
    "* точность на тестовой выборке на 20% выше, чем лучший результат, полученный в первой лабораторной работе (полносвязные сети);\n",
    "* тем не менее, есть определённая уверенность, что полученный результат можно улучшить, поскольку наблюдается довольно быстрое переобучение (уже на четвёртой итерации точность на обучающей выборке больше чем на 30% выше, чем на тестовой и почти достигает максимального значения.\n",
    "* тестовую точность можно улучшить за счёт увеличения количества фильтров в сети как минимум до числа классов и дальше. Это объясняется тем, что полученный на выходе свёрточного слоя трёхмерный тензор можно рассматривать как пиксель исходного изображения и соответствующая ему вероятность принадлежности его к одному из классов. Для такой интерпретации потребуется как минимум 6 фильтров (число классов в задаче). Проверим нашу теорию в следующей конфигурации.\n",
    "---"
   ]
  },
  {
   "cell_type": "markdown",
   "metadata": {},
   "source": [
    "## Конфигурация №3"
   ]
  },
  {
   "cell_type": "code",
   "execution_count": 9,
   "metadata": {},
   "outputs": [
    {
     "name": "stdout",
     "output_type": "stream",
     "text": [
      "Model: \"sequential_2\"\n",
      "_________________________________________________________________\n",
      "Layer (type)                 Output Shape              Param #   \n",
      "=================================================================\n",
      "conv2d_2 (Conv2D)            (None, 150, 150, 6)       168       \n",
      "_________________________________________________________________\n",
      "max_pooling2d_2 (MaxPooling2 (None, 75, 75, 6)         0         \n",
      "_________________________________________________________________\n",
      "flatten_2 (Flatten)          (None, 33750)             0         \n",
      "_________________________________________________________________\n",
      "dense_6 (Dense)              (None, 256)               8640256   \n",
      "_________________________________________________________________\n",
      "dense_7 (Dense)              (None, 128)               32896     \n",
      "_________________________________________________________________\n",
      "dense_8 (Dense)              (None, 6)                 774       \n",
      "=================================================================\n",
      "Total params: 8,674,094\n",
      "Trainable params: 8,674,094\n",
      "Non-trainable params: 0\n",
      "_________________________________________________________________\n",
      "Epoch 1/15\n",
      "110/110 [==============================] - 37s 337ms/step - loss: 11.1098 - accuracy: 0.2903 - val_loss: 10.8642 - val_accuracy: 0.3107\n",
      "Epoch 2/15\n",
      "110/110 [==============================] - 35s 321ms/step - loss: 3.1454 - accuracy: 0.4936 - val_loss: 0.9784 - val_accuracy: 0.6387\n",
      "Epoch 3/15\n",
      "110/110 [==============================] - 36s 323ms/step - loss: 0.7778 - accuracy: 0.7103 - val_loss: 0.8492 - val_accuracy: 0.6947\n",
      "Epoch 4/15\n",
      "110/110 [==============================] - 36s 324ms/step - loss: 0.5306 - accuracy: 0.8144 - val_loss: 0.8263 - val_accuracy: 0.7003\n",
      "Epoch 5/15\n",
      "110/110 [==============================] - 35s 322ms/step - loss: 0.3233 - accuracy: 0.8977 - val_loss: 0.9116 - val_accuracy: 0.6993\n",
      "Epoch 6/15\n",
      "110/110 [==============================] - 36s 328ms/step - loss: 0.1610 - accuracy: 0.9593 - val_loss: 1.0220 - val_accuracy: 0.6977\n",
      "Epoch 7/15\n",
      "110/110 [==============================] - 35s 315ms/step - loss: 0.0747 - accuracy: 0.9859 - val_loss: 1.1005 - val_accuracy: 0.7003\n",
      "Epoch 8/15\n",
      "110/110 [==============================] - 35s 317ms/step - loss: 0.0384 - accuracy: 0.9948 - val_loss: 1.1617 - val_accuracy: 0.7087\n",
      "Epoch 9/15\n",
      "110/110 [==============================] - 35s 317ms/step - loss: 0.0282 - accuracy: 0.9967 - val_loss: 1.2518 - val_accuracy: 0.7030\n",
      "Epoch 10/15\n",
      "110/110 [==============================] - 35s 321ms/step - loss: 0.0215 - accuracy: 0.9974 - val_loss: 1.3062 - val_accuracy: 0.7050\n",
      "Epoch 11/15\n",
      "110/110 [==============================] - 36s 328ms/step - loss: 0.0212 - accuracy: 0.9976 - val_loss: 1.3366 - val_accuracy: 0.7027\n",
      "Epoch 12/15\n",
      "110/110 [==============================] - 36s 327ms/step - loss: 0.0303 - accuracy: 0.9936 - val_loss: 1.6917 - val_accuracy: 0.6527\n",
      "Epoch 13/15\n",
      "110/110 [==============================] - 35s 321ms/step - loss: 0.0374 - accuracy: 0.9914 - val_loss: 1.4834 - val_accuracy: 0.6960\n",
      "Epoch 14/15\n",
      "110/110 [==============================] - 35s 322ms/step - loss: 0.0133 - accuracy: 0.9986 - val_loss: 1.4797 - val_accuracy: 0.7100\n",
      "Epoch 15/15\n",
      "110/110 [==============================] - 36s 326ms/step - loss: 0.0121 - accuracy: 0.9987 - val_loss: 1.6104 - val_accuracy: 0.6910\n",
      "Time:  0:08:53.405671\n"
     ]
    }
   ],
   "source": [
    "model = Sequential([\n",
    "    layers.Conv2D(6, (3, 3), activation = 'relu', padding = 'same', input_shape = (150, 150, 3)),\n",
    "    layers.MaxPooling2D(2, 2),\n",
    "    layers.Flatten(),\n",
    "    layers.Dense(256, activation='relu'),\n",
    "    layers.Dense(128, activation='relu'),\n",
    "    layers.Dense(6, activation='softmax')\n",
    "])\n",
    "model.compile(optimizer = 'adam', loss = 'categorical_crossentropy', metrics=['accuracy'])\n",
    "\n",
    "saveModel(model, 'model3.png')\n",
    "\n",
    "time_start = datetime.now()\n",
    "history = model.fit_generator(train_data, steps_per_epoch=len(train_data), shuffle=True, epochs=EPOCHS, validation_steps=len(test_data), validation_data=test_data)\n",
    "print('Time: ', datetime.now() - time_start)"
   ]
  },
  {
   "cell_type": "markdown",
   "metadata": {},
   "source": [
    "## Конфигурация №4"
   ]
  },
  {
   "cell_type": "code",
   "execution_count": 10,
   "metadata": {},
   "outputs": [
    {
     "name": "stdout",
     "output_type": "stream",
     "text": [
      "Model: \"sequential_3\"\n",
      "_________________________________________________________________\n",
      "Layer (type)                 Output Shape              Param #   \n",
      "=================================================================\n",
      "conv2d_3 (Conv2D)            (None, 150, 150, 6)       168       \n",
      "_________________________________________________________________\n",
      "max_pooling2d_3 (MaxPooling2 (None, 75, 75, 6)         0         \n",
      "_________________________________________________________________\n",
      "flatten_3 (Flatten)          (None, 33750)             0         \n",
      "_________________________________________________________________\n",
      "dense_9 (Dense)              (None, 256)               8640256   \n",
      "_________________________________________________________________\n",
      "dense_10 (Dense)             (None, 128)               32896     \n",
      "_________________________________________________________________\n",
      "dense_11 (Dense)             (None, 6)                 774       \n",
      "=================================================================\n",
      "Total params: 8,674,094\n",
      "Trainable params: 8,674,094\n",
      "Non-trainable params: 0\n",
      "_________________________________________________________________\n",
      "Epoch 1/15\n",
      "110/110 [==============================] - 37s 338ms/step - loss: 10.8785 - accuracy: 0.3068 - val_loss: 10.6931 - val_accuracy: 0.3197\n",
      "Epoch 2/15\n",
      "110/110 [==============================] - 35s 320ms/step - loss: 7.1176 - accuracy: 0.3972 - val_loss: 1.1548 - val_accuracy: 0.5757\n",
      "Epoch 3/15\n",
      "110/110 [==============================] - 35s 317ms/step - loss: 0.9733 - accuracy: 0.6380 - val_loss: 0.9636 - val_accuracy: 0.6363\n",
      "Epoch 4/15\n",
      "110/110 [==============================] - 35s 314ms/step - loss: 0.7561 - accuracy: 0.7231 - val_loss: 0.8392 - val_accuracy: 0.7013\n",
      "Epoch 5/15\n",
      "110/110 [==============================] - 35s 316ms/step - loss: 0.6041 - accuracy: 0.7852 - val_loss: 0.8254 - val_accuracy: 0.7137\n",
      "Epoch 6/15\n",
      "110/110 [==============================] - 36s 327ms/step - loss: 0.4406 - accuracy: 0.8512 - val_loss: 0.8450 - val_accuracy: 0.7103\n",
      "Epoch 7/15\n",
      "110/110 [==============================] - 36s 326ms/step - loss: 0.3124 - accuracy: 0.9012 - val_loss: 0.8910 - val_accuracy: 0.7170\n",
      "Epoch 8/15\n",
      "110/110 [==============================] - 36s 331ms/step - loss: 0.2104 - accuracy: 0.9394 - val_loss: 0.9351 - val_accuracy: 0.7027\n",
      "Epoch 9/15\n",
      "110/110 [==============================] - 35s 320ms/step - loss: 0.1560 - accuracy: 0.9567 - val_loss: 1.0343 - val_accuracy: 0.7010\n",
      "Epoch 10/15\n",
      "110/110 [==============================] - 35s 319ms/step - loss: 0.0952 - accuracy: 0.9763 - val_loss: 1.0834 - val_accuracy: 0.7113\n",
      "Epoch 11/15\n",
      "110/110 [==============================] - 35s 316ms/step - loss: 0.0693 - accuracy: 0.9839 - val_loss: 1.1455 - val_accuracy: 0.7077\n",
      "Epoch 12/15\n",
      "110/110 [==============================] - 35s 316ms/step - loss: 0.0849 - accuracy: 0.9779 - val_loss: 1.3159 - val_accuracy: 0.6943\n",
      "Epoch 13/15\n",
      "110/110 [==============================] - 35s 317ms/step - loss: 0.0589 - accuracy: 0.9860 - val_loss: 1.2537 - val_accuracy: 0.7097\n",
      "Epoch 14/15\n",
      "110/110 [==============================] - 35s 321ms/step - loss: 0.0268 - accuracy: 0.9957 - val_loss: 1.2809 - val_accuracy: 0.7083\n",
      "Epoch 15/15\n",
      "110/110 [==============================] - 35s 316ms/step - loss: 0.0209 - accuracy: 0.9964 - val_loss: 1.3845 - val_accuracy: 0.7040\n",
      "Time:  0:08:49.576449\n"
     ]
    }
   ],
   "source": [
    "model = Sequential([\n",
    "    layers.Conv2D(6, (3, 3), activation = 'tanh', padding = 'same', input_shape = (150, 150, 3)),\n",
    "    layers.MaxPooling2D(2, 2),\n",
    "    layers.Flatten(),\n",
    "    layers.Dense(256, activation='relu'),\n",
    "    layers.Dense(128, activation='relu'),\n",
    "    layers.Dense(6, activation='softmax')\n",
    "])\n",
    "model.compile(optimizer = 'adam', loss = 'categorical_crossentropy', metrics=['accuracy'])\n",
    "\n",
    "saveModel(model, 'model4.png')\n",
    "\n",
    "time_start = datetime.now()\n",
    "history = model.fit_generator(train_data, steps_per_epoch=len(train_data), shuffle=True, epochs=EPOCHS, validation_steps=len(test_data), validation_data=test_data)\n",
    "print('Time: ', datetime.now() - time_start)"
   ]
  },
  {
   "cell_type": "markdown",
   "metadata": {},
   "source": [
    "### Анализ результатов\n",
    "* мы улучшили точность на тестовой выборке почти на 10 процентов, это радует\n",
    "* удалось снизить скорость переобучения, так на четвёртой итерации разница между точностью на обучающей и тестовой выборке сократилась на 10% по сравнению с прошлой конфигурацией\n",
    "* наша теория о том, что число фильтров должно быть как минимум равно числу классов подтвердилась и дала закономерную прибавку в точности\n",
    "---"
   ]
  },
  {
   "cell_type": "markdown",
   "metadata": {},
   "source": [
    "## Конфигурация 5\n",
    "Продолжим увеличивать число фильтров и оставим пока всё так же один свёрточный слой. Гипотеза: заметной прибавки в тестовой точности это не даст."
   ]
  },
  {
   "cell_type": "code",
   "execution_count": 11,
   "metadata": {
    "_cell_guid": "03f65b88-83db-4265-9f2b-c22615a0c0a7",
    "_uuid": "3b0bb221-918f-4f83-b481-91999f18f95f"
   },
   "outputs": [
    {
     "name": "stdout",
     "output_type": "stream",
     "text": [
      "Model: \"sequential_4\"\n",
      "_________________________________________________________________\n",
      "Layer (type)                 Output Shape              Param #   \n",
      "=================================================================\n",
      "conv2d_4 (Conv2D)            (None, 150, 150, 12)      336       \n",
      "_________________________________________________________________\n",
      "max_pooling2d_4 (MaxPooling2 (None, 75, 75, 12)        0         \n",
      "_________________________________________________________________\n",
      "flatten_4 (Flatten)          (None, 67500)             0         \n",
      "_________________________________________________________________\n",
      "dense_12 (Dense)             (None, 256)               17280256  \n",
      "_________________________________________________________________\n",
      "dense_13 (Dense)             (None, 128)               32896     \n",
      "_________________________________________________________________\n",
      "dense_14 (Dense)             (None, 6)                 774       \n",
      "=================================================================\n",
      "Total params: 17,314,262\n",
      "Trainable params: 17,314,262\n",
      "Non-trainable params: 0\n",
      "_________________________________________________________________\n",
      "Epoch 1/15\n",
      "110/110 [==============================] - 37s 339ms/step - loss: 2.9467 - accuracy: 0.4882 - val_loss: 0.9718 - val_accuracy: 0.6437\n",
      "Epoch 2/15\n",
      "110/110 [==============================] - 36s 326ms/step - loss: 0.7202 - accuracy: 0.7483 - val_loss: 0.7939 - val_accuracy: 0.7070\n",
      "Epoch 3/15\n",
      "110/110 [==============================] - 35s 316ms/step - loss: 0.4643 - accuracy: 0.8451 - val_loss: 0.7926 - val_accuracy: 0.7167\n",
      "Epoch 4/15\n",
      "110/110 [==============================] - 35s 319ms/step - loss: 0.2960 - accuracy: 0.9086 - val_loss: 0.7437 - val_accuracy: 0.7500\n",
      "Epoch 5/15\n",
      "110/110 [==============================] - 35s 318ms/step - loss: 0.1680 - accuracy: 0.9525 - val_loss: 0.8876 - val_accuracy: 0.7283\n",
      "Epoch 6/15\n",
      "110/110 [==============================] - 35s 318ms/step - loss: 0.0965 - accuracy: 0.9776 - val_loss: 0.8948 - val_accuracy: 0.7403\n",
      "Epoch 7/15\n",
      "110/110 [==============================] - 35s 317ms/step - loss: 0.0504 - accuracy: 0.9910 - val_loss: 0.9233 - val_accuracy: 0.7527\n",
      "Epoch 8/15\n",
      "110/110 [==============================] - 35s 320ms/step - loss: 0.0411 - accuracy: 0.9924 - val_loss: 1.0812 - val_accuracy: 0.7470\n",
      "Epoch 9/15\n",
      "110/110 [==============================] - 35s 322ms/step - loss: 0.0252 - accuracy: 0.9962 - val_loss: 1.0752 - val_accuracy: 0.7457\n",
      "Epoch 10/15\n",
      "110/110 [==============================] - 35s 321ms/step - loss: 0.0263 - accuracy: 0.9962 - val_loss: 1.0773 - val_accuracy: 0.7550\n",
      "Epoch 11/15\n",
      "110/110 [==============================] - 36s 329ms/step - loss: 0.0141 - accuracy: 0.9986 - val_loss: 1.1656 - val_accuracy: 0.7530\n",
      "Epoch 12/15\n",
      "110/110 [==============================] - 35s 319ms/step - loss: 0.0166 - accuracy: 0.9976 - val_loss: 1.2282 - val_accuracy: 0.7370\n",
      "Epoch 13/15\n",
      "110/110 [==============================] - 35s 319ms/step - loss: 0.1124 - accuracy: 0.9671 - val_loss: 1.1925 - val_accuracy: 0.7407\n",
      "Epoch 14/15\n",
      "110/110 [==============================] - 35s 317ms/step - loss: 0.0181 - accuracy: 0.9967 - val_loss: 1.2374 - val_accuracy: 0.7423\n",
      "Epoch 15/15\n",
      "110/110 [==============================] - 35s 315ms/step - loss: 0.0320 - accuracy: 0.9911 - val_loss: 1.3150 - val_accuracy: 0.7200\n",
      "Time:  0:08:49.877430\n"
     ]
    }
   ],
   "source": [
    "model = Sequential([\n",
    "    layers.Conv2D(12, (3, 3), activation = 'relu', padding = 'same', input_shape = (150, 150, 3)),\n",
    "    layers.MaxPooling2D(2, 2),\n",
    "    layers.Flatten(),\n",
    "    layers.Dense(256, activation='relu'),\n",
    "    layers.Dense(128, activation='relu'),\n",
    "    layers.Dense(6, activation='softmax')\n",
    "])\n",
    "model.compile(optimizer = 'adam', loss = 'categorical_crossentropy', metrics=['accuracy'])\n",
    "\n",
    "saveModel(model, 'model5.png')\n",
    "\n",
    "time_start = datetime.now()\n",
    "history = model.fit_generator(train_data, steps_per_epoch=len(train_data), shuffle=True, epochs=EPOCHS, validation_steps=len(test_data), validation_data=test_data)\n",
    "print('Time: ', datetime.now() - time_start)"
   ]
  },
  {
   "cell_type": "markdown",
   "metadata": {},
   "source": [
    "## Конфигурация №6"
   ]
  },
  {
   "cell_type": "code",
   "execution_count": 12,
   "metadata": {},
   "outputs": [
    {
     "name": "stdout",
     "output_type": "stream",
     "text": [
      "Model: \"sequential_5\"\n",
      "_________________________________________________________________\n",
      "Layer (type)                 Output Shape              Param #   \n",
      "=================================================================\n",
      "conv2d_5 (Conv2D)            (None, 150, 150, 12)      336       \n",
      "_________________________________________________________________\n",
      "max_pooling2d_5 (MaxPooling2 (None, 75, 75, 12)        0         \n",
      "_________________________________________________________________\n",
      "flatten_5 (Flatten)          (None, 67500)             0         \n",
      "_________________________________________________________________\n",
      "dense_15 (Dense)             (None, 256)               17280256  \n",
      "_________________________________________________________________\n",
      "dense_16 (Dense)             (None, 128)               32896     \n",
      "_________________________________________________________________\n",
      "dense_17 (Dense)             (None, 6)                 774       \n",
      "=================================================================\n",
      "Total params: 17,314,262\n",
      "Trainable params: 17,314,262\n",
      "Non-trainable params: 0\n",
      "_________________________________________________________________\n",
      "Epoch 1/15\n",
      "110/110 [==============================] - 37s 341ms/step - loss: 2.9413 - accuracy: 0.5085 - val_loss: 0.9798 - val_accuracy: 0.6417\n",
      "Epoch 2/15\n",
      "110/110 [==============================] - 36s 324ms/step - loss: 0.8329 - accuracy: 0.6979 - val_loss: 0.8583 - val_accuracy: 0.6880\n",
      "Epoch 3/15\n",
      "110/110 [==============================] - 35s 322ms/step - loss: 0.6564 - accuracy: 0.7638 - val_loss: 0.7928 - val_accuracy: 0.7220\n",
      "Epoch 4/15\n",
      "110/110 [==============================] - 36s 324ms/step - loss: 0.4860 - accuracy: 0.8323 - val_loss: 0.8334 - val_accuracy: 0.7147\n",
      "Epoch 5/15\n",
      "110/110 [==============================] - 35s 314ms/step - loss: 0.3564 - accuracy: 0.8792 - val_loss: 0.8383 - val_accuracy: 0.7190\n",
      "Epoch 6/15\n",
      "110/110 [==============================] - 35s 314ms/step - loss: 0.2237 - accuracy: 0.9322 - val_loss: 0.8373 - val_accuracy: 0.7323\n",
      "Epoch 7/15\n",
      "110/110 [==============================] - 34s 314ms/step - loss: 0.1560 - accuracy: 0.9540 - val_loss: 0.8932 - val_accuracy: 0.7340\n",
      "Epoch 8/15\n",
      "110/110 [==============================] - 35s 316ms/step - loss: 0.0995 - accuracy: 0.9734 - val_loss: 1.0532 - val_accuracy: 0.6970\n",
      "Epoch 9/15\n",
      "110/110 [==============================] - 35s 321ms/step - loss: 0.0783 - accuracy: 0.9795 - val_loss: 1.0528 - val_accuracy: 0.7147\n",
      "Epoch 10/15\n",
      "110/110 [==============================] - 35s 320ms/step - loss: 0.0591 - accuracy: 0.9844 - val_loss: 1.1263 - val_accuracy: 0.7100\n",
      "Epoch 11/15\n",
      "110/110 [==============================] - 35s 315ms/step - loss: 0.0478 - accuracy: 0.9882 - val_loss: 1.1696 - val_accuracy: 0.7157\n",
      "Epoch 12/15\n",
      "110/110 [==============================] - 35s 315ms/step - loss: 0.0301 - accuracy: 0.9944 - val_loss: 1.3138 - val_accuracy: 0.7110\n",
      "Epoch 13/15\n",
      "110/110 [==============================] - 36s 327ms/step - loss: 0.0328 - accuracy: 0.9937 - val_loss: 1.3350 - val_accuracy: 0.7197\n",
      "Epoch 14/15\n",
      "110/110 [==============================] - 35s 316ms/step - loss: 0.0266 - accuracy: 0.9943 - val_loss: 1.4182 - val_accuracy: 0.7180\n",
      "Epoch 15/15\n",
      "110/110 [==============================] - 35s 321ms/step - loss: 0.0564 - accuracy: 0.9850 - val_loss: 1.3766 - val_accuracy: 0.6860\n",
      "Time:  0:08:48.154994\n"
     ]
    }
   ],
   "source": [
    "model = Sequential([\n",
    "    layers.Conv2D(12, (3, 3), activation = 'tanh', padding = 'same', input_shape = (150, 150, 3)),\n",
    "    layers.MaxPooling2D(2, 2),\n",
    "    layers.Flatten(),\n",
    "    layers.Dense(256, activation='relu'),\n",
    "    layers.Dense(128, activation='relu'),\n",
    "    layers.Dense(6, activation='softmax')\n",
    "])\n",
    "model.compile(optimizer = 'adam', loss = 'categorical_crossentropy', metrics=['accuracy'])\n",
    "\n",
    "saveModel(model, 'model6.png')\n",
    "\n",
    "time_start = datetime.now()\n",
    "history = model.fit_generator(train_data, steps_per_epoch=len(train_data), shuffle=True, epochs=EPOCHS, validation_steps=len(test_data), validation_data=test_data)\n",
    "print('Time: ', datetime.now() - time_start)"
   ]
  },
  {
   "cell_type": "markdown",
   "metadata": {},
   "source": [
    "### Анализ результатов:\n",
    "* Как и ожидалось, сколь-нибудь ощутимой прибавки в точности на тестовой выборке по сравнению с предыдущей конфигурацией мы не получили\n",
    "* Дальнейшее увеличение числа фильтров при одном свёрточном слое особо смысла не имеет: используя 12 фильтров вместо 6 (число классов), мы начинаем классифицировать пиксели уже не на 6 классов, а на 12, но данных для такой классификации недостаточно (поскольку в действительности у нас всего 6 классов).\n",
    "---"
   ]
  },
  {
   "cell_type": "markdown",
   "metadata": {
    "_cell_guid": "891944cc-e9d2-48ee-9ca8-d438f9920cf7",
    "_uuid": "3b095287-6ebe-48f8-86fa-4e42b2de4c89"
   },
   "source": [
    "### Конфигурация №7"
   ]
  },
  {
   "cell_type": "markdown",
   "metadata": {},
   "source": [
    "Введём ещё один свёрточный слой. Первый слой будет иметь 32 фильтра, второй - 6 фильтров. Такая \"двухуровневая\" свёртка имеет следующую интерпретацию: сперва мы попробуем распознать более сложные элементы изображения, а затем на основании полученного выхода проведём уже привычную свёртку с 6 фильтрами, выход который можно будет интерпретировать так: пикселю исходного изображение и соответствующей ему вероятности принадлежности к одному из классов. Если сойдутся звёзды, мы получим рост точности."
   ]
  },
  {
   "cell_type": "code",
   "execution_count": 13,
   "metadata": {
    "_cell_guid": "f9d60fd1-9d72-4772-b27d-e5cb30f8ec95",
    "_uuid": "85e10f30-377c-4f9d-a4dd-ebc56fe3bb11"
   },
   "outputs": [
    {
     "name": "stdout",
     "output_type": "stream",
     "text": [
      "Model: \"sequential_6\"\n",
      "_________________________________________________________________\n",
      "Layer (type)                 Output Shape              Param #   \n",
      "=================================================================\n",
      "conv2d_6 (Conv2D)            (None, 150, 150, 32)      896       \n",
      "_________________________________________________________________\n",
      "max_pooling2d_6 (MaxPooling2 (None, 75, 75, 32)        0         \n",
      "_________________________________________________________________\n",
      "conv2d_7 (Conv2D)            (None, 75, 75, 6)         1734      \n",
      "_________________________________________________________________\n",
      "flatten_6 (Flatten)          (None, 33750)             0         \n",
      "_________________________________________________________________\n",
      "dense_18 (Dense)             (None, 256)               8640256   \n",
      "_________________________________________________________________\n",
      "dense_19 (Dense)             (None, 128)               32896     \n",
      "_________________________________________________________________\n",
      "dense_20 (Dense)             (None, 6)                 774       \n",
      "=================================================================\n",
      "Total params: 8,676,556\n",
      "Trainable params: 8,676,556\n",
      "Non-trainable params: 0\n",
      "_________________________________________________________________\n",
      "Epoch 1/15\n",
      "110/110 [==============================] - 39s 350ms/step - loss: 1.0134 - accuracy: 0.6060 - val_loss: 0.8381 - val_accuracy: 0.6817\n",
      "Epoch 2/15\n",
      "110/110 [==============================] - 36s 325ms/step - loss: 0.6510 - accuracy: 0.7614 - val_loss: 0.8052 - val_accuracy: 0.7023\n",
      "Epoch 3/15\n",
      "110/110 [==============================] - 36s 325ms/step - loss: 0.4321 - accuracy: 0.8471 - val_loss: 0.8322 - val_accuracy: 0.7357\n",
      "Epoch 4/15\n",
      "110/110 [==============================] - 36s 330ms/step - loss: 0.2379 - accuracy: 0.9196 - val_loss: 0.8931 - val_accuracy: 0.7133\n",
      "Epoch 5/15\n",
      "110/110 [==============================] - 36s 331ms/step - loss: 0.1482 - accuracy: 0.9551 - val_loss: 1.0155 - val_accuracy: 0.7323\n",
      "Epoch 6/15\n",
      "110/110 [==============================] - 36s 330ms/step - loss: 0.0893 - accuracy: 0.9738 - val_loss: 1.0934 - val_accuracy: 0.7360\n",
      "Epoch 7/15\n",
      "110/110 [==============================] - 35s 322ms/step - loss: 0.0608 - accuracy: 0.9838 - val_loss: 1.2177 - val_accuracy: 0.7207\n",
      "Epoch 8/15\n",
      "110/110 [==============================] - 36s 327ms/step - loss: 0.0432 - accuracy: 0.9893 - val_loss: 1.2854 - val_accuracy: 0.7360\n",
      "Epoch 9/15\n",
      "110/110 [==============================] - 36s 323ms/step - loss: 0.0192 - accuracy: 0.9963 - val_loss: 1.3082 - val_accuracy: 0.7437\n",
      "Epoch 10/15\n",
      "110/110 [==============================] - 35s 322ms/step - loss: 0.0213 - accuracy: 0.9950 - val_loss: 1.4011 - val_accuracy: 0.7353\n",
      "Epoch 11/15\n",
      "110/110 [==============================] - 36s 325ms/step - loss: 0.0154 - accuracy: 0.9968 - val_loss: 1.5380 - val_accuracy: 0.7343\n",
      "Epoch 12/15\n",
      "110/110 [==============================] - 36s 324ms/step - loss: 0.0589 - accuracy: 0.9820 - val_loss: 1.5243 - val_accuracy: 0.7057\n",
      "Epoch 13/15\n",
      "110/110 [==============================] - 37s 335ms/step - loss: 0.0416 - accuracy: 0.9869 - val_loss: 1.5852 - val_accuracy: 0.7140\n",
      "Epoch 14/15\n",
      "110/110 [==============================] - 36s 330ms/step - loss: 0.0242 - accuracy: 0.9931 - val_loss: 1.6555 - val_accuracy: 0.7193\n",
      "Epoch 15/15\n",
      "110/110 [==============================] - 37s 333ms/step - loss: 0.0202 - accuracy: 0.9948 - val_loss: 1.5115 - val_accuracy: 0.7403\n",
      "Time:  0:09:02.736669\n"
     ]
    }
   ],
   "source": [
    "model = Sequential([\n",
    "    layers.Conv2D(32, (3, 3), activation = 'relu', padding = 'same', input_shape = (150, 150, 3)),\n",
    "    layers.MaxPooling2D(2, 2),\n",
    "    layers.Conv2D(6, (3, 3), activation = 'relu', padding = 'same'),\n",
    "    layers.Flatten(),\n",
    "    layers.Dense(256, activation='relu'),\n",
    "    layers.Dense(128, activation='relu'),\n",
    "    layers.Dense(6, activation='softmax')\n",
    "])\n",
    "model.compile(optimizer = 'adam', loss = 'categorical_crossentropy', metrics=['accuracy'])\n",
    "\n",
    "saveModel(model, 'model7.png')\n",
    "\n",
    "time_start = datetime.now()\n",
    "history = model.fit_generator(train_data, steps_per_epoch=len(train_data), shuffle=True, epochs=EPOCHS, validation_steps=len(test_data), validation_data=test_data)\n",
    "print('Time: ', datetime.now() - time_start)"
   ]
  },
  {
   "cell_type": "markdown",
   "metadata": {},
   "source": [
    "## Конфигурация №8"
   ]
  },
  {
   "cell_type": "code",
   "execution_count": 14,
   "metadata": {},
   "outputs": [
    {
     "name": "stdout",
     "output_type": "stream",
     "text": [
      "Model: \"sequential_7\"\n",
      "_________________________________________________________________\n",
      "Layer (type)                 Output Shape              Param #   \n",
      "=================================================================\n",
      "conv2d_8 (Conv2D)            (None, 150, 150, 32)      896       \n",
      "_________________________________________________________________\n",
      "max_pooling2d_7 (MaxPooling2 (None, 75, 75, 32)        0         \n",
      "_________________________________________________________________\n",
      "conv2d_9 (Conv2D)            (None, 75, 75, 6)         1734      \n",
      "_________________________________________________________________\n",
      "flatten_7 (Flatten)          (None, 33750)             0         \n",
      "_________________________________________________________________\n",
      "dense_21 (Dense)             (None, 256)               8640256   \n",
      "_________________________________________________________________\n",
      "dense_22 (Dense)             (None, 128)               32896     \n",
      "_________________________________________________________________\n",
      "dense_23 (Dense)             (None, 6)                 774       \n",
      "=================================================================\n",
      "Total params: 8,676,556\n",
      "Trainable params: 8,676,556\n",
      "Non-trainable params: 0\n",
      "_________________________________________________________________\n",
      "Epoch 1/15\n",
      "110/110 [==============================] - 38s 345ms/step - loss: 1.4621 - accuracy: 0.5467 - val_loss: 0.9916 - val_accuracy: 0.6313\n",
      "Epoch 2/15\n",
      "110/110 [==============================] - 36s 324ms/step - loss: 0.8353 - accuracy: 0.6930 - val_loss: 0.8897 - val_accuracy: 0.6787\n",
      "Epoch 3/15\n",
      "110/110 [==============================] - 36s 327ms/step - loss: 0.6283 - accuracy: 0.7713 - val_loss: 0.8623 - val_accuracy: 0.6833\n",
      "Epoch 4/15\n",
      "110/110 [==============================] - 36s 328ms/step - loss: 0.4469 - accuracy: 0.8483 - val_loss: 0.8686 - val_accuracy: 0.7027\n",
      "Epoch 5/15\n",
      "110/110 [==============================] - 36s 327ms/step - loss: 0.2994 - accuracy: 0.8989 - val_loss: 1.0942 - val_accuracy: 0.6593\n",
      "Epoch 6/15\n",
      "110/110 [==============================] - 36s 327ms/step - loss: 0.1619 - accuracy: 0.9513 - val_loss: 1.1631 - val_accuracy: 0.6690\n",
      "Epoch 7/15\n",
      "110/110 [==============================] - 36s 327ms/step - loss: 0.0764 - accuracy: 0.9823 - val_loss: 1.2168 - val_accuracy: 0.6860\n",
      "Epoch 8/15\n",
      "110/110 [==============================] - 37s 336ms/step - loss: 0.0450 - accuracy: 0.9905 - val_loss: 1.3882 - val_accuracy: 0.6870\n",
      "Epoch 9/15\n",
      "110/110 [==============================] - 36s 325ms/step - loss: 0.0327 - accuracy: 0.9933 - val_loss: 1.4836 - val_accuracy: 0.6723\n",
      "Epoch 10/15\n",
      "110/110 [==============================] - 36s 327ms/step - loss: 0.0216 - accuracy: 0.9971 - val_loss: 1.6310 - val_accuracy: 0.6793\n",
      "Epoch 11/15\n",
      "110/110 [==============================] - 36s 327ms/step - loss: 0.0295 - accuracy: 0.9937 - val_loss: 1.5964 - val_accuracy: 0.6663\n",
      "Epoch 12/15\n",
      "110/110 [==============================] - 36s 330ms/step - loss: 0.0216 - accuracy: 0.9964 - val_loss: 1.6373 - val_accuracy: 0.6840\n",
      "Epoch 13/15\n",
      "110/110 [==============================] - 36s 329ms/step - loss: 0.0119 - accuracy: 0.9985 - val_loss: 1.6814 - val_accuracy: 0.6803\n",
      "Epoch 14/15\n",
      "110/110 [==============================] - 36s 329ms/step - loss: 0.0092 - accuracy: 0.9989 - val_loss: 1.6143 - val_accuracy: 0.6880\n",
      "Epoch 15/15\n",
      "110/110 [==============================] - 36s 331ms/step - loss: 0.0069 - accuracy: 0.9988 - val_loss: 1.6224 - val_accuracy: 0.6860\n",
      "Time:  0:09:03.302263\n"
     ]
    }
   ],
   "source": [
    "model = Sequential([\n",
    "    layers.Conv2D(32, (3, 3), activation = 'tanh', padding = 'same', input_shape = (150, 150, 3)),\n",
    "    layers.MaxPooling2D(2, 2),\n",
    "    layers.Conv2D(6, (3, 3), activation = 'tanh', padding = 'same'),\n",
    "    layers.Flatten(),\n",
    "    layers.Dense(256, activation='relu'),\n",
    "    layers.Dense(128, activation='relu'),\n",
    "    layers.Dense(6, activation='softmax')\n",
    "])\n",
    "model.compile(optimizer = 'adam', loss = 'categorical_crossentropy', metrics=['accuracy'])\n",
    "\n",
    "saveModel(model, 'model8.png')\n",
    "\n",
    "time_start = datetime.now()\n",
    "history = model.fit_generator(train_data, steps_per_epoch=len(train_data), shuffle=True, epochs=EPOCHS, validation_steps=len(test_data), validation_data=test_data)\n",
    "print('Time: ', datetime.now() - time_start)"
   ]
  },
  {
   "cell_type": "markdown",
   "metadata": {},
   "source": [
    "---"
   ]
  },
  {
   "cell_type": "markdown",
   "metadata": {},
   "source": [
    "### Конфигурация №9"
   ]
  },
  {
   "cell_type": "markdown",
   "metadata": {},
   "source": [
    "Увеличим число фильтров во второй свёртке до 32."
   ]
  },
  {
   "cell_type": "code",
   "execution_count": 15,
   "metadata": {},
   "outputs": [
    {
     "name": "stdout",
     "output_type": "stream",
     "text": [
      "Model: \"sequential_8\"\n",
      "_________________________________________________________________\n",
      "Layer (type)                 Output Shape              Param #   \n",
      "=================================================================\n",
      "conv2d_10 (Conv2D)           (None, 150, 150, 32)      896       \n",
      "_________________________________________________________________\n",
      "max_pooling2d_8 (MaxPooling2 (None, 75, 75, 32)        0         \n",
      "_________________________________________________________________\n",
      "conv2d_11 (Conv2D)           (None, 75, 75, 32)        9248      \n",
      "_________________________________________________________________\n",
      "flatten_8 (Flatten)          (None, 180000)            0         \n",
      "_________________________________________________________________\n",
      "dense_24 (Dense)             (None, 256)               46080256  \n",
      "_________________________________________________________________\n",
      "dense_25 (Dense)             (None, 128)               32896     \n",
      "_________________________________________________________________\n",
      "dense_26 (Dense)             (None, 6)                 774       \n",
      "=================================================================\n",
      "Total params: 46,124,070\n",
      "Trainable params: 46,124,070\n",
      "Non-trainable params: 0\n",
      "_________________________________________________________________\n",
      "Epoch 1/15\n",
      "110/110 [==============================] - 40s 361ms/step - loss: 3.4450 - accuracy: 0.4359 - val_loss: 0.9687 - val_accuracy: 0.6260\n",
      "Epoch 2/15\n",
      "110/110 [==============================] - 37s 336ms/step - loss: 0.8128 - accuracy: 0.6912 - val_loss: 0.8031 - val_accuracy: 0.7093\n",
      "Epoch 3/15\n",
      "110/110 [==============================] - 36s 328ms/step - loss: 0.5226 - accuracy: 0.8116 - val_loss: 0.7555 - val_accuracy: 0.7327\n",
      "Epoch 4/15\n",
      "110/110 [==============================] - 36s 327ms/step - loss: 0.3145 - accuracy: 0.8922 - val_loss: 0.8559 - val_accuracy: 0.7317\n",
      "Epoch 5/15\n",
      "110/110 [==============================] - 36s 328ms/step - loss: 0.1684 - accuracy: 0.9473 - val_loss: 1.0605 - val_accuracy: 0.7027\n",
      "Epoch 6/15\n",
      "110/110 [==============================] - 36s 328ms/step - loss: 0.0935 - accuracy: 0.9732 - val_loss: 1.1365 - val_accuracy: 0.7200\n",
      "Epoch 7/15\n",
      "110/110 [==============================] - 36s 331ms/step - loss: 0.0464 - accuracy: 0.9889 - val_loss: 1.2982 - val_accuracy: 0.7343\n",
      "Epoch 8/15\n",
      "110/110 [==============================] - 37s 333ms/step - loss: 0.0239 - accuracy: 0.9949 - val_loss: 1.3980 - val_accuracy: 0.7213\n",
      "Epoch 9/15\n",
      "110/110 [==============================] - 36s 329ms/step - loss: 0.0172 - accuracy: 0.9972 - val_loss: 1.4463 - val_accuracy: 0.7357\n",
      "Epoch 10/15\n",
      "110/110 [==============================] - 37s 340ms/step - loss: 0.0110 - accuracy: 0.9985 - val_loss: 1.4368 - val_accuracy: 0.7407\n",
      "Epoch 11/15\n",
      "110/110 [==============================] - 36s 327ms/step - loss: 0.0096 - accuracy: 0.9985 - val_loss: 1.5003 - val_accuracy: 0.7313\n",
      "Epoch 12/15\n",
      "110/110 [==============================] - 36s 328ms/step - loss: 0.0073 - accuracy: 0.9988 - val_loss: 1.5310 - val_accuracy: 0.7353\n",
      "Epoch 13/15\n",
      "110/110 [==============================] - 36s 329ms/step - loss: 0.0068 - accuracy: 0.9989 - val_loss: 1.7083 - val_accuracy: 0.7297\n",
      "Epoch 14/15\n",
      "110/110 [==============================] - 36s 331ms/step - loss: 0.3028 - accuracy: 0.9004 - val_loss: 1.3255 - val_accuracy: 0.6990\n",
      "Epoch 15/15\n",
      "110/110 [==============================] - 36s 328ms/step - loss: 0.0493 - accuracy: 0.9852 - val_loss: 1.6969 - val_accuracy: 0.6873\n",
      "Time:  0:09:08.272482\n"
     ]
    }
   ],
   "source": [
    "model = Sequential([\n",
    "    layers.Conv2D(32, (3, 3), activation = 'relu', padding = 'same', input_shape = (150, 150, 3)),\n",
    "    layers.MaxPooling2D(2, 2),\n",
    "    layers.Conv2D(32, (3, 3), activation = 'relu', padding = 'same'),\n",
    "    layers.Flatten(),\n",
    "    layers.Dense(256, activation='relu'),\n",
    "    layers.Dense(128, activation='relu'),\n",
    "    layers.Dense(6, activation='softmax')\n",
    "])\n",
    "model.compile(optimizer = 'adam', loss = 'categorical_crossentropy', metrics=['accuracy'])\n",
    "\n",
    "saveModel(model, 'model9.png')\n",
    "\n",
    "time_start = datetime.now()\n",
    "history = model.fit_generator(train_data, steps_per_epoch=len(train_data), shuffle=True, epochs=EPOCHS, validation_steps=len(test_data), validation_data=test_data)\n",
    "print('Time: ', datetime.now() - time_start)"
   ]
  },
  {
   "cell_type": "markdown",
   "metadata": {},
   "source": [
    "### Конфигурация №10"
   ]
  },
  {
   "cell_type": "code",
   "execution_count": 16,
   "metadata": {},
   "outputs": [
    {
     "name": "stdout",
     "output_type": "stream",
     "text": [
      "Model: \"sequential_9\"\n",
      "_________________________________________________________________\n",
      "Layer (type)                 Output Shape              Param #   \n",
      "=================================================================\n",
      "conv2d_12 (Conv2D)           (None, 150, 150, 32)      896       \n",
      "_________________________________________________________________\n",
      "max_pooling2d_9 (MaxPooling2 (None, 75, 75, 32)        0         \n",
      "_________________________________________________________________\n",
      "conv2d_13 (Conv2D)           (None, 75, 75, 32)        9248      \n",
      "_________________________________________________________________\n",
      "flatten_9 (Flatten)          (None, 180000)            0         \n",
      "_________________________________________________________________\n",
      "dense_27 (Dense)             (None, 256)               46080256  \n",
      "_________________________________________________________________\n",
      "dense_28 (Dense)             (None, 128)               32896     \n",
      "_________________________________________________________________\n",
      "dense_29 (Dense)             (None, 6)                 774       \n",
      "=================================================================\n",
      "Total params: 46,124,070\n",
      "Trainable params: 46,124,070\n",
      "Non-trainable params: 0\n",
      "_________________________________________________________________\n",
      "Epoch 1/15\n",
      "110/110 [==============================] - 38s 344ms/step - loss: 2.9024 - accuracy: 0.5212 - val_loss: 0.9210 - val_accuracy: 0.6630\n",
      "Epoch 2/15\n",
      "110/110 [==============================] - 36s 330ms/step - loss: 0.7470 - accuracy: 0.7270 - val_loss: 0.8825 - val_accuracy: 0.6810\n",
      "Epoch 3/15\n",
      "110/110 [==============================] - 37s 337ms/step - loss: 0.5099 - accuracy: 0.8210 - val_loss: 0.8127 - val_accuracy: 0.7200\n",
      "Epoch 4/15\n",
      "110/110 [==============================] - 36s 331ms/step - loss: 0.3071 - accuracy: 0.9000 - val_loss: 0.8351 - val_accuracy: 0.7290\n",
      "Epoch 5/15\n",
      "110/110 [==============================] - 36s 327ms/step - loss: 0.1552 - accuracy: 0.9558 - val_loss: 0.9572 - val_accuracy: 0.7223\n",
      "Epoch 6/15\n",
      "110/110 [==============================] - 36s 325ms/step - loss: 0.0769 - accuracy: 0.9823 - val_loss: 1.1531 - val_accuracy: 0.7083\n",
      "Epoch 7/15\n",
      "110/110 [==============================] - 36s 325ms/step - loss: 0.0450 - accuracy: 0.9909 - val_loss: 1.1885 - val_accuracy: 0.7183\n",
      "Epoch 8/15\n",
      "110/110 [==============================] - 36s 323ms/step - loss: 0.0552 - accuracy: 0.9867 - val_loss: 1.1842 - val_accuracy: 0.7183\n",
      "Epoch 9/15\n",
      "110/110 [==============================] - 36s 325ms/step - loss: 0.0283 - accuracy: 0.9957 - val_loss: 1.2331 - val_accuracy: 0.7247\n",
      "Epoch 10/15\n",
      "110/110 [==============================] - 36s 327ms/step - loss: 0.0243 - accuracy: 0.9967 - val_loss: 1.2043 - val_accuracy: 0.7220\n",
      "Epoch 11/15\n",
      "110/110 [==============================] - 37s 334ms/step - loss: 0.0128 - accuracy: 0.9986 - val_loss: 1.2079 - val_accuracy: 0.7300\n",
      "Epoch 12/15\n",
      "110/110 [==============================] - 36s 329ms/step - loss: 0.0086 - accuracy: 0.9988 - val_loss: 1.2326 - val_accuracy: 0.7330\n",
      "Epoch 13/15\n",
      "110/110 [==============================] - 36s 324ms/step - loss: 0.0094 - accuracy: 0.9989 - val_loss: 1.3399 - val_accuracy: 0.7193\n",
      "Epoch 14/15\n",
      "110/110 [==============================] - 37s 338ms/step - loss: 0.0090 - accuracy: 0.9986 - val_loss: 1.2831 - val_accuracy: 0.7293\n",
      "Epoch 15/15\n",
      "110/110 [==============================] - 37s 341ms/step - loss: 0.0080 - accuracy: 0.9987 - val_loss: 1.3248 - val_accuracy: 0.7343\n",
      "Time:  0:09:05.816509\n"
     ]
    }
   ],
   "source": [
    "model = Sequential([\n",
    "    layers.Conv2D(32, (3, 3), activation = 'tanh', padding = 'same', input_shape = (150, 150, 3)),\n",
    "    layers.MaxPooling2D(2, 2),\n",
    "    layers.Conv2D(32, (3, 3), activation = 'tanh', padding = 'same'),\n",
    "    layers.Flatten(),\n",
    "    layers.Dense(256, activation='relu'),\n",
    "    layers.Dense(128, activation='relu'),\n",
    "    layers.Dense(6, activation='softmax')\n",
    "])\n",
    "model.compile(optimizer = 'adam', loss = 'categorical_crossentropy', metrics=['accuracy'])\n",
    "\n",
    "saveModel(model, 'model10.png')\n",
    "\n",
    "time_start = datetime.now()\n",
    "history = model.fit_generator(train_data, steps_per_epoch=len(train_data), shuffle=True, epochs=EPOCHS, validation_steps=len(test_data), validation_data=test_data)\n",
    "print('Time: ', datetime.now() - time_start)"
   ]
  },
  {
   "cell_type": "markdown",
   "metadata": {},
   "source": [
    "## Конфигурация №11"
   ]
  },
  {
   "cell_type": "markdown",
   "metadata": {},
   "source": [
    "Поскольку переобучение всё так же имеет место быть, попробуем снизить его влияние, добавив ещё один свёрточный слой."
   ]
  },
  {
   "cell_type": "code",
   "execution_count": 17,
   "metadata": {},
   "outputs": [
    {
     "name": "stdout",
     "output_type": "stream",
     "text": [
      "Model: \"sequential_10\"\n",
      "_________________________________________________________________\n",
      "Layer (type)                 Output Shape              Param #   \n",
      "=================================================================\n",
      "conv2d_14 (Conv2D)           (None, 150, 150, 128)     3584      \n",
      "_________________________________________________________________\n",
      "max_pooling2d_10 (MaxPooling (None, 75, 75, 128)       0         \n",
      "_________________________________________________________________\n",
      "conv2d_15 (Conv2D)           (None, 75, 75, 64)        73792     \n",
      "_________________________________________________________________\n",
      "max_pooling2d_11 (MaxPooling (None, 37, 37, 64)        0         \n",
      "_________________________________________________________________\n",
      "conv2d_16 (Conv2D)           (None, 37, 37, 32)        18464     \n",
      "_________________________________________________________________\n",
      "flatten_10 (Flatten)         (None, 43808)             0         \n",
      "_________________________________________________________________\n",
      "dense_30 (Dense)             (None, 256)               11215104  \n",
      "_________________________________________________________________\n",
      "dense_31 (Dense)             (None, 128)               32896     \n",
      "_________________________________________________________________\n",
      "dense_32 (Dense)             (None, 6)                 774       \n",
      "=================================================================\n",
      "Total params: 11,344,614\n",
      "Trainable params: 11,344,614\n",
      "Non-trainable params: 0\n",
      "_________________________________________________________________\n",
      "Epoch 1/15\n",
      "110/110 [==============================] - 43s 395ms/step - loss: 1.1426 - accuracy: 0.5446 - val_loss: 0.9337 - val_accuracy: 0.6420\n",
      "Epoch 2/15\n",
      "110/110 [==============================] - 41s 374ms/step - loss: 0.7926 - accuracy: 0.7023 - val_loss: 0.7579 - val_accuracy: 0.7080\n",
      "Epoch 3/15\n",
      "110/110 [==============================] - 42s 379ms/step - loss: 0.6197 - accuracy: 0.7672 - val_loss: 0.6934 - val_accuracy: 0.7490\n",
      "Epoch 4/15\n",
      "110/110 [==============================] - 42s 385ms/step - loss: 0.4975 - accuracy: 0.8178 - val_loss: 0.5880 - val_accuracy: 0.7893\n",
      "Epoch 5/15\n",
      "110/110 [==============================] - 42s 378ms/step - loss: 0.3496 - accuracy: 0.8737 - val_loss: 0.6851 - val_accuracy: 0.7777\n",
      "Epoch 6/15\n",
      "110/110 [==============================] - 41s 373ms/step - loss: 0.2146 - accuracy: 0.9287 - val_loss: 0.6689 - val_accuracy: 0.7993\n",
      "Epoch 7/15\n",
      "110/110 [==============================] - 41s 369ms/step - loss: 0.1205 - accuracy: 0.9617 - val_loss: 0.8559 - val_accuracy: 0.7843\n",
      "Epoch 8/15\n",
      "110/110 [==============================] - 41s 369ms/step - loss: 0.0791 - accuracy: 0.9743 - val_loss: 1.1036 - val_accuracy: 0.7723\n",
      "Epoch 9/15\n",
      "110/110 [==============================] - 41s 373ms/step - loss: 0.0498 - accuracy: 0.9846 - val_loss: 1.0938 - val_accuracy: 0.7793\n",
      "Epoch 10/15\n",
      "110/110 [==============================] - 41s 371ms/step - loss: 0.0470 - accuracy: 0.9869 - val_loss: 1.0863 - val_accuracy: 0.7880\n",
      "Epoch 11/15\n",
      "110/110 [==============================] - 41s 377ms/step - loss: 0.0227 - accuracy: 0.9947 - val_loss: 1.1688 - val_accuracy: 0.7863\n",
      "Epoch 12/15\n",
      "110/110 [==============================] - 41s 370ms/step - loss: 0.0170 - accuracy: 0.9959 - val_loss: 1.2485 - val_accuracy: 0.7797\n",
      "Epoch 13/15\n",
      "110/110 [==============================] - 41s 368ms/step - loss: 0.0120 - accuracy: 0.9973 - val_loss: 1.2698 - val_accuracy: 0.7990\n",
      "Epoch 14/15\n",
      "110/110 [==============================] - 41s 369ms/step - loss: 0.0139 - accuracy: 0.9968 - val_loss: 1.2486 - val_accuracy: 0.7897\n",
      "Epoch 15/15\n",
      "110/110 [==============================] - 41s 369ms/step - loss: 0.0243 - accuracy: 0.9937 - val_loss: 1.2341 - val_accuracy: 0.7697\n",
      "Time:  0:10:18.130715\n"
     ]
    }
   ],
   "source": [
    "model = Sequential([\n",
    "    layers.Conv2D(128, (3, 3), activation = 'relu', padding = 'same', input_shape = (150, 150, 3)),\n",
    "    layers.MaxPooling2D(2, 2),\n",
    "    layers.Conv2D(64, (3, 3), activation = 'relu', padding = 'same'),\n",
    "    layers.MaxPooling2D(2, 2),\n",
    "    layers.Conv2D(32, (3, 3), activation = 'relu', padding = 'same'),\n",
    "    layers.Flatten(),\n",
    "    layers.Dense(256, activation='relu'),\n",
    "    layers.Dense(128, activation='relu'),\n",
    "    layers.Dense(6, activation='softmax')\n",
    "])\n",
    "model.compile(optimizer = 'adam', loss = 'categorical_crossentropy', metrics=['accuracy'])\n",
    "\n",
    "saveModel(model, 'model11.png')\n",
    "\n",
    "time_start = datetime.now()\n",
    "history = model.fit_generator(train_data, steps_per_epoch=len(train_data), shuffle=True, epochs=EPOCHS, validation_steps=len(test_data), validation_data=test_data)\n",
    "print('Time: ', datetime.now() - time_start)"
   ]
  },
  {
   "cell_type": "markdown",
   "metadata": {},
   "source": [
    "## Конфигурация №12"
   ]
  },
  {
   "cell_type": "code",
   "execution_count": 18,
   "metadata": {},
   "outputs": [
    {
     "name": "stdout",
     "output_type": "stream",
     "text": [
      "Model: \"sequential_11\"\n",
      "_________________________________________________________________\n",
      "Layer (type)                 Output Shape              Param #   \n",
      "=================================================================\n",
      "conv2d_17 (Conv2D)           (None, 150, 150, 128)     3584      \n",
      "_________________________________________________________________\n",
      "max_pooling2d_12 (MaxPooling (None, 75, 75, 128)       0         \n",
      "_________________________________________________________________\n",
      "conv2d_18 (Conv2D)           (None, 75, 75, 64)        73792     \n",
      "_________________________________________________________________\n",
      "max_pooling2d_13 (MaxPooling (None, 37, 37, 64)        0         \n",
      "_________________________________________________________________\n",
      "conv2d_19 (Conv2D)           (None, 37, 37, 32)        18464     \n",
      "_________________________________________________________________\n",
      "flatten_11 (Flatten)         (None, 43808)             0         \n",
      "_________________________________________________________________\n",
      "dense_33 (Dense)             (None, 256)               11215104  \n",
      "_________________________________________________________________\n",
      "dense_34 (Dense)             (None, 128)               32896     \n",
      "_________________________________________________________________\n",
      "dense_35 (Dense)             (None, 6)                 774       \n",
      "=================================================================\n",
      "Total params: 11,344,614\n",
      "Trainable params: 11,344,614\n",
      "Non-trainable params: 0\n",
      "_________________________________________________________________\n",
      "Epoch 1/15\n",
      "110/110 [==============================] - 43s 393ms/step - loss: 1.5830 - accuracy: 0.5535 - val_loss: 0.9330 - val_accuracy: 0.6637\n",
      "Epoch 2/15\n",
      "110/110 [==============================] - 42s 386ms/step - loss: 0.8028 - accuracy: 0.7075 - val_loss: 0.7306 - val_accuracy: 0.7303\n",
      "Epoch 3/15\n",
      "110/110 [==============================] - 43s 388ms/step - loss: 0.6501 - accuracy: 0.7641 - val_loss: 0.7223 - val_accuracy: 0.7453\n",
      "Epoch 4/15\n",
      "110/110 [==============================] - 43s 393ms/step - loss: 0.5331 - accuracy: 0.8039 - val_loss: 0.6019 - val_accuracy: 0.7907\n",
      "Epoch 5/15\n",
      "110/110 [==============================] - 43s 386ms/step - loss: 0.4364 - accuracy: 0.8427 - val_loss: 0.5975 - val_accuracy: 0.7910\n",
      "Epoch 6/15\n",
      "110/110 [==============================] - 42s 386ms/step - loss: 0.3110 - accuracy: 0.8883 - val_loss: 0.7173 - val_accuracy: 0.7687\n",
      "Epoch 7/15\n",
      "110/110 [==============================] - 43s 387ms/step - loss: 0.2404 - accuracy: 0.9173 - val_loss: 0.7258 - val_accuracy: 0.7743\n",
      "Epoch 8/15\n",
      "110/110 [==============================] - 42s 386ms/step - loss: 0.1415 - accuracy: 0.9534 - val_loss: 0.7983 - val_accuracy: 0.7717\n",
      "Epoch 9/15\n",
      "110/110 [==============================] - 42s 386ms/step - loss: 0.0912 - accuracy: 0.9723 - val_loss: 0.9272 - val_accuracy: 0.7730\n",
      "Epoch 10/15\n",
      "110/110 [==============================] - 42s 384ms/step - loss: 0.0657 - accuracy: 0.9815 - val_loss: 0.9758 - val_accuracy: 0.7820\n",
      "Epoch 11/15\n",
      "110/110 [==============================] - 43s 392ms/step - loss: 0.0392 - accuracy: 0.9910 - val_loss: 1.0603 - val_accuracy: 0.7650\n",
      "Epoch 12/15\n",
      "110/110 [==============================] - 43s 387ms/step - loss: 0.0384 - accuracy: 0.9895 - val_loss: 1.0433 - val_accuracy: 0.7750\n",
      "Epoch 13/15\n",
      "110/110 [==============================] - 42s 386ms/step - loss: 0.0346 - accuracy: 0.9900 - val_loss: 1.2258 - val_accuracy: 0.7513\n",
      "Epoch 14/15\n",
      "110/110 [==============================] - 42s 385ms/step - loss: 0.0344 - accuracy: 0.9903 - val_loss: 1.3094 - val_accuracy: 0.7577\n",
      "Epoch 15/15\n",
      "110/110 [==============================] - 43s 386ms/step - loss: 0.0872 - accuracy: 0.9709 - val_loss: 1.2976 - val_accuracy: 0.7430\n",
      "Time:  0:10:39.308112\n"
     ]
    }
   ],
   "source": [
    "model = Sequential([\n",
    "    layers.Conv2D(128, (3, 3), activation = 'tanh', padding = 'same', input_shape = (150, 150, 3)),\n",
    "    layers.MaxPooling2D(2, 2),\n",
    "    layers.Conv2D(64, (3, 3), activation = 'tanh', padding = 'same'),\n",
    "    layers.MaxPooling2D(2, 2),\n",
    "    layers.Conv2D(32, (3, 3), activation = 'tanh', padding = 'same'),\n",
    "    layers.Flatten(),\n",
    "    layers.Dense(256, activation='relu'),\n",
    "    layers.Dense(128, activation='relu'),\n",
    "    layers.Dense(6, activation='softmax')\n",
    "])\n",
    "model.compile(optimizer = 'adam', loss = 'categorical_crossentropy', metrics=['accuracy'])\n",
    "\n",
    "saveModel(model, 'model12.png')\n",
    "\n",
    "time_start = datetime.now()\n",
    "history = model.fit_generator(train_data, steps_per_epoch=len(train_data), shuffle=True, epochs=EPOCHS, validation_steps=len(test_data), validation_data=test_data)\n",
    "print('Time: ', datetime.now() - time_start)"
   ]
  }
 ],
 "metadata": {
  "kernelspec": {
   "display_name": "Python 3",
   "language": "python",
   "name": "python3"
  },
  "language_info": {
   "codemirror_mode": {
    "name": "ipython",
    "version": 3
   },
   "file_extension": ".py",
   "mimetype": "text/x-python",
   "name": "python",
   "nbconvert_exporter": "python",
   "pygments_lexer": "ipython3",
   "version": "3.6.6"
  }
 },
 "nbformat": 4,
 "nbformat_minor": 1
}
