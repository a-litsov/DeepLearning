{
 "cells": [
  {
   "cell_type": "code",
   "execution_count": 12,
   "metadata": {},
   "outputs": [],
   "source": [
    "from keras.preprocessing.image import ImageDataGenerator\n",
    "\n",
    "from keras.models import Sequential, Model\n",
    "from keras import layers\n",
    "from keras.optimizers import SGD\n",
    "from sklearn.utils import shuffle\n",
    "from keras import optimizers\n",
    "\n",
    "import numpy as np\n",
    "import matplotlib.pyplot as plt\n",
    "\n",
    "from datetime import datetime"
   ]
  },
  {
   "cell_type": "markdown",
   "metadata": {},
   "source": [
    "### Загрузка данных"
   ]
  },
  {
   "cell_type": "code",
   "execution_count": 2,
   "metadata": {},
   "outputs": [
    {
     "name": "stdout",
     "output_type": "stream",
     "text": [
      "Found 14034 images belonging to 6 classes.\n",
      "Found 3000 images belonging to 6 classes.\n"
     ]
    }
   ],
   "source": [
    "datagen = ImageDataGenerator(rescale=1./255)\n",
    "    \n",
    "train_data = datagen.flow_from_directory('C:/Users/User/Desktop/Deep/intel-image-classification/seg_train/seg_train/',\n",
    "                                        target_size=(150, 150),\n",
    "                                        batch_size=14034,\n",
    "                                        class_mode='categorical',\n",
    "                                        shuffle=True)\n",
    "\n",
    "test_data = datagen.flow_from_directory('C:/Users/User/Desktop/Deep/intel-image-classification/seg_test/seg_test/',\n",
    "                                        target_size=(150, 150),\n",
    "                                        batch_size=3000,\n",
    "                                        class_mode='categorical',\n",
    "                                        shuffle=True)\n",
    "\n",
    "\n",
    "train_images, train_labels = train_data.next()\n",
    "test_images, test_labels = test_data.next()"
   ]
  },
  {
   "cell_type": "markdown",
   "metadata": {},
   "source": [
    "### Архитектура сети"
   ]
  },
  {
   "cell_type": "code",
   "execution_count": 4,
   "metadata": {},
   "outputs": [],
   "source": [
    "model = Sequential()\n",
    "model.add(layers.Flatten(input_shape=train_images.shape[1:]))\n",
    "\n",
    "model.add(layers.Dense(100, activation='relu', name='dense_one'))\n",
    "model.add(layers.Dropout(0.5, name='dropout_one'))\n",
    "\n",
    "model.add(layers.Dense(6, activation='softmax', name='output'))\n",
    "\n",
    "model.compile(optimizer='rmsprop', \n",
    "              loss='categorical_crossentropy', \n",
    "              metrics=['accuracy'])"
   ]
  },
  {
   "cell_type": "code",
   "execution_count": 5,
   "metadata": {},
   "outputs": [
    {
     "name": "stdout",
     "output_type": "stream",
     "text": [
      "Train on 14034 samples, validate on 3000 samples\n",
      "Epoch 1/5\n",
      "14034/14034 [==============================] - 74s 5ms/step - loss: 12.8730 - acc: 0.1835 - val_loss: 13.3003 - val_acc: 0.1710\n",
      "Epoch 2/5\n",
      "14034/14034 [==============================] - 39s 3ms/step - loss: 12.1479 - acc: 0.2322 - val_loss: 11.4345 - val_acc: 0.2830\n",
      "Epoch 3/5\n",
      "14034/14034 [==============================] - 31s 2ms/step - loss: 7.0672 - acc: 0.2515 - val_loss: 1.7497 - val_acc: 0.1777\n",
      "Epoch 4/5\n",
      "14034/14034 [==============================] - 31s 2ms/step - loss: 1.8324 - acc: 0.2235 - val_loss: 1.6934 - val_acc: 0.2743\n",
      "Epoch 5/5\n",
      "14034/14034 [==============================] - 31s 2ms/step - loss: 1.7644 - acc: 0.2475 - val_loss: 1.7037 - val_acc: 0.2513\n",
      "Time:  0:03:28.061723\n"
     ]
    }
   ],
   "source": [
    "time_start = datetime.now()\n",
    "history = model.fit(train_images, train_labels, epochs=5, batch_size=128, validation_data=(test_images, test_labels))\n",
    "time = datetime.now() - time_start\n",
    "print('Time: ', time)"
   ]
  },
  {
   "cell_type": "code",
   "execution_count": 6,
   "metadata": {},
   "outputs": [
    {
     "name": "stdout",
     "output_type": "stream",
     "text": [
      "3000/3000 [==============================] - 18s 6ms/step\n"
     ]
    }
   ],
   "source": [
    "results = model.evaluate(test_images, test_labels)"
   ]
  },
  {
   "cell_type": "code",
   "execution_count": 7,
   "metadata": {},
   "outputs": [
    {
     "data": {
      "text/plain": [
       "[1.7037455724080404, 0.2513333332935969]"
      ]
     },
     "execution_count": 7,
     "metadata": {},
     "output_type": "execute_result"
    }
   ],
   "source": [
    "results"
   ]
  },
  {
   "cell_type": "markdown",
   "metadata": {},
   "source": [
    "### Архитектура сети"
   ]
  },
  {
   "cell_type": "code",
   "execution_count": 14,
   "metadata": {},
   "outputs": [
    {
     "name": "stdout",
     "output_type": "stream",
     "text": [
      "Train on 14034 samples, validate on 3000 samples\n",
      "Epoch 1/5\n",
      "14034/14034 [==============================] - 206s 15ms/step - loss: 13.0878 - acc: 0.1783 - val_loss: 13.2974 - val_acc: 0.1750\n",
      "Epoch 2/5\n",
      "14034/14034 [==============================] - 95s 7ms/step - loss: 13.2331 - acc: 0.1790 - val_loss: 13.2974 - val_acc: 0.1750\n",
      "Epoch 3/5\n",
      "14034/14034 [==============================] - 211s 15ms/step - loss: 13.2331 - acc: 0.1790 - val_loss: 13.2974 - val_acc: 0.1750\n",
      "Epoch 4/5\n",
      "14034/14034 [==============================] - 189s 13ms/step - loss: 13.2331 - acc: 0.1790 - val_loss: 13.2974 - val_acc: 0.1750\n",
      "Epoch 5/5\n",
      "14034/14034 [==============================] - 155s 11ms/step - loss: 13.2331 - acc: 0.1790 - val_loss: 13.2974 - val_acc: 0.1750\n",
      "Time:  0:14:21.972512\n"
     ]
    }
   ],
   "source": [
    "model = Sequential()\n",
    "model.add(layers.Flatten(input_shape=train_images.shape[1:]))\n",
    "\n",
    "model.add(layers.Dense(100, activation='relu'))\n",
    "\n",
    "model.add(layers.Dense(100, activation='relu'))\n",
    "\n",
    "model.add(layers.Dense(6, activation='softmax'))\n",
    "\n",
    "optimizer=optimizers.SGD(lr=0.1)\n",
    "model.compile(optimizer, \n",
    "              loss='categorical_crossentropy', \n",
    "              metrics=['accuracy'])\n",
    "\n",
    "time_start = datetime.now()\n",
    "history2 = model.fit(train_images, train_labels, shuffle=True, epochs=5, batch_size=128, validation_data=(test_images, test_labels))\n",
    "time = datetime.now() - time_start\n",
    "print('Time: ', time)"
   ]
  }
 ],
 "metadata": {
  "kernelspec": {
   "display_name": "Python 3.6 (tensorflow)",
   "language": "python",
   "name": "tensorflow"
  },
  "language_info": {
   "codemirror_mode": {
    "name": "ipython",
    "version": 3
   },
   "file_extension": ".py",
   "mimetype": "text/x-python",
   "name": "python",
   "nbconvert_exporter": "python",
   "pygments_lexer": "ipython3",
   "version": "3.6.9"
  }
 },
 "nbformat": 4,
 "nbformat_minor": 2
}
