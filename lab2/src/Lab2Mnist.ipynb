{
 "cells": [
  {
   "cell_type": "code",
   "execution_count": 2,
   "metadata": {
    "scrolled": true
   },
   "outputs": [
    {
     "name": "stderr",
     "output_type": "stream",
     "text": [
      "Using TensorFlow backend.\n"
     ]
    }
   ],
   "source": [
    "import tensorflow.keras\n",
    "import tensorflow as tf\n",
    "from keras.utils import to_categorical\n",
    "from keras import optimizers\n",
    "#from keras.optimizers import SGD\n",
    "from datetime import datetime"
   ]
  },
  {
   "cell_type": "markdown",
   "metadata": {},
   "source": [
    " ### Задача \n",
    "Разработка и запуск тестового примера сети,\n",
    "соответствующей логистической регрессии, для решения задачи классификации рукописных\n",
    "цифр набора данных MNIST "
   ]
  },
  {
   "cell_type": "code",
   "execution_count": 3,
   "metadata": {},
   "outputs": [],
   "source": [
    "#загрузка набора данных MNIST\n",
    "from keras.datasets import mnist\n",
    "(train_images, train_labels), (test_images, test_labels) = mnist.load_data()"
   ]
  },
  {
   "cell_type": "markdown",
   "metadata": {},
   "source": [
    "##### Тренировочный набор."
   ]
  },
  {
   "cell_type": "code",
   "execution_count": 4,
   "metadata": {},
   "outputs": [
    {
     "data": {
      "text/plain": [
       "(60000, 28, 28)"
      ]
     },
     "execution_count": 4,
     "metadata": {},
     "output_type": "execute_result"
    }
   ],
   "source": [
    "#тренировочный набор данных состоит из 60 000 изображений\n",
    "train_images.shape"
   ]
  },
  {
   "cell_type": "markdown",
   "metadata": {},
   "source": [
    "##### Тестовый набор."
   ]
  },
  {
   "cell_type": "code",
   "execution_count": 5,
   "metadata": {},
   "outputs": [
    {
     "data": {
      "text/plain": [
       "(10000, 28, 28)"
      ]
     },
     "execution_count": 5,
     "metadata": {},
     "output_type": "execute_result"
    }
   ],
   "source": [
    "#тестовый набор данных состоит из 10 000 изображений\n",
    "test_images.shape"
   ]
  },
  {
   "cell_type": "markdown",
   "metadata": {},
   "source": [
    "### Подготовка исходных данных."
   ]
  },
  {
   "cell_type": "code",
   "execution_count": 6,
   "metadata": {},
   "outputs": [],
   "source": [
    "#Преобразуем данные в массив (60 000, 28, 28) типа float32 со значениями в интервале [0,1]:\n",
    "train_images = train_images.reshape((60000, 28 * 28))\n",
    "train_images = train_images.astype('float32') / 255\n",
    "\n",
    "test_images = test_images.reshape((10000, 28 * 28))\n",
    "test_images = test_images.astype('float32') / 255"
   ]
  },
  {
   "cell_type": "markdown",
   "metadata": {},
   "source": [
    "##### Подготовка меток:"
   ]
  },
  {
   "cell_type": "code",
   "execution_count": 7,
   "metadata": {},
   "outputs": [
    {
     "data": {
      "text/plain": [
       "10"
      ]
     },
     "execution_count": 7,
     "metadata": {},
     "output_type": "execute_result"
    }
   ],
   "source": [
    "train_labels = to_categorical(train_labels) #приводит к одинаковой длине\n",
    "test_labels = to_categorical(test_labels)\n",
    "\n",
    "#10-мерный вектор, состоящий из 0, кроме \n",
    "len(train_labels[0])"
   ]
  },
  {
   "cell_type": "markdown",
   "metadata": {},
   "source": [
    "### Построение модели."
   ]
  },
  {
   "cell_type": "code",
   "execution_count": 8,
   "metadata": {},
   "outputs": [],
   "source": [
    "from keras import models\n",
    "from keras import layers"
   ]
  },
  {
   "cell_type": "code",
   "execution_count": 12,
   "metadata": {},
   "outputs": [],
   "source": [
    "#Sequential : линейный стек слоев оттображает единственный вход в единственный выход\n",
    "network = models.Sequential()\n",
    "\n",
    "#Dense : полносвязный слой\n",
    "num_hidden_neurons = 32\n",
    "num_classes = 10\n",
    "\n",
    "network.add(layers.Dense(num_classes, activation='softmax', input_shape=(28*28,)))"
   ]
  },
  {
   "cell_type": "code",
   "execution_count": 13,
   "metadata": {},
   "outputs": [
    {
     "name": "stdout",
     "output_type": "stream",
     "text": [
      "Train on 60000 samples, validate on 10000 samples\n",
      "Epoch 1/20\n",
      "60000/60000 [==============================] - 1s 23us/step - loss: 1.2842 - acc: 0.8584 - val_loss: 0.9022 - val_acc: 0.9068\n",
      "Epoch 2/20\n",
      "60000/60000 [==============================] - 1s 19us/step - loss: 1.0379 - acc: 0.8986 - val_loss: 1.3050 - val_acc: 0.8827\n",
      "Epoch 3/20\n",
      "60000/60000 [==============================] - 1s 18us/step - loss: 1.0132 - acc: 0.9071 - val_loss: 1.1592 - val_acc: 0.8959\n",
      "Epoch 4/20\n",
      "60000/60000 [==============================] - 1s 18us/step - loss: 1.0072 - acc: 0.9124 - val_loss: 1.0461 - val_acc: 0.9127\n",
      "Epoch 5/20\n",
      "60000/60000 [==============================] - 1s 20us/step - loss: 1.0101 - acc: 0.9153 - val_loss: 1.0341 - val_acc: 0.9152\n",
      "Epoch 6/20\n",
      "60000/60000 [==============================] - 1s 20us/step - loss: 0.9676 - acc: 0.9198 - val_loss: 1.0005 - val_acc: 0.9209\n",
      "Epoch 7/20\n",
      "60000/60000 [==============================] - 1s 19us/step - loss: 0.9821 - acc: 0.9205 - val_loss: 1.1168 - val_acc: 0.9110\n",
      "Epoch 8/20\n",
      "60000/60000 [==============================] - 1s 18us/step - loss: 0.9875 - acc: 0.9213 - val_loss: 0.9623 - val_acc: 0.9236\n",
      "Epoch 9/20\n",
      "60000/60000 [==============================] - 1s 20us/step - loss: 0.9762 - acc: 0.9224 - val_loss: 1.0002 - val_acc: 0.9209\n",
      "Epoch 10/20\n",
      "60000/60000 [==============================] - 1s 19us/step - loss: 0.9613 - acc: 0.9236 - val_loss: 1.1447 - val_acc: 0.9105\n",
      "Epoch 11/20\n",
      "60000/60000 [==============================] - 1s 19us/step - loss: 0.9613 - acc: 0.9246 - val_loss: 1.0677 - val_acc: 0.9190\n",
      "Epoch 12/20\n",
      "60000/60000 [==============================] - 1s 18us/step - loss: 0.9548 - acc: 0.9255 - val_loss: 1.0253 - val_acc: 0.9223\n",
      "Epoch 13/20\n",
      "60000/60000 [==============================] - 1s 18us/step - loss: 0.9347 - acc: 0.9271 - val_loss: 1.0918 - val_acc: 0.9147\n",
      "Epoch 14/20\n",
      "60000/60000 [==============================] - 1s 18us/step - loss: 0.9344 - acc: 0.9277 - val_loss: 1.0183 - val_acc: 0.9233\n",
      "Epoch 15/20\n",
      "60000/60000 [==============================] - 1s 18us/step - loss: 0.9495 - acc: 0.9274 - val_loss: 1.0677 - val_acc: 0.9188\n",
      "Epoch 16/20\n",
      "60000/60000 [==============================] - 1s 18us/step - loss: 0.9572 - acc: 0.9277 - val_loss: 0.9966 - val_acc: 0.9239\n",
      "Epoch 17/20\n",
      "60000/60000 [==============================] - 1s 18us/step - loss: 0.9511 - acc: 0.9284 - val_loss: 1.0815 - val_acc: 0.9202\n",
      "Epoch 18/20\n",
      "60000/60000 [==============================] - 1s 18us/step - loss: 0.9364 - acc: 0.9295 - val_loss: 1.0216 - val_acc: 0.9250\n",
      "Epoch 19/20\n",
      "60000/60000 [==============================] - 1s 18us/step - loss: 0.9356 - acc: 0.9298 - val_loss: 1.0320 - val_acc: 0.9252\n",
      "Epoch 20/20\n",
      "60000/60000 [==============================] - 1s 18us/step - loss: 0.9234 - acc: 0.9309 - val_loss: 1.0433 - val_acc: 0.9232\n",
      "Time:  0:00:22.850282\n",
      "10000/10000 [==============================] - 0s 19us/step\n",
      "[1.0432829287755405, 0.9232]\n"
     ]
    }
   ],
   "source": [
    "optimizer=optimizers.RMSprop(lr=0.1)\n",
    "network.compile(optimizer, loss='categorical_crossentropy', metrics=['accuracy'])\n",
    "\n",
    "time_start = datetime.now()\n",
    "history = network.fit(train_images, train_labels, shuffle=True, epochs=20, batch_size=128, validation_data=(test_images, test_labels))\n",
    "time = datetime.now() - time_start\n",
    "print('Time: ', time)\n",
    "\n",
    "results = network.evaluate(test_images, test_labels)\n",
    "print(results)\n",
    "#пакетным стохастическим градиентным спуском"
   ]
  }
 ],
 "metadata": {
  "kernelspec": {
   "display_name": "Python 3.6 (tensorflow)",
   "language": "python",
   "name": "tensorflow"
  },
  "language_info": {
   "codemirror_mode": {
    "name": "ipython",
    "version": 3
   },
   "file_extension": ".py",
   "mimetype": "text/x-python",
   "name": "python",
   "nbconvert_exporter": "python",
   "pygments_lexer": "ipython3",
   "version": "3.6.9"
  }
 },
 "nbformat": 4,
 "nbformat_minor": 2
}
